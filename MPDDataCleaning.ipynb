{
 "cells": [
  {
   "cell_type": "markdown",
   "metadata": {},
   "source": [
    "# Introduction\n",
    "This notebook is used to clean the MPD (Milwaukee Police Department) dataset. Explanations will be included for some decisions in cleaning.\n",
    "\n",
    "# Dataset Description\n",
    "The first data set that will be evaluated in this notebook is stored in `mkecallswheader.csv`. This dataset comes from requesting the bulk data option from a [website](https://mpd.digitalpublicworks.com/?start=2019-01-05T00:00:00-06:00&end=2019-01-05T23:59:59.999999-06:00) that scrapes the milwaukee police department call logs found [here](https://itmdapps.milwaukee.gov/MPDCallData/) and stores them. This data is stored in a postgres server. The official .gov site shows that the data should have headers of call number, date/time, location, police district, nature of call, and status. The bulk data stored in the .csv file has a couple extra headers of id, inserted_at, updated_at, and point. These features will need to be dropped later on since they do not pertain to the data itself and are an artifact of how the data was stored.\n",
    "\n",
    "# Imports\n",
    "These are the libraries that will be relvant for cleaning this dataset."
   ]
  },
  {
   "cell_type": "code",
   "execution_count": 1,
   "metadata": {},
   "outputs": [],
   "source": [
    "import pandas as pd\n",
    "import numpy as np"
   ]
  },
  {
   "cell_type": "markdown",
   "metadata": {},
   "source": [
    "# Cleaning the Dataset\n",
    "The following sections walk through the steps used to clean the MPD dataset.\n",
    "\n",
    "## Load the Raw Data\n",
    "This section loads the raw data and examines how it is originally formatted."
   ]
  },
  {
   "cell_type": "code",
   "execution_count": 2,
   "metadata": {},
   "outputs": [],
   "source": [
    "mpd_data = pd.read_csv(\"mkecallswheader.csv\")"
   ]
  },
  {
   "cell_type": "code",
   "execution_count": 3,
   "metadata": {},
   "outputs": [
    {
     "data": {
      "text/html": [
       "<div>\n",
       "<style scoped>\n",
       "    .dataframe tbody tr th:only-of-type {\n",
       "        vertical-align: middle;\n",
       "    }\n",
       "\n",
       "    .dataframe tbody tr th {\n",
       "        vertical-align: top;\n",
       "    }\n",
       "\n",
       "    .dataframe thead th {\n",
       "        text-align: right;\n",
       "    }\n",
       "</style>\n",
       "<table border=\"1\" class=\"dataframe\">\n",
       "  <thead>\n",
       "    <tr style=\"text-align: right;\">\n",
       "      <th></th>\n",
       "      <th>id</th>\n",
       "      <th>time</th>\n",
       "      <th>location</th>\n",
       "      <th>district</th>\n",
       "      <th>nature</th>\n",
       "      <th>status</th>\n",
       "      <th>inserted_at</th>\n",
       "      <th>updated_at</th>\n",
       "      <th>point</th>\n",
       "      <th>call_id</th>\n",
       "    </tr>\n",
       "  </thead>\n",
       "  <tbody>\n",
       "    <tr>\n",
       "      <th>0</th>\n",
       "      <td>2093116</td>\n",
       "      <td>2019-05-21 15:19:03</td>\n",
       "      <td>7420 W GOOD HOPE RD,MKE</td>\n",
       "      <td>4</td>\n",
       "      <td>ACC PI</td>\n",
       "      <td>Service in Progress</td>\n",
       "      <td>2019-05-21 20:51:09</td>\n",
       "      <td>2019-05-21 20:51:09</td>\n",
       "      <td>0101000020E6100000FC7C94111793454061D971683600...</td>\n",
       "      <td>191411633</td>\n",
       "    </tr>\n",
       "    <tr>\n",
       "      <th>1</th>\n",
       "      <td>2093127</td>\n",
       "      <td>2019-05-21 15:24:30</td>\n",
       "      <td>1421 N 27TH ST,MKE</td>\n",
       "      <td>3</td>\n",
       "      <td>TRAFFIC STOP</td>\n",
       "      <td>City Citation(s) Issued</td>\n",
       "      <td>2019-05-21 20:57:11</td>\n",
       "      <td>2019-05-21 20:57:11</td>\n",
       "      <td>0101000020E6100000D2AB014A4386454067C416CCA9FC...</td>\n",
       "      <td>191411672</td>\n",
       "    </tr>\n",
       "    <tr>\n",
       "      <th>2</th>\n",
       "      <td>2093141</td>\n",
       "      <td>2019-05-21 15:25:46</td>\n",
       "      <td>4054 N 71ST ST,MKE</td>\n",
       "      <td>7</td>\n",
       "      <td>SUBJ WANTED</td>\n",
       "      <td>Assignment Completed</td>\n",
       "      <td>2019-05-21 21:00:12</td>\n",
       "      <td>2019-05-21 21:00:12</td>\n",
       "      <td>0101000020E610000053FFC5D8AE8B45402CAE3B270700...</td>\n",
       "      <td>191411674</td>\n",
       "    </tr>\n",
       "    <tr>\n",
       "      <th>3</th>\n",
       "      <td>2093805</td>\n",
       "      <td>2019-05-21 20:46:28</td>\n",
       "      <td>245 W LINCOLN AV,MKE</td>\n",
       "      <td>2</td>\n",
       "      <td>SPECIAL ASSIGN</td>\n",
       "      <td>Service in Progress</td>\n",
       "      <td>2019-05-22 02:22:32</td>\n",
       "      <td>2019-05-22 02:22:32</td>\n",
       "      <td>0101000020E610000078ABF8D04F804540633ABE0779FA...</td>\n",
       "      <td>191412545</td>\n",
       "    </tr>\n",
       "    <tr>\n",
       "      <th>4</th>\n",
       "      <td>2093816</td>\n",
       "      <td>2019-05-21 20:50:03</td>\n",
       "      <td>1721 W CANAL ST,MKE</td>\n",
       "      <td>3</td>\n",
       "      <td>TRBL W/SUBJ</td>\n",
       "      <td>Unable to Locate Complainant</td>\n",
       "      <td>2019-05-22 02:25:33</td>\n",
       "      <td>2019-05-22 02:25:33</td>\n",
       "      <td>0101000020E6100000E8323509DE834540C3D7D7BAD4FB...</td>\n",
       "      <td>191412465</td>\n",
       "    </tr>\n",
       "    <tr>\n",
       "      <th>5</th>\n",
       "      <td>2093829</td>\n",
       "      <td>2019-05-21 21:02:37</td>\n",
       "      <td>E WRIGHT ST / N WEIL ST,MKE</td>\n",
       "      <td>5</td>\n",
       "      <td>PARK AND WALK</td>\n",
       "      <td>Service in Progress</td>\n",
       "      <td>2019-05-22 02:37:36</td>\n",
       "      <td>2019-05-22 02:37:36</td>\n",
       "      <td>0101000020E6100000DEF1DC312B88454059D878558CF9...</td>\n",
       "      <td>191412584</td>\n",
       "    </tr>\n",
       "    <tr>\n",
       "      <th>6</th>\n",
       "      <td>2093872</td>\n",
       "      <td>2019-05-21 20:50:47</td>\n",
       "      <td>9010 N 95TH ST,MKE</td>\n",
       "      <td>4</td>\n",
       "      <td>WELFARE CITIZEN</td>\n",
       "      <td>Advised</td>\n",
       "      <td>2019-05-22 02:52:43</td>\n",
       "      <td>2019-05-22 02:52:43</td>\n",
       "      <td>0101000020E6100000357D76C07597454080B4FF01D601...</td>\n",
       "      <td>191412544</td>\n",
       "    </tr>\n",
       "    <tr>\n",
       "      <th>7</th>\n",
       "      <td>2093887</td>\n",
       "      <td>2019-05-21 21:25:33</td>\n",
       "      <td>983 W ARTHUR AV,MKE</td>\n",
       "      <td>2</td>\n",
       "      <td>BATTERY DV</td>\n",
       "      <td>Service in Progress</td>\n",
       "      <td>2019-05-22 03:01:48</td>\n",
       "      <td>2019-05-22 03:01:48</td>\n",
       "      <td>0101000020E6100000BC033C69E17F454041ABDDC02EFB...</td>\n",
       "      <td>191412632</td>\n",
       "    </tr>\n",
       "    <tr>\n",
       "      <th>8</th>\n",
       "      <td>2093918</td>\n",
       "      <td>2019-05-21 21:36:05</td>\n",
       "      <td>4115 N 56TH ST,MKE</td>\n",
       "      <td>7</td>\n",
       "      <td>RETURN STATION</td>\n",
       "      <td>Assignment Completed</td>\n",
       "      <td>2019-05-22 03:16:51</td>\n",
       "      <td>2019-05-22 03:16:51</td>\n",
       "      <td>0101000020E610000014483FD0C08B45404EB747CAF1FE...</td>\n",
       "      <td>191412656</td>\n",
       "    </tr>\n",
       "    <tr>\n",
       "      <th>9</th>\n",
       "      <td>2093929</td>\n",
       "      <td>2019-05-21 21:45:53</td>\n",
       "      <td>7806 W HAMPTON AV,MKE</td>\n",
       "      <td>7</td>\n",
       "      <td>TRAFFIC STOP</td>\n",
       "      <td>Advised</td>\n",
       "      <td>2019-05-22 03:22:52</td>\n",
       "      <td>2019-05-22 03:22:52</td>\n",
       "      <td>0101000020E6100000F6F0C05B7B8D45404F34B4A69E00...</td>\n",
       "      <td>191412676</td>\n",
       "    </tr>\n",
       "  </tbody>\n",
       "</table>\n",
       "</div>"
      ],
      "text/plain": [
       "        id                 time                     location district  \\\n",
       "0  2093116  2019-05-21 15:19:03      7420 W GOOD HOPE RD,MKE        4   \n",
       "1  2093127  2019-05-21 15:24:30           1421 N 27TH ST,MKE        3   \n",
       "2  2093141  2019-05-21 15:25:46           4054 N 71ST ST,MKE        7   \n",
       "3  2093805  2019-05-21 20:46:28         245 W LINCOLN AV,MKE        2   \n",
       "4  2093816  2019-05-21 20:50:03          1721 W CANAL ST,MKE        3   \n",
       "5  2093829  2019-05-21 21:02:37  E WRIGHT ST / N WEIL ST,MKE        5   \n",
       "6  2093872  2019-05-21 20:50:47           9010 N 95TH ST,MKE        4   \n",
       "7  2093887  2019-05-21 21:25:33          983 W ARTHUR AV,MKE        2   \n",
       "8  2093918  2019-05-21 21:36:05           4115 N 56TH ST,MKE        7   \n",
       "9  2093929  2019-05-21 21:45:53        7806 W HAMPTON AV,MKE        7   \n",
       "\n",
       "            nature                        status          inserted_at  \\\n",
       "0           ACC PI           Service in Progress  2019-05-21 20:51:09   \n",
       "1     TRAFFIC STOP       City Citation(s) Issued  2019-05-21 20:57:11   \n",
       "2      SUBJ WANTED          Assignment Completed  2019-05-21 21:00:12   \n",
       "3   SPECIAL ASSIGN           Service in Progress  2019-05-22 02:22:32   \n",
       "4      TRBL W/SUBJ  Unable to Locate Complainant  2019-05-22 02:25:33   \n",
       "5    PARK AND WALK           Service in Progress  2019-05-22 02:37:36   \n",
       "6  WELFARE CITIZEN                       Advised  2019-05-22 02:52:43   \n",
       "7       BATTERY DV           Service in Progress  2019-05-22 03:01:48   \n",
       "8   RETURN STATION          Assignment Completed  2019-05-22 03:16:51   \n",
       "9     TRAFFIC STOP                       Advised  2019-05-22 03:22:52   \n",
       "\n",
       "            updated_at                                              point  \\\n",
       "0  2019-05-21 20:51:09  0101000020E6100000FC7C94111793454061D971683600...   \n",
       "1  2019-05-21 20:57:11  0101000020E6100000D2AB014A4386454067C416CCA9FC...   \n",
       "2  2019-05-21 21:00:12  0101000020E610000053FFC5D8AE8B45402CAE3B270700...   \n",
       "3  2019-05-22 02:22:32  0101000020E610000078ABF8D04F804540633ABE0779FA...   \n",
       "4  2019-05-22 02:25:33  0101000020E6100000E8323509DE834540C3D7D7BAD4FB...   \n",
       "5  2019-05-22 02:37:36  0101000020E6100000DEF1DC312B88454059D878558CF9...   \n",
       "6  2019-05-22 02:52:43  0101000020E6100000357D76C07597454080B4FF01D601...   \n",
       "7  2019-05-22 03:01:48  0101000020E6100000BC033C69E17F454041ABDDC02EFB...   \n",
       "8  2019-05-22 03:16:51  0101000020E610000014483FD0C08B45404EB747CAF1FE...   \n",
       "9  2019-05-22 03:22:52  0101000020E6100000F6F0C05B7B8D45404F34B4A69E00...   \n",
       "\n",
       "     call_id  \n",
       "0  191411633  \n",
       "1  191411672  \n",
       "2  191411674  \n",
       "3  191412545  \n",
       "4  191412465  \n",
       "5  191412584  \n",
       "6  191412544  \n",
       "7  191412632  \n",
       "8  191412656  \n",
       "9  191412676  "
      ]
     },
     "execution_count": 3,
     "metadata": {},
     "output_type": "execute_result"
    }
   ],
   "source": [
    "mpd_data.head(10)"
   ]
  },
  {
   "cell_type": "code",
   "execution_count": 4,
   "metadata": {},
   "outputs": [
    {
     "name": "stdout",
     "output_type": "stream",
     "text": [
      "<class 'pandas.core.frame.DataFrame'>\n",
      "RangeIndex: 4027695 entries, 0 to 4027694\n",
      "Data columns (total 10 columns):\n",
      " #   Column       Non-Null Count    Dtype \n",
      "---  ------       --------------    ----- \n",
      " 0   id           4027695 non-null  int64 \n",
      " 1   time         4027695 non-null  object\n",
      " 2   location     4027695 non-null  object\n",
      " 3   district     3937463 non-null  object\n",
      " 4   nature       4027695 non-null  object\n",
      " 5   status       4027695 non-null  object\n",
      " 6   inserted_at  4027695 non-null  object\n",
      " 7   updated_at   4027695 non-null  object\n",
      " 8   point        3958766 non-null  object\n",
      " 9   call_id      4027695 non-null  int64 \n",
      "dtypes: int64(2), object(8)\n",
      "memory usage: 307.3+ MB\n"
     ]
    }
   ],
   "source": [
    "mpd_data.info(verbose=True, show_counts=True)"
   ]
  },
  {
   "cell_type": "code",
   "execution_count": 5,
   "metadata": {},
   "outputs": [
    {
     "data": {
      "text/html": [
       "<div>\n",
       "<style scoped>\n",
       "    .dataframe tbody tr th:only-of-type {\n",
       "        vertical-align: middle;\n",
       "    }\n",
       "\n",
       "    .dataframe tbody tr th {\n",
       "        vertical-align: top;\n",
       "    }\n",
       "\n",
       "    .dataframe thead th {\n",
       "        text-align: right;\n",
       "    }\n",
       "</style>\n",
       "<table border=\"1\" class=\"dataframe\">\n",
       "  <thead>\n",
       "    <tr style=\"text-align: right;\">\n",
       "      <th></th>\n",
       "      <th>id</th>\n",
       "      <th>call_id</th>\n",
       "    </tr>\n",
       "  </thead>\n",
       "  <tbody>\n",
       "    <tr>\n",
       "      <th>count</th>\n",
       "      <td>4.027695e+06</td>\n",
       "      <td>4.027695e+06</td>\n",
       "    </tr>\n",
       "    <tr>\n",
       "      <th>mean</th>\n",
       "      <td>5.589211e+06</td>\n",
       "      <td>1.891808e+08</td>\n",
       "    </tr>\n",
       "    <tr>\n",
       "      <th>std</th>\n",
       "      <td>2.392488e+07</td>\n",
       "      <td>1.459309e+07</td>\n",
       "    </tr>\n",
       "    <tr>\n",
       "      <th>min</th>\n",
       "      <td>1.000000e+00</td>\n",
       "      <td>1.630815e+08</td>\n",
       "    </tr>\n",
       "    <tr>\n",
       "      <th>25%</th>\n",
       "      <td>1.006924e+06</td>\n",
       "      <td>1.732129e+08</td>\n",
       "    </tr>\n",
       "    <tr>\n",
       "      <th>50%</th>\n",
       "      <td>2.013848e+06</td>\n",
       "      <td>1.906707e+08</td>\n",
       "    </tr>\n",
       "    <tr>\n",
       "      <th>75%</th>\n",
       "      <td>3.020772e+06</td>\n",
       "      <td>2.016115e+08</td>\n",
       "    </tr>\n",
       "    <tr>\n",
       "      <th>max</th>\n",
       "      <td>1.635417e+08</td>\n",
       "      <td>2.201010e+08</td>\n",
       "    </tr>\n",
       "  </tbody>\n",
       "</table>\n",
       "</div>"
      ],
      "text/plain": [
       "                 id       call_id\n",
       "count  4.027695e+06  4.027695e+06\n",
       "mean   5.589211e+06  1.891808e+08\n",
       "std    2.392488e+07  1.459309e+07\n",
       "min    1.000000e+00  1.630815e+08\n",
       "25%    1.006924e+06  1.732129e+08\n",
       "50%    2.013848e+06  1.906707e+08\n",
       "75%    3.020772e+06  2.016115e+08\n",
       "max    1.635417e+08  2.201010e+08"
      ]
     },
     "execution_count": 5,
     "metadata": {},
     "output_type": "execute_result"
    }
   ],
   "source": [
    "mpd_data.describe()"
   ]
  },
  {
   "cell_type": "markdown",
   "metadata": {},
   "source": [
    "From the above calls to the [`.head()`](https://pandas.pydata.org/docs/reference/api/pandas.DataFrame.head.html), [`.info()`](https://pandas.pydata.org/docs/reference/api/pandas.DataFrame.info.html), and [`.describe()`](https://pandas.pydata.org/docs/reference/api/pandas.DataFrame.describe.html) methods it is possible to see that there are 10 total features. Of these features there are two features that are formatted as integers and eight features formatted as the default object that pandas imports non-numerical features as. From the object classified features there are a few that can be converted to new types. The time column should be formatted as a date time object. District should be converted to a numerical categorical value. Nature and status should be converted to categorical features. Location should be kept as an object feature. More features should be extracted from the location in order to draw further observations. Both street name and street suffix would be good features to extract. Stack overflow [helped](https://stackoverflow.com/a/43427677) with showing null counts in the info command as well.\n",
    "\n",
    "## Drop Postgres Features\n",
    "\n",
    "All of the postgres features that are not part of the data can be dropped in the next step. These are the headers of id, inserted_at, updated_at, and point."
   ]
  },
  {
   "cell_type": "code",
   "execution_count": 6,
   "metadata": {},
   "outputs": [],
   "source": [
    "mpd_data = mpd_data.drop('id', axis=1)\n",
    "mpd_data = mpd_data.drop('inserted_at', axis=1)\n",
    "mpd_data = mpd_data.drop('updated_at', axis=1)\n",
    "mpd_data = mpd_data.drop('point', axis=1)"
   ]
  },
  {
   "cell_type": "markdown",
   "metadata": {},
   "source": [
    "## Convert the Time feature\n",
    "\n",
    "The time should be converted to a pandas datetime object. The feature name should also be changed to reflect that the feature contains both date and time information."
   ]
  },
  {
   "cell_type": "code",
   "execution_count": 7,
   "metadata": {},
   "outputs": [],
   "source": [
    "mpd_data['datetime'] = pd.to_datetime(mpd_data['time'], infer_datetime_format=True)\n",
    "mpd_data = mpd_data.drop('time', axis=1)"
   ]
  },
  {
   "cell_type": "markdown",
   "metadata": {},
   "source": [
    "## Examine Unique Values for Nature, Status, and District\n",
    "\n",
    "The nature, status, and district features will be examined for unique values and converted into categorical features.\n",
    "\n",
    "### Examine the District Feature"
   ]
  },
  {
   "cell_type": "code",
   "execution_count": 8,
   "metadata": {},
   "outputs": [
    {
     "data": {
      "text/plain": [
       "array(['4', '3', '7', '2', '5', '6', '1', nan, 'OCOE', 'OUT', 'NTF',\n",
       "       'SPD', 'CITY', 'ICS3', 'CIB', 'DPR', 'TRU', 'SCD', 'ICS', 'SF',\n",
       "       'NLA', 'ICS1', 'IFC', 'FI', 'SID', 'D0', 'ICS7', 'ICS5', 'JUNE',\n",
       "       'DDAC', 'MIRT', 'ICS6', 'ID', 'ADMN', 'TEU', 'MID', 'NID'],\n",
       "      dtype=object)"
      ]
     },
     "execution_count": 8,
     "metadata": {},
     "output_type": "execute_result"
    }
   ],
   "source": [
    "mpd_data['district'].unique()"
   ]
  },
  {
   "cell_type": "code",
   "execution_count": 9,
   "metadata": {},
   "outputs": [
    {
     "data": {
      "text/plain": [
       "3       673002\n",
       "7       650109\n",
       "5       567958\n",
       "4       552701\n",
       "2       545253\n",
       "6       473525\n",
       "1       448786\n",
       "CITY      7080\n",
       "NTF       6274\n",
       "SPD       5477\n",
       "OCOE      3316\n",
       "OUT       2249\n",
       "DDAC       399\n",
       "SCD        300\n",
       "DPR        277\n",
       "ICS1       229\n",
       "CIB        218\n",
       "FI          83\n",
       "SF          55\n",
       "NLA         34\n",
       "ICS3        32\n",
       "SID         31\n",
       "ICS         23\n",
       "TEU         16\n",
       "ICS5         9\n",
       "JUNE         5\n",
       "ICS6         4\n",
       "IFC          4\n",
       "TRU          3\n",
       "D0           2\n",
       "MIRT         2\n",
       "ADMN         2\n",
       "NID          2\n",
       "ICS7         1\n",
       "ID           1\n",
       "MID          1\n",
       "Name: district, dtype: int64"
      ]
     },
     "execution_count": 9,
     "metadata": {},
     "output_type": "execute_result"
    }
   ],
   "source": [
    "mpd_data['district'].value_counts()"
   ]
  },
  {
   "cell_type": "markdown",
   "metadata": {},
   "source": [
    "Running a value counts on the different districts shows that there are more than the expected number of police districts in the city of Milwaukee present in the data. There should only be districts one through seven. Instead the data contains more districts than expected. These districts will be converted into categorical anyways as their entries will be useful for some observations. The erraneous districts will likely be ignored when drawing district based conclusions as it is not known what the other districts mean. District will be converted to a categorical with 36 different categories.\n",
    "\n",
    "### Examine the Nature Feature\n"
   ]
  },
  {
   "cell_type": "code",
   "execution_count": 10,
   "metadata": {},
   "outputs": [
    {
     "data": {
      "text/plain": [
       "array(['ACC PI', 'TRAFFIC STOP', 'SUBJ WANTED', 'SPECIAL ASSIGN',\n",
       "       'TRBL W/SUBJ', 'PARK AND WALK', 'WELFARE CITIZEN', 'BATTERY DV',\n",
       "       'RETURN STATION', 'BUSINESS CHECK', 'SUSPICIOUS-OTH', 'REPORTS',\n",
       "       'THEFT', 'VIOL REST ORDER', 'SUBJ WITH GUN', 'TAVERN CHECK',\n",
       "       'PATROL', 'FOLLOW UP', 'ACC PDO', 'TRAFFIC HAZARD',\n",
       "       'FAMILY TROUBLE', 'NON PURSUIT', 'BATTERY', 'INVESTIGATION',\n",
       "       'PRISONER TRANS', 'BUS INV', 'CALL FOR POLICE', 'THEFT VEHICLE',\n",
       "       'SUSP PERS/AUTO', 'ENTRY TO AUTO', 'ASSIGNMENT', 'PROPERTY DAMAGE',\n",
       "       'IND EXPOSURE', 'NOISE NUISANCE', 'PROPERTY PICKUP', 'SOLICITING',\n",
       "       'STOLEN VEHICLE', 'OUT OF SERVICE', 'COURT DUTY', 'ENTRY',\n",
       "       'PARKING TROUBLE', 'GRAFFITI', 'TRBL W/JUV', 'SHOTS FIRED',\n",
       "       'SHOTSPOTTER', 'BUS INVESTIGATIO', 'THREAT', 'SUBJ WITH WEAPON',\n",
       "       'TRAFFIC LASER', 'HOME VISIT DV', 'COMMUNITY MTNG',\n",
       "       'CITIZEN CONTACT', 'RECK USE OF WEAP', 'ABAND/STOLEN PRO',\n",
       "       'ASSIGN-ADMN MPD', 'CONVEY PROPERTY', 'NETWORK CRIMINAL',\n",
       "       'THEFT FROM PERSN', 'SUBJ STOP', 'INJ PERSON/SICK', 'ACC UNKN INJ',\n",
       "       'TRUANT', 'INJ/SICK PERS', 'THREAT SCHOOL', 'OVERDOSE',\n",
       "       'HOLDUP ALARM', 'ESCORT', 'BURG/AUD BUSINES', 'SUBJ W/GUN',\n",
       "       'ALTERED CURRENCY', 'DEAD ON ENTRY', 'FIRE', 'CITIZEN CONVEY',\n",
       "       'LOOSE ANIMAL', 'ROBBERY', 'VACANT HOUSE CHK', 'PROBATION/PAROLE',\n",
       "       'CRUELTY ANIMAL', 'ROBBERY ARMED', 'ADDL INFO', 'SCHL MONITORING',\n",
       "       'DRUG DEALING', 'BATTERY CUTTING', 'FIGHT', 'SHOPLIFTER',\n",
       "       'CHILD CUSTODY', 'NOTIFICATION', 'PROB_PAROL_CK_RQ', 'DUI',\n",
       "       'FOOT PURSUIT', 'VEHICLE PURSUIT', 'SHOOTING', 'MEET GOVT AGENCY',\n",
       "       'ABDUCTION', 'ACC UNK INJ', 'ABAND/PROP WEAPO', 'RECKLESS VEHICLE',\n",
       "       'LANDLORD/TEN TRB', 'HOSTAGE SIT', 'WELFARE CHK', 'ABAND PROPERTY',\n",
       "       'MFD OTHER', 'GPS MONITORING', 'WIRES DOWN', 'CHILD ENTICEMENT',\n",
       "       'TS TARGETED', 'NON PURSUIT NO P', 'ROBBERY ST ARM', 'MED RUN',\n",
       "       'HOSPITAL GUARD', 'REPORTS STATION', 'HOSPITAL TO MCMH',\n",
       "       'GAMBLING', 'PARKING TRBL', 'SUBJ W/WEAP', 'JUV CONVEY',\n",
       "       'OAI/INTOX DRIVER', 'ANIMAL BITE', 'FRAUD', 'LOST CHILD',\n",
       "       'ENTRY TO AUTOS', 'TRAFFIC CONTROL', 'VEHICLE MAINT',\n",
       "       'SEARCH WARRANT', 'LOCKOUT', 'BOAT STOP', 'PD/OTHER IN MKE',\n",
       "       'MFD SECURITY', 'RECOVERED VEH', 'SUSP PKG/DEVICE', 'FIREWORKS',\n",
       "       'GAS LEAK', 'PLANT CAR', 'ASSIST FIRE/AMB', 'BURG/AUD RESI',\n",
       "       'DEMONSTRATION', '911 ABUSE', 'PHOTO ASSIGN', 'SEARCH RESCUE/RE',\n",
       "       'BURGLAR ALARM', 'MARINE VIOL', 'BATTERY CUT-DV', 'EXPLOSION',\n",
       "       'DOCUMENTED CALL', 'BURG/AUD GOVT', 'ASSIST OFFICER', 'SCHOOL',\n",
       "       'SEND BACKUP', 'MEET PD/OTHER', 'METH LAB', 'MPD MON ALARM',\n",
       "       'INTERNET CRIMES', 'BB GUN COMPLNT', 'LOUD MUSIC - VEH',\n",
       "       'ADD INFO', 'FORGERY', '911 ABUSE CONFIR', 'PHONE CALL COMPL',\n",
       "       'CONT DEL MINOR', 'STRND/DIS VESSEL', 'THREAT OFFICER',\n",
       "       'TAVERN VIOL', 'BOMB THREAT', 'SEND SQUAD/MEET',\n",
       "       'TAVERN VIOLATION', 'WATER MAIN BREAK', 'WATER MAIN BRK',\n",
       "       'POLICE ACADEMY', 'SUBJ IN WATER', 'SUSPICIOUS/OTH', 'UNDEFINED',\n",
       "       'TRESPASSER', 'HAZ WASTE MAT', 'BOAT_STOP', 'QQ', 'LOITERING',\n",
       "       'LOCK OUT', 'EXPLOSIVES', 'PROWLERS', 'PRISONER BOOKING',\n",
       "       'ESP TARGET ESCOR', 'ASSIST', '.', 'PAB', 'RECOVERED PROP',\n",
       "       'OPEN HYDRANT', 'LOUD MUSIC - RES', 'ID QUESTION', '1603',\n",
       "       'LOST PROPERTY', 'ACC PI HWY', 'SCHL EXTRA EVENT', 'HOSP GUARD',\n",
       "       'MFD REFERRED OTH', 'REPORT TO 10-22', 'RECVRD VEHICLE',\n",
       "       'CAR CHANGE', 'ALARM ON BUS', 'SCHL PERIMETER', 'LOUD MUSIC - BUS',\n",
       "       'ACTIVE SHOOTER', 'SCHL WEAPON SCAN', 'PICKUP PARTNER',\n",
       "       'OVERTURNED BOAT', 'ACC UNK INJ HWY', 'LOST/STOLEN PRO',\n",
       "       'SUBJ DOWN', 'PANIC ALARM', 'RECVRD PROPERTY', 'POLICE ADMIN',\n",
       "       'ENTRY AUTOS', 'SCHL PRESENTATIO', 'MAIL RUN', 'FLEEING',\n",
       "       'MEET MFD', 'CRIMINIAL INFO', 'ILLEGAL DUMPING', 'CST ASSIGNMENT',\n",
       "       'GAME PLAN', 'STREET CAR INV', 'LOUD MUSIC - OTH', 'OFFICER SHOT',\n",
       "       'FRAUD CRED CARD', 'BUSINESS CHECK-C', 'NTF IN AREA',\n",
       "       '1 BLOCK NORTH OF', 'VARDA BURGLAR', 'SRCH WRRNT - RES',\n",
       "       'FLOODING', 'LOST PROP', 'LOST/STOL', 'CAR CHECK', '911 TEST CALL',\n",
       "       'STOLEN VEH', '1733', 'E', 'STARCHASE', 'THREATS', 'ENTRY-DV',\n",
       "       'SUBJ W/WEAPON-DV', 'TRBL W/SUBJ-DV', 'SUBJ WITH GUN-DV',\n",
       "       'FAMILY TROUBL-DV', 'PROPERTY DAM-DV', 'VIOL REST ORD-DV',\n",
       "       'RECK USE OF W-DV', 'ROBBERY ARMED-DV', '3410', 'ROBBERY STARM-DV',\n",
       "       'UNATTEND PACKAGE', 'SEX ASSAULT-DV', 'ACC PDO HWY',\n",
       "       'ABDUCTION-DV', 'CALL BY PHONE', 'F', 'TICKET QUESTION',\n",
       "       'ENTRY AUTOS-DV', 'SUBJ W/WEAPON', 'AIRCRAFT DOWN', '0',\n",
       "       'SCHL MEDIATION', 'SHOTS FIRED-DV', 'OOU', 'STREET CAR CHECK',\n",
       "       'SCHL SAFETY MTG', 'PARENT QUESTION', 'LICENSE QUESTION',\n",
       "       'RECKLESS VEH-DV', 'FALSE FIRE ALARM', 'ASSIGN ADMN MPD',\n",
       "       'LIIEGAL DUMPING', 'REPORT TO 10-2', 'POSSIBLE KIDNAPP',\n",
       "       'HOSTAGE SIT-DV', 'MOST WANTED', 'STOLEN PROP', 'VIOL REST ORD',\n",
       "       'BATTERY/DV', 'LOST /STOLEN PRO', 'CIT COMPLAINT',\n",
       "       'STOLEN PROPERTY', 'SCHOOL CROSSING', 'VEHICLE ALARM', '1359',\n",
       "       '1301', 'ACC PD1', 'ABAND/LOST', '2831 N 21ST', 'THREAT TO SCHOOL',\n",
       "       'ELDER ABUSE', 'TORNADO TOUCHDWN', 'SEND SQUAD MEET',\n",
       "       'AFTER HOURS CK', 'LOST  PROPERTY', 'INFO', 'PER MFD REQ SQDF',\n",
       "       'CURFEW', 'ACC', 'SRCH WRRNT - OTH', 'STOL. PROP', '`', '2532',\n",
       "       'GANG', 'TRBL W/SUB', 'JUV', 'CHECK', 'BOAT CHECK', 'ENTRY AUTO',\n",
       "       '230 N 37TH ST', 'ABAND/LOST PROP', '3', 'LOST PASSPORT',\n",
       "       'DISABLED BOAT', 'WEAPON', 'CALL FOR POL-DV', 'FIGHT-DV',\n",
       "       'FAMILY TROUBLEDV'], dtype=object)"
      ]
     },
     "execution_count": 10,
     "metadata": {},
     "output_type": "execute_result"
    }
   ],
   "source": [
    "mpd_data['nature'].unique()"
   ]
  },
  {
   "cell_type": "code",
   "execution_count": 11,
   "metadata": {},
   "outputs": [
    {
     "data": {
      "text/plain": [
       "TRAFFIC STOP        401644\n",
       "BUSINESS CHECK      325863\n",
       "TRBL W/SUBJ         237324\n",
       "RETURN STATION      209934\n",
       "FOLLOW UP           150661\n",
       "                     ...  \n",
       "ACC PD1                  1\n",
       "ABAND/LOST               1\n",
       "2831 N 21ST              1\n",
       "THREAT TO SCHOOL         1\n",
       "STOLEN PROP              1\n",
       "Name: nature, Length: 317, dtype: int64"
      ]
     },
     "execution_count": 11,
     "metadata": {},
     "output_type": "execute_result"
    }
   ],
   "source": [
    "mpd_data['nature'].value_counts()"
   ]
  },
  {
   "cell_type": "code",
   "execution_count": 12,
   "metadata": {},
   "outputs": [
    {
     "data": {
      "text/plain": [
       ".                      20\n",
       "0                       1\n",
       "1 BLOCK NORTH OF        2\n",
       "1301                    1\n",
       "1359                    1\n",
       "1603                    1\n",
       "1733                    1\n",
       "230 N 37TH ST           1\n",
       "2532                    1\n",
       "2831 N 21ST             1\n",
       "3                       1\n",
       "3410                    2\n",
       "911 ABUSE             373\n",
       "911 ABUSE CONFIR      267\n",
       "911 TEST CALL          25\n",
       "ABAND PROPERTY        961\n",
       "ABAND/LOST              1\n",
       "ABAND/LOST PROP         1\n",
       "ABAND/PROP WEAPO     1416\n",
       "ABAND/STOLEN PRO    12873\n",
       "Name: nature, dtype: int64"
      ]
     },
     "execution_count": 12,
     "metadata": {},
     "output_type": "execute_result"
    }
   ],
   "source": [
    "a = mpd_data['nature'].value_counts().sort_index()\n",
    "a[0:20]"
   ]
  },
  {
   "cell_type": "markdown",
   "metadata": {},
   "source": [
    "There are 317 unique natures present in the dataset. It will be necessary to define a few specific natures to use as targets due to the large number. Some natures are also repeated such as SUBJ WITH GUN and SUBJ W/GUN. In this case the larger and more prevalent of the two natures will be used. The following list of natures will be focused on:\n",
    "- TRAFFIC STOP        401644\n",
    "- SHOTSPOTTER          65381\n",
    "- SHOTS FIRED          47331\n",
    "- SUBJ WITH GUN        44509\n",
    "- SUBJ WITH WEAPON     30101\n",
    "- RECK USE OF WEAP     17524\n",
    "- SHOOTING             7054\n",
    "\n",
    "The number next to the nature denotes how many occurances of that nature were found out of the 4027695 total entries in the dataset. The Entries to focus on are divided into two categories. The fist is the traffic related crimes and the second is the gun and weapon related crimes. These will be focused by adding two boolean features to the data which will denote their presence or absence.\n",
    "\n",
    "The nature feature also contains some anomalous values such as \n",
    "- .                      20\n",
    "- 0                       1\n",
    "- 1 BLOCK NORTH OF        2\n",
    "- 1301                    1\n",
    "- 1359                    1\n",
    "- 1603                    1\n",
    "- 1733                    1\n",
    "- 230 N 37TH ST           1\n",
    "- 2532                    1\n",
    "- 2831 N 21ST             1\n",
    "- 3                       1\n",
    "- 3410                    2\n",
    "\n",
    "These values will be retained and included as part of the categorical conversion. This is because they will not be as relevant due to specific features being targeted.\n",
    "\n",
    "### Examine the Status Feature"
   ]
  },
  {
   "cell_type": "code",
   "execution_count": 13,
   "metadata": {},
   "outputs": [
    {
     "data": {
      "text/plain": [
       "array(['Service in Progress', 'City Citation(s) Issued',\n",
       "       'Assignment Completed', 'Unable to Locate Complainant', 'Advised',\n",
       "       'To be Filed', 'Advised/Referral', 'No Prosecution',\n",
       "       'Open Investigation', 'Cleared by Arrest', 'False Alarm',\n",
       "       'Filed Driver Exchange Report', 'Patrol Request', 'Referral',\n",
       "       'Ordered to Appear', 'State Citation(s) Issued',\n",
       "       'False Alarm (Weather Related)'], dtype=object)"
      ]
     },
     "execution_count": 13,
     "metadata": {},
     "output_type": "execute_result"
    }
   ],
   "source": [
    "mpd_data['status'].unique()"
   ]
  },
  {
   "cell_type": "code",
   "execution_count": 14,
   "metadata": {},
   "outputs": [
    {
     "data": {
      "text/plain": [
       "Service in Progress              1424568\n",
       "Assignment Completed             1186663\n",
       "Advised                           615111\n",
       "Unable to Locate Complainant      336406\n",
       "To be Filed                       164199\n",
       "City Citation(s) Issued           153937\n",
       "Advised/Referral                   87051\n",
       "Open Investigation                 40803\n",
       "No Prosecution                      6475\n",
       "Cleared by Arrest                   4696\n",
       "False Alarm                         2889\n",
       "Filed Driver Exchange Report        2631\n",
       "Referral                            1291\n",
       "Patrol Request                       697\n",
       "State Citation(s) Issued             160\n",
       "False Alarm (Weather Related)         93\n",
       "Ordered to Appear                     25\n",
       "Name: status, dtype: int64"
      ]
     },
     "execution_count": 14,
     "metadata": {},
     "output_type": "execute_result"
    }
   ],
   "source": [
    "mpd_data['status'].value_counts()"
   ]
  },
  {
   "cell_type": "markdown",
   "metadata": {},
   "source": [
    "The status feature looks like it will work very well as a category as is. Most of the counts also look good. The main focus would be on those that occur more than 40000 times overall in the data. This is due to the drop in occurances of almost an order of magnitude after that point.\n",
    "\n",
    "### Cleaning the Nature Feature\n",
    "\n",
    "The first step for cleaning nature is to define what values of the nature feature will make up the traffic and weapon crimes. Once that is completed these values can be used to create new features that denote this. After that The nature feature can be turned into a categorical feature."
   ]
  },
  {
   "cell_type": "code",
   "execution_count": 15,
   "metadata": {},
   "outputs": [
    {
     "name": "stdout",
     "output_type": "stream",
     "text": [
      "Data Shape Before: (4027695, 6)\n",
      "Data Shape After: (4027695, 8)\n"
     ]
    }
   ],
   "source": [
    "print(\"Data Shape Before: %s\" % ((mpd_data.shape), ))\n",
    "target_traffic_crimes_labels = ['TRAFFIC STOP']\n",
    "target_weapon_crimes_labels = ['SHOTSPOTTER', 'SHOTS FIRED', 'SHOTS FIRED-DV', \n",
    "'SUBJ WITH GUN', 'SUBJ W/GUN', 'SUBJ WITH GUN-DV', 'SUBJ WITH WEAPON', \n",
    "'SUBJ W/WEAP', 'SUBJ W/WEAPON-DV', 'RECK USE OF WEAP', 'SHOOTING']\n",
    "mpd_data['traffic_crime'] = mpd_data['nature'].isin(target_traffic_crimes_labels)\n",
    "mpd_data['weapon_crime'] = mpd_data['nature'].isin(target_weapon_crimes_labels)\n",
    "print(\"Data Shape After: %s\" % ((mpd_data.shape), ))"
   ]
  },
  {
   "cell_type": "code",
   "execution_count": 16,
   "metadata": {},
   "outputs": [
    {
     "data": {
      "text/plain": [
       "CategoricalDtype(categories=['.', '0', '1 BLOCK NORTH OF', '1301', '1359', '1603', '1733',\n",
       "                  '230 N 37TH ST', '2532', '2831 N 21ST',\n",
       "                  ...\n",
       "                  'VIOL REST ORD', 'VIOL REST ORD-DV', 'VIOL REST ORDER',\n",
       "                  'WATER MAIN BREAK', 'WATER MAIN BRK', 'WEAPON',\n",
       "                  'WELFARE CHK', 'WELFARE CITIZEN', 'WIRES DOWN', '`'],\n",
       ", ordered=False)"
      ]
     },
     "execution_count": 16,
     "metadata": {},
     "output_type": "execute_result"
    }
   ],
   "source": [
    "mpd_data['nature'] = mpd_data['nature'].astype(\"category\")\n",
    "mpd_data['nature'].dtype"
   ]
  },
  {
   "cell_type": "markdown",
   "metadata": {},
   "source": [
    "### Cleaning the District and Status Features\n",
    "\n",
    "The district and status features appeared mostly fine above. Because of this they will just be turned directly into categorical features.\n"
   ]
  },
  {
   "cell_type": "code",
   "execution_count": 17,
   "metadata": {},
   "outputs": [
    {
     "data": {
      "text/plain": [
       "CategoricalDtype(categories=['1', '2', '3', '4', '5', '6', '7', 'ADMN', 'CIB', 'CITY',\n",
       "                  'D0', 'DDAC', 'DPR', 'FI', 'ICS', 'ICS1', 'ICS3', 'ICS5',\n",
       "                  'ICS6', 'ICS7', 'ID', 'IFC', 'JUNE', 'MID', 'MIRT', 'NID',\n",
       "                  'NLA', 'NTF', 'OCOE', 'OUT', 'SCD', 'SF', 'SID', 'SPD',\n",
       "                  'TEU', 'TRU'],\n",
       ", ordered=False)"
      ]
     },
     "execution_count": 17,
     "metadata": {},
     "output_type": "execute_result"
    }
   ],
   "source": [
    "mpd_data['district'] = mpd_data['district'].astype(\"category\")\n",
    "mpd_data['district'].dtype"
   ]
  },
  {
   "cell_type": "code",
   "execution_count": 18,
   "metadata": {},
   "outputs": [
    {
     "data": {
      "text/plain": [
       "CategoricalDtype(categories=['Advised', 'Advised/Referral', 'Assignment Completed',\n",
       "                  'City Citation(s) Issued', 'Cleared by Arrest',\n",
       "                  'False Alarm', 'False Alarm (Weather Related)',\n",
       "                  'Filed Driver Exchange Report', 'No Prosecution',\n",
       "                  'Open Investigation', 'Ordered to Appear', 'Patrol Request',\n",
       "                  'Referral', 'Service in Progress',\n",
       "                  'State Citation(s) Issued', 'To be Filed',\n",
       "                  'Unable to Locate Complainant'],\n",
       ", ordered=False)"
      ]
     },
     "execution_count": 18,
     "metadata": {},
     "output_type": "execute_result"
    }
   ],
   "source": [
    "\n",
    "mpd_data['status'] = mpd_data['status'].astype('category')\n",
    "mpd_data['status'].dtype"
   ]
  },
  {
   "cell_type": "markdown",
   "metadata": {},
   "source": [
    "## Clean and Examine Location\n",
    "\n",
    "The location feature can be used to create many new features that will be easier to use. Currently the location values are in one of two formats. The first format is $HouseNumber$ $StreetName$ $StreetType$,MKE. The second format is $StreetName_1$ $StreetType_1$ / $StreetName_2$ $StreetType_2$,MKE. The second format occurs when the location is on the corner of two streets. A categorical feature will be created to denote if an entry is a corner or not. The attributes of each street in the location will be recorded. Null or NaN values will be recorded where there are no values. There will be no house number for addresses that are corners and no secondary names or types for addresses that are not corners. Overall the following features will be added:\n",
    "- isCorner\n",
    "- houseNumber\n",
    "- primaryStreetName\n",
    "- primaryStreetSuffix\n",
    "- secondaryStreetName\n",
    "- secondaryStreetSuffix\n",
    "\n",
    "### Method to Extract Addresses\n",
    "\n",
    "The first step to clean location is to create a method to extract addresses from the raw location strings. This method will then be tested on some example cases."
   ]
  },
  {
   "cell_type": "code",
   "execution_count": 19,
   "metadata": {},
   "outputs": [],
   "source": [
    "def get_street_info(address: str) -> list:\n",
    "    \"\"\"\n",
    "    This method will take in a string representing an address and will return the information present in that address.\n",
    "    Some example addresses are as follows:\n",
    "        0             7420 W GOOD HOPE RD,MKE\n",
    "        1                  1421 N 27TH ST,MKE\n",
    "        2                  4054 N 71ST ST,MKE\n",
    "        3                245 W LINCOLN AV,MKE\n",
    "        4                 1721 W CANAL ST,MKE\n",
    "        5         E WRIGHT ST / N WEIL ST,MKE\n",
    "        6                  9010 N 95TH ST,MKE\n",
    "    :param address: the string passed in representing the address\n",
    "    :return: a list containing two tuples. Each tuple will be an addres of the form (houseNumber, streetName, streetType)\n",
    "    :auth: Grant Fass\n",
    "    :since: 8 February 2022\n",
    "    \"\"\"\n",
    "    street_type_lookup = [\"ALY\", \"ANX\", \"ARC\", \"AVE\", \"BYU\", \"BCH\", \"BND\", \"BLF\", \"BLFS\", \"BTM\", \"BLVD\", \"BR\", \"BRG\", \"BRK\", \"BRKS\", \"BG\", \"BGS\", \"BYP\", \"CP\", \"CYN\", \"CPE\",\n",
    "                          \"CSWY\", \"CTR\", \"CTRS\", \"CIR\", \"CIRS\", \"CLF\", \"CLFS\", \"CLB\", \"CMN\", \"CMNS\", \"COR\", \"CORS\", \"CRSE\", \"CT\", \"CTS\", \"CV\", \"CVS\", \"CRK\", \"CRES\", \"CRST\", \n",
    "                          \"XING\", \"XRD\", \"XRDS\", \"CURV\", \"DL\", \"DM\", \"DV\", \"DR\", \"EST\", \"ESTS\", \"EXPY\", \"EXT\", \"EXTS\", \"FALL\", \"FLS\", \"FRY\", \"FLD\", \"FLDS\", \"FLT\", \"FLTS\", \n",
    "                          \"FRD\", \"FRDS\", \"FRST\", \"FRG\", \"FRGS\", \"FRK\", \"FRKS\", \"FT\", \"FWY\", \"GDN\", \"GDNS\", \"GTWY\", \"GLN\", \"GLNS\", \"GRN\", \"GRNS\", \"GRV\", \"GRVS\", \"HBR\", \"HBRS\", \n",
    "                          \"HVN\", \"HTS\", \"HWY\", \"HL\", \"HLS\", \"HOLW\", \"INLT\", \"IS\", \"ISS\", \"ISLE\", \"JCT\", \"JCTS\", \"KY\", \"KYS\", \"KNL\", \"KNLS\", \"LK\", \"LKS\", \"LAND\", \"LNDG\", \"LN\",\n",
    "                          \"LGT\", \"LGTS\", \"LF\", \"LCK\", \"LCKS\", \"LDG\", \"LOOP\", \"MALL\", \"MNR\", \"MNRS\", \"MDW\", \"MDWS\", \"MEWS\", \"ML\", \"MLS\", \"MSN\", \"MTWY\", \"MT\", \"MTN\", \"MTNS\", \n",
    "                          \"NCK\", \"ORCH\", \"OVAL\", \"OPAS\", \"PARK\", \"PKWY\", \"PASS\", \"PSGE\", \"PATH\", \"PIKE\", \"PNE\", \"PNES\", \"PL\", \"PLN\", \"PLNS\", \"PLZ\", \"PT\", \"PTS\", \"PRT\", \"PRTS\", \n",
    "                          \"PR\", \"RADL\", \"RAMP\", \"RNCH\", \"RPD\", \"RPDS\", \"RST\", \"RDG\", \"RDGS\", \"RIV\", \"RD\", \"RDS\", \"RTE\", \"ROW\", \"RUE\", \"RUN\", \"SHL\", \"SHLS\", \"SHR\", \"SHRS\", \n",
    "                          \"SKWY\", \"SPG\", \"SPGS\", \"SPUR\", \"SQ\", \"SQS\", \"STA\", \"STRA\", \"STRM\", \"ST\", \"STS\", \"SMT\", \"TER\", \"TRWY\", \"TRCE\", \"TRAK\", \"TRFY\", \"TRL\", \"TRLR\", \"TUNL\",\n",
    "                          \"TPKE\", \"UPAS\", \"UN\", \"UNS\", \"VLY\", \"VLYS\", \"VIA\", \"VW\", \"VWS\", \"VLG\", \"VLGS\", \"VL\", \"VIS\", \"WALK\", \"WALL\", \"WAY\", \"WAYS\", \"WL\", \"WLS\", \"AV\"]\n",
    "    # this is used primarily for error checking\n",
    "    unmatched_suffix = \"\"\n",
    "    # remove the ,MKE suffix from the location if present\n",
    "    address = address.removesuffix(\",MKE\")\n",
    "    # Array containing the seperate addresses in the passed entry\n",
    "    addresses = []\n",
    "    # Check if the entry contains a / or not.\n",
    "    # The presence of a / denotes the entry as a corner with two streets present\n",
    "    # For example: N HUMBOLDT AV / E NORTH AV\n",
    "    if ('/' in address):\n",
    "        addresses = address.split(' / ')\n",
    "    else:\n",
    "        addresses = [address]\n",
    "    \n",
    "    # now perform opperations for each address\n",
    "    # print(addresses)\n",
    "    out = []\n",
    "    for a in addresses:\n",
    "        # Set up the values to be returned\n",
    "        house_number = None\n",
    "        street = None\n",
    "        street_suffix = None\n",
    "        # split appart the address on spaces\n",
    "        s = a.split(' ')\n",
    "        # Check if the first cell is a nueric. This would be the house number if it is a numeric\n",
    "        if s[0].isnumeric():\n",
    "            # house number present\n",
    "            house_number = int(s[0])\n",
    "            street = ' '.join(s[1:-1]) # use -1 since last index is exclusive\n",
    "        else:\n",
    "            street = ' '.join(s[0:-1])\n",
    "        # update the street suffix based on the last entry in the array\n",
    "        if s[-1] in street_type_lookup:\n",
    "            street_suffix = s[-1]\n",
    "        # add the entries into the return field\n",
    "        out.append((house_number, street, street_suffix))\n",
    "    return out"
   ]
  },
  {
   "cell_type": "code",
   "execution_count": 20,
   "metadata": {},
   "outputs": [
    {
     "data": {
      "text/plain": [
       "0        7420 W GOOD HOPE RD,MKE\n",
       "1             1421 N 27TH ST,MKE\n",
       "2             4054 N 71ST ST,MKE\n",
       "3           245 W LINCOLN AV,MKE\n",
       "4            1721 W CANAL ST,MKE\n",
       "5    E WRIGHT ST / N WEIL ST,MKE\n",
       "6             9010 N 95TH ST,MKE\n",
       "7            983 W ARTHUR AV,MKE\n",
       "8             4115 N 56TH ST,MKE\n",
       "9          7806 W HAMPTON AV,MKE\n",
       "Name: location, dtype: object"
      ]
     },
     "execution_count": 20,
     "metadata": {},
     "output_type": "execute_result"
    }
   ],
   "source": [
    "mpd_data['location'].head(10)"
   ]
  },
  {
   "cell_type": "code",
   "execution_count": 21,
   "metadata": {},
   "outputs": [
    {
     "data": {
      "text/plain": [
       "[(None, 'E WRIGHT', 'ST'), (None, 'N WEIL', 'ST')]"
      ]
     },
     "execution_count": 21,
     "metadata": {},
     "output_type": "execute_result"
    }
   ],
   "source": [
    "#  E WRIGHT ST / N WEIL ST,MKE\n",
    "get_street_info(mpd_data['location'][5])"
   ]
  },
  {
   "cell_type": "code",
   "execution_count": 22,
   "metadata": {},
   "outputs": [
    {
     "data": {
      "text/plain": [
       "[(1421, 'N 27TH', 'ST')]"
      ]
     },
     "execution_count": 22,
     "metadata": {},
     "output_type": "execute_result"
    }
   ],
   "source": [
    "#  1421 N 27TH ST,MKE\n",
    "get_street_info(mpd_data['location'][1])"
   ]
  },
  {
   "cell_type": "markdown",
   "metadata": {},
   "source": [
    "### Method to Further Extract Location Data\n",
    "\n",
    "The next step is to define a method that will take the list of addresses returned by the previous method and combine them into a single list. This method will also be tested."
   ]
  },
  {
   "cell_type": "code",
   "execution_count": 23,
   "metadata": {},
   "outputs": [],
   "source": [
    "def get_street_data_as_array(location: list) -> list:\n",
    "    \"\"\"\n",
    "    Method to take in a location that contains up to two streets and combine it into one list for output.\n",
    "    The location is an array of tuples up to two in length.\n",
    "    Each tuple will have 3 entries of the form (houseNumber, streetName, streetSuffix).\n",
    "    If two entries are present then the location is a corner.\n",
    "    The output list will be of the form [isCorner, houseNumber, primaryStreetName, primaryStreetSuffix, secondaryStreetName, secondaryStreetSuffix]\n",
    "    :param location: an array of tuples up to two in length.\n",
    "    :return: list will be of the form [isCorner, houseNumber, primaryStreetName, primaryStreetSuffix, secondaryStreetName, secondaryStreetSuffix]\n",
    "    :auth: Grant Fass\n",
    "    :since: 8 February 2022\n",
    "    \"\"\"\n",
    "    \n",
    "    if len(location) == 1:\n",
    "        # is not corner\n",
    "        location_vals = list(location[0])\n",
    "        return [False, location_vals[0], location_vals[1], location_vals[2], None, None]\n",
    "    else:\n",
    "        # is corner\n",
    "        primary_location_vals = list(location[0])\n",
    "        secondary_location_vals = list(location[1])\n",
    "        return [True, None, primary_location_vals[1], primary_location_vals[2], \n",
    "        secondary_location_vals[1], secondary_location_vals[2]]"
   ]
  },
  {
   "cell_type": "code",
   "execution_count": 24,
   "metadata": {},
   "outputs": [
    {
     "data": {
      "text/plain": [
       "[True, None, 'E WRIGHT', 'ST', 'N WEIL', 'ST']"
      ]
     },
     "execution_count": 24,
     "metadata": {},
     "output_type": "execute_result"
    }
   ],
   "source": [
    "get_street_data_as_array(get_street_info(mpd_data['location'][5]))"
   ]
  },
  {
   "cell_type": "code",
   "execution_count": 25,
   "metadata": {},
   "outputs": [
    {
     "data": {
      "text/plain": [
       "[False, 1421, 'N 27TH', 'ST', None, None]"
      ]
     },
     "execution_count": 25,
     "metadata": {},
     "output_type": "execute_result"
    }
   ],
   "source": [
    "get_street_data_as_array(get_street_info(mpd_data['location'][1]))"
   ]
  },
  {
   "cell_type": "markdown",
   "metadata": {},
   "source": [
    "### Apply the Methods to Extract Location Data\n",
    "\n",
    "The above methods will be applied in sequence to extract the location data into a new dataframe. The features will then have their types set correctly and inspected to verify that the process worked."
   ]
  },
  {
   "cell_type": "code",
   "execution_count": 26,
   "metadata": {},
   "outputs": [],
   "source": [
    "# tolist() is needed since the output is a ndarray of lists.\n",
    "street_data = mpd_data[\"location\"].map(get_street_info).map(get_street_data_as_array).tolist()"
   ]
  },
  {
   "cell_type": "code",
   "execution_count": 27,
   "metadata": {},
   "outputs": [
    {
     "data": {
      "text/html": [
       "<div>\n",
       "<style scoped>\n",
       "    .dataframe tbody tr th:only-of-type {\n",
       "        vertical-align: middle;\n",
       "    }\n",
       "\n",
       "    .dataframe tbody tr th {\n",
       "        vertical-align: top;\n",
       "    }\n",
       "\n",
       "    .dataframe thead th {\n",
       "        text-align: right;\n",
       "    }\n",
       "</style>\n",
       "<table border=\"1\" class=\"dataframe\">\n",
       "  <thead>\n",
       "    <tr style=\"text-align: right;\">\n",
       "      <th></th>\n",
       "      <th>isCorner</th>\n",
       "      <th>houseNumber</th>\n",
       "      <th>primaryStreetName</th>\n",
       "      <th>primaryStreetSuffix</th>\n",
       "      <th>secondaryStreetName</th>\n",
       "      <th>secondaryStreetSuffix</th>\n",
       "    </tr>\n",
       "  </thead>\n",
       "  <tbody>\n",
       "    <tr>\n",
       "      <th>0</th>\n",
       "      <td>False</td>\n",
       "      <td>7420.0</td>\n",
       "      <td>W GOOD HOPE</td>\n",
       "      <td>RD</td>\n",
       "      <td>None</td>\n",
       "      <td>None</td>\n",
       "    </tr>\n",
       "    <tr>\n",
       "      <th>1</th>\n",
       "      <td>False</td>\n",
       "      <td>1421.0</td>\n",
       "      <td>N 27TH</td>\n",
       "      <td>ST</td>\n",
       "      <td>None</td>\n",
       "      <td>None</td>\n",
       "    </tr>\n",
       "    <tr>\n",
       "      <th>2</th>\n",
       "      <td>False</td>\n",
       "      <td>4054.0</td>\n",
       "      <td>N 71ST</td>\n",
       "      <td>ST</td>\n",
       "      <td>None</td>\n",
       "      <td>None</td>\n",
       "    </tr>\n",
       "    <tr>\n",
       "      <th>3</th>\n",
       "      <td>False</td>\n",
       "      <td>245.0</td>\n",
       "      <td>W LINCOLN</td>\n",
       "      <td>AV</td>\n",
       "      <td>None</td>\n",
       "      <td>None</td>\n",
       "    </tr>\n",
       "    <tr>\n",
       "      <th>4</th>\n",
       "      <td>False</td>\n",
       "      <td>1721.0</td>\n",
       "      <td>W CANAL</td>\n",
       "      <td>ST</td>\n",
       "      <td>None</td>\n",
       "      <td>None</td>\n",
       "    </tr>\n",
       "  </tbody>\n",
       "</table>\n",
       "</div>"
      ],
      "text/plain": [
       "   isCorner  houseNumber primaryStreetName primaryStreetSuffix  \\\n",
       "0     False       7420.0       W GOOD HOPE                  RD   \n",
       "1     False       1421.0            N 27TH                  ST   \n",
       "2     False       4054.0            N 71ST                  ST   \n",
       "3     False        245.0         W LINCOLN                  AV   \n",
       "4     False       1721.0           W CANAL                  ST   \n",
       "\n",
       "  secondaryStreetName secondaryStreetSuffix  \n",
       "0                None                  None  \n",
       "1                None                  None  \n",
       "2                None                  None  \n",
       "3                None                  None  \n",
       "4                None                  None  "
      ]
     },
     "execution_count": 27,
     "metadata": {},
     "output_type": "execute_result"
    }
   ],
   "source": [
    "header = [\"isCorner\", \"houseNumber\", \"primaryStreetName\", \"primaryStreetSuffix\", \"secondaryStreetName\", \"secondaryStreetSuffix\"]\n",
    "mpd_location_data = pd.DataFrame(street_data, columns=header)\n",
    "mpd_location_data.head(5)"
   ]
  },
  {
   "cell_type": "code",
   "execution_count": 28,
   "metadata": {},
   "outputs": [],
   "source": [
    "mpd_location_data['primaryStreetSuffix'] = mpd_location_data['primaryStreetSuffix'].astype('category')\n",
    "mpd_location_data['primaryStreetName'] = mpd_location_data['primaryStreetName'].astype('category')\n",
    "mpd_location_data['secondaryStreetSuffix'] = mpd_location_data['secondaryStreetSuffix'].astype('category')\n",
    "mpd_location_data['secondaryStreetName'] = mpd_location_data[\"secondaryStreetName\"].astype('category')"
   ]
  },
  {
   "cell_type": "code",
   "execution_count": 29,
   "metadata": {},
   "outputs": [
    {
     "name": "stdout",
     "output_type": "stream",
     "text": [
      "<class 'pandas.core.frame.DataFrame'>\n",
      "RangeIndex: 4027695 entries, 0 to 4027694\n",
      "Data columns (total 6 columns):\n",
      " #   Column                 Non-Null Count    Dtype   \n",
      "---  ------                 --------------    -----   \n",
      " 0   isCorner               4027695 non-null  bool    \n",
      " 1   houseNumber            3426083 non-null  float64 \n",
      " 2   primaryStreetName      4027695 non-null  category\n",
      " 3   primaryStreetSuffix    3844881 non-null  category\n",
      " 4   secondaryStreetName    549725 non-null   category\n",
      " 5   secondaryStreetSuffix  531853 non-null   category\n",
      "dtypes: bool(1), category(4), float64(1)\n",
      "memory usage: 58.3 MB\n"
     ]
    }
   ],
   "source": [
    "mpd_location_data.info(verbose=True, show_counts=True)"
   ]
  },
  {
   "cell_type": "code",
   "execution_count": 30,
   "metadata": {},
   "outputs": [
    {
     "data": {
      "text/plain": [
       "False    3477970\n",
       "True      549725\n",
       "Name: isCorner, dtype: int64"
      ]
     },
     "execution_count": 30,
     "metadata": {},
     "output_type": "execute_result"
    }
   ],
   "source": [
    "mpd_location_data['isCorner'].value_counts()"
   ]
  },
  {
   "cell_type": "markdown",
   "metadata": {},
   "source": [
    "### Recombine the Location Data\n",
    "\n",
    "The locations have now been properly extracted into their own seperate features. These features must now be added back to the overall MPD dataframe. Out of the 4027695 entries there were 549725 locations that are corners and 3477970 that are not corners. The datasets will be combined using an inner join and [`pd.concat`](https://pandas.pydata.org/docs/reference/api/pandas.concat.html). The original location feature will be dropped once the outer merge is completed as it will become irrelevant"
   ]
  },
  {
   "cell_type": "code",
   "execution_count": 31,
   "metadata": {},
   "outputs": [
    {
     "name": "stdout",
     "output_type": "stream",
     "text": [
      "MPD Data Shape Before: (4027695, 8)\n",
      "MPD Location Data Shape Before: (4027695, 6)\n",
      "MPD Data Shape After: (4027695, 13)\n"
     ]
    }
   ],
   "source": [
    "print(\"MPD Data Shape Before: %s\" % ((mpd_data.shape), ))\n",
    "print(\"MPD Location Data Shape Before: %s\" % ((mpd_location_data.shape), ))\n",
    "mpd_data = pd.concat([mpd_data, mpd_location_data], join='outer', axis=1)\n",
    "mpd_data = mpd_data.drop('location', axis=1)\n",
    "print(\"MPD Data Shape After: %s\" % ((mpd_data.shape), ))"
   ]
  },
  {
   "cell_type": "markdown",
   "metadata": {},
   "source": [
    "# Conclusion\n",
    "\n",
    "At this point the MPD dataset is done being cleaned. The last steps are to show the final outputs of the [`.head()`](https://pandas.pydata.org/docs/reference/api/pandas.DataFrame.head.html), [`.info()`](https://pandas.pydata.org/docs/reference/api/pandas.DataFrame.info.html), and [`.describe()`](https://pandas.pydata.org/docs/reference/api/pandas.DataFrame.describe.html) methods and output the cleaned data to a new csv file."
   ]
  },
  {
   "cell_type": "code",
   "execution_count": 32,
   "metadata": {},
   "outputs": [
    {
     "name": "stdout",
     "output_type": "stream",
     "text": [
      "<class 'pandas.core.frame.DataFrame'>\n",
      "RangeIndex: 4027695 entries, 0 to 4027694\n",
      "Data columns (total 13 columns):\n",
      " #   Column                 Non-Null Count    Dtype         \n",
      "---  ------                 --------------    -----         \n",
      " 0   district               3937463 non-null  category      \n",
      " 1   nature                 4027695 non-null  category      \n",
      " 2   status                 4027695 non-null  category      \n",
      " 3   call_id                4027695 non-null  int64         \n",
      " 4   datetime               4027695 non-null  datetime64[ns]\n",
      " 5   traffic_crime          4027695 non-null  bool          \n",
      " 6   weapon_crime           4027695 non-null  bool          \n",
      " 7   isCorner               4027695 non-null  bool          \n",
      " 8   houseNumber            3426083 non-null  float64       \n",
      " 9   primaryStreetName      4027695 non-null  category      \n",
      " 10  primaryStreetSuffix    3844881 non-null  category      \n",
      " 11  secondaryStreetName    549725 non-null   category      \n",
      " 12  secondaryStreetSuffix  531853 non-null   category      \n",
      "dtypes: bool(3), category(7), datetime64[ns](1), float64(1), int64(1)\n",
      "memory usage: 142.9 MB\n"
     ]
    }
   ],
   "source": [
    "mpd_data.info(verbose=True, show_counts=True)"
   ]
  },
  {
   "cell_type": "code",
   "execution_count": 33,
   "metadata": {},
   "outputs": [
    {
     "data": {
      "text/html": [
       "<div>\n",
       "<style scoped>\n",
       "    .dataframe tbody tr th:only-of-type {\n",
       "        vertical-align: middle;\n",
       "    }\n",
       "\n",
       "    .dataframe tbody tr th {\n",
       "        vertical-align: top;\n",
       "    }\n",
       "\n",
       "    .dataframe thead th {\n",
       "        text-align: right;\n",
       "    }\n",
       "</style>\n",
       "<table border=\"1\" class=\"dataframe\">\n",
       "  <thead>\n",
       "    <tr style=\"text-align: right;\">\n",
       "      <th></th>\n",
       "      <th>district</th>\n",
       "      <th>nature</th>\n",
       "      <th>status</th>\n",
       "      <th>call_id</th>\n",
       "      <th>datetime</th>\n",
       "      <th>traffic_crime</th>\n",
       "      <th>weapon_crime</th>\n",
       "      <th>isCorner</th>\n",
       "      <th>houseNumber</th>\n",
       "      <th>primaryStreetName</th>\n",
       "      <th>primaryStreetSuffix</th>\n",
       "      <th>secondaryStreetName</th>\n",
       "      <th>secondaryStreetSuffix</th>\n",
       "    </tr>\n",
       "  </thead>\n",
       "  <tbody>\n",
       "    <tr>\n",
       "      <th>0</th>\n",
       "      <td>4</td>\n",
       "      <td>ACC PI</td>\n",
       "      <td>Service in Progress</td>\n",
       "      <td>191411633</td>\n",
       "      <td>2019-05-21 15:19:03</td>\n",
       "      <td>False</td>\n",
       "      <td>False</td>\n",
       "      <td>False</td>\n",
       "      <td>7420.0</td>\n",
       "      <td>W GOOD HOPE</td>\n",
       "      <td>RD</td>\n",
       "      <td>NaN</td>\n",
       "      <td>NaN</td>\n",
       "    </tr>\n",
       "    <tr>\n",
       "      <th>1</th>\n",
       "      <td>3</td>\n",
       "      <td>TRAFFIC STOP</td>\n",
       "      <td>City Citation(s) Issued</td>\n",
       "      <td>191411672</td>\n",
       "      <td>2019-05-21 15:24:30</td>\n",
       "      <td>True</td>\n",
       "      <td>False</td>\n",
       "      <td>False</td>\n",
       "      <td>1421.0</td>\n",
       "      <td>N 27TH</td>\n",
       "      <td>ST</td>\n",
       "      <td>NaN</td>\n",
       "      <td>NaN</td>\n",
       "    </tr>\n",
       "    <tr>\n",
       "      <th>2</th>\n",
       "      <td>7</td>\n",
       "      <td>SUBJ WANTED</td>\n",
       "      <td>Assignment Completed</td>\n",
       "      <td>191411674</td>\n",
       "      <td>2019-05-21 15:25:46</td>\n",
       "      <td>False</td>\n",
       "      <td>False</td>\n",
       "      <td>False</td>\n",
       "      <td>4054.0</td>\n",
       "      <td>N 71ST</td>\n",
       "      <td>ST</td>\n",
       "      <td>NaN</td>\n",
       "      <td>NaN</td>\n",
       "    </tr>\n",
       "    <tr>\n",
       "      <th>3</th>\n",
       "      <td>2</td>\n",
       "      <td>SPECIAL ASSIGN</td>\n",
       "      <td>Service in Progress</td>\n",
       "      <td>191412545</td>\n",
       "      <td>2019-05-21 20:46:28</td>\n",
       "      <td>False</td>\n",
       "      <td>False</td>\n",
       "      <td>False</td>\n",
       "      <td>245.0</td>\n",
       "      <td>W LINCOLN</td>\n",
       "      <td>AV</td>\n",
       "      <td>NaN</td>\n",
       "      <td>NaN</td>\n",
       "    </tr>\n",
       "    <tr>\n",
       "      <th>4</th>\n",
       "      <td>3</td>\n",
       "      <td>TRBL W/SUBJ</td>\n",
       "      <td>Unable to Locate Complainant</td>\n",
       "      <td>191412465</td>\n",
       "      <td>2019-05-21 20:50:03</td>\n",
       "      <td>False</td>\n",
       "      <td>False</td>\n",
       "      <td>False</td>\n",
       "      <td>1721.0</td>\n",
       "      <td>W CANAL</td>\n",
       "      <td>ST</td>\n",
       "      <td>NaN</td>\n",
       "      <td>NaN</td>\n",
       "    </tr>\n",
       "  </tbody>\n",
       "</table>\n",
       "</div>"
      ],
      "text/plain": [
       "  district          nature                        status    call_id  \\\n",
       "0        4          ACC PI           Service in Progress  191411633   \n",
       "1        3    TRAFFIC STOP       City Citation(s) Issued  191411672   \n",
       "2        7     SUBJ WANTED          Assignment Completed  191411674   \n",
       "3        2  SPECIAL ASSIGN           Service in Progress  191412545   \n",
       "4        3     TRBL W/SUBJ  Unable to Locate Complainant  191412465   \n",
       "\n",
       "             datetime  traffic_crime  weapon_crime  isCorner  houseNumber  \\\n",
       "0 2019-05-21 15:19:03          False         False     False       7420.0   \n",
       "1 2019-05-21 15:24:30           True         False     False       1421.0   \n",
       "2 2019-05-21 15:25:46          False         False     False       4054.0   \n",
       "3 2019-05-21 20:46:28          False         False     False        245.0   \n",
       "4 2019-05-21 20:50:03          False         False     False       1721.0   \n",
       "\n",
       "  primaryStreetName primaryStreetSuffix secondaryStreetName  \\\n",
       "0       W GOOD HOPE                  RD                 NaN   \n",
       "1            N 27TH                  ST                 NaN   \n",
       "2            N 71ST                  ST                 NaN   \n",
       "3         W LINCOLN                  AV                 NaN   \n",
       "4           W CANAL                  ST                 NaN   \n",
       "\n",
       "  secondaryStreetSuffix  \n",
       "0                   NaN  \n",
       "1                   NaN  \n",
       "2                   NaN  \n",
       "3                   NaN  \n",
       "4                   NaN  "
      ]
     },
     "execution_count": 33,
     "metadata": {},
     "output_type": "execute_result"
    }
   ],
   "source": [
    "mpd_data.head()"
   ]
  },
  {
   "cell_type": "code",
   "execution_count": 34,
   "metadata": {},
   "outputs": [
    {
     "data": {
      "text/html": [
       "<div>\n",
       "<style scoped>\n",
       "    .dataframe tbody tr th:only-of-type {\n",
       "        vertical-align: middle;\n",
       "    }\n",
       "\n",
       "    .dataframe tbody tr th {\n",
       "        vertical-align: top;\n",
       "    }\n",
       "\n",
       "    .dataframe thead th {\n",
       "        text-align: right;\n",
       "    }\n",
       "</style>\n",
       "<table border=\"1\" class=\"dataframe\">\n",
       "  <thead>\n",
       "    <tr style=\"text-align: right;\">\n",
       "      <th></th>\n",
       "      <th>call_id</th>\n",
       "      <th>houseNumber</th>\n",
       "    </tr>\n",
       "  </thead>\n",
       "  <tbody>\n",
       "    <tr>\n",
       "      <th>count</th>\n",
       "      <td>4.027695e+06</td>\n",
       "      <td>3.426083e+06</td>\n",
       "    </tr>\n",
       "    <tr>\n",
       "      <th>mean</th>\n",
       "      <td>1.891808e+08</td>\n",
       "      <td>3.367593e+03</td>\n",
       "    </tr>\n",
       "    <tr>\n",
       "      <th>std</th>\n",
       "      <td>1.459309e+07</td>\n",
       "      <td>2.415387e+03</td>\n",
       "    </tr>\n",
       "    <tr>\n",
       "      <th>min</th>\n",
       "      <td>1.630815e+08</td>\n",
       "      <td>1.000000e+00</td>\n",
       "    </tr>\n",
       "    <tr>\n",
       "      <th>25%</th>\n",
       "      <td>1.732129e+08</td>\n",
       "      <td>1.614000e+03</td>\n",
       "    </tr>\n",
       "    <tr>\n",
       "      <th>50%</th>\n",
       "      <td>1.906707e+08</td>\n",
       "      <td>2.920000e+03</td>\n",
       "    </tr>\n",
       "    <tr>\n",
       "      <th>75%</th>\n",
       "      <td>2.016115e+08</td>\n",
       "      <td>4.600000e+03</td>\n",
       "    </tr>\n",
       "    <tr>\n",
       "      <th>max</th>\n",
       "      <td>2.201010e+08</td>\n",
       "      <td>6.460500e+05</td>\n",
       "    </tr>\n",
       "  </tbody>\n",
       "</table>\n",
       "</div>"
      ],
      "text/plain": [
       "            call_id   houseNumber\n",
       "count  4.027695e+06  3.426083e+06\n",
       "mean   1.891808e+08  3.367593e+03\n",
       "std    1.459309e+07  2.415387e+03\n",
       "min    1.630815e+08  1.000000e+00\n",
       "25%    1.732129e+08  1.614000e+03\n",
       "50%    1.906707e+08  2.920000e+03\n",
       "75%    2.016115e+08  4.600000e+03\n",
       "max    2.201010e+08  6.460500e+05"
      ]
     },
     "execution_count": 34,
     "metadata": {},
     "output_type": "execute_result"
    }
   ],
   "source": [
    "mpd_data.describe()"
   ]
  },
  {
   "cell_type": "code",
   "execution_count": 35,
   "metadata": {},
   "outputs": [],
   "source": [
    "mpd_data.to_csv(\"mpd_data_cleaned.csv\", index=False)"
   ]
  }
 ],
 "metadata": {
  "interpreter": {
   "hash": "2be5faf79681da6f2a61fdfdd5405d65d042280f7fba6178067603e3a2925119"
  },
  "kernelspec": {
   "display_name": "Python 3.10.1 64-bit",
   "language": "python",
   "name": "python3"
  },
  "language_info": {
   "codemirror_mode": {
    "name": "ipython",
    "version": 3
   },
   "file_extension": ".py",
   "mimetype": "text/x-python",
   "name": "python",
   "nbconvert_exporter": "python",
   "pygments_lexer": "ipython3",
   "version": "3.9.7"
  },
  "orig_nbformat": 4
 },
 "nbformat": 4,
 "nbformat_minor": 2
}
