{
 "cells": [
  {
   "cell_type": "code",
   "execution_count": 1,
   "metadata": {},
   "outputs": [],
   "source": [
    "%matplotlib inline\n",
    "import pandas as pd\n",
    "import numpy as np\n",
    "import matplotlib.pyplot as plt\n",
    "import seaborn as sns\n",
    "from scipy import stats\n",
    "from IPython.display import Image\n",
    "sns.set()"
   ]
  },
  {
   "cell_type": "code",
   "execution_count": 2,
   "metadata": {},
   "outputs": [
    {
     "name": "stdout",
     "output_type": "stream",
     "text": [
      "Collecting matplotlib_venn\n",
      "  Downloading matplotlib-venn-0.11.6.tar.gz (29 kB)\n",
      "Requirement already satisfied: matplotlib in c:\\tools\\anaconda3\\lib\\site-packages (from matplotlib_venn) (3.4.3)\n",
      "Requirement already satisfied: numpy in c:\\tools\\anaconda3\\lib\\site-packages (from matplotlib_venn) (1.20.3)\n",
      "Requirement already satisfied: scipy in c:\\tools\\anaconda3\\lib\\site-packages (from matplotlib_venn) (1.7.1)\n",
      "Requirement already satisfied: cycler>=0.10 in c:\\tools\\anaconda3\\lib\\site-packages (from matplotlib->matplotlib_venn) (0.10.0)\n",
      "Requirement already satisfied: pyparsing>=2.2.1 in c:\\tools\\anaconda3\\lib\\site-packages (from matplotlib->matplotlib_venn) (3.0.4)\n",
      "Requirement already satisfied: pillow>=6.2.0 in c:\\tools\\anaconda3\\lib\\site-packages (from matplotlib->matplotlib_venn) (8.4.0)\n",
      "Requirement already satisfied: kiwisolver>=1.0.1 in c:\\tools\\anaconda3\\lib\\site-packages (from matplotlib->matplotlib_venn) (1.3.1)\n",
      "Requirement already satisfied: python-dateutil>=2.7 in c:\\tools\\anaconda3\\lib\\site-packages (from matplotlib->matplotlib_venn) (2.8.2)\n",
      "Requirement already satisfied: six in c:\\tools\\anaconda3\\lib\\site-packages (from cycler>=0.10->matplotlib->matplotlib_venn) (1.16.0)\n",
      "Building wheels for collected packages: matplotlib-venn\n",
      "  Building wheel for matplotlib-venn (setup.py): started\n",
      "  Building wheel for matplotlib-venn (setup.py): finished with status 'done'\n",
      "  Created wheel for matplotlib-venn: filename=matplotlib_venn-0.11.6-py3-none-any.whl size=32065 sha256=6ac4a27a63851176edba3fe0a0e6c304e034f89e51037f661e0a2cf425874c08\n",
      "  Stored in directory: c:\\users\\fassg\\appdata\\local\\pip\\cache\\wheels\\42\\1c\\65\\1a733895cd94885d1a97eee84ec7595ff7fddc277a45bcacf5\n",
      "Successfully built matplotlib-venn\n",
      "Installing collected packages: matplotlib-venn\n",
      "Successfully installed matplotlib-venn-0.11.6\n",
      "Note: you may need to restart the kernel to use updated packages.\n"
     ]
    }
   ],
   "source": [
    "pip install matplotlib_venn --upgrade --user"
   ]
  },
  {
   "cell_type": "markdown",
   "metadata": {},
   "source": [
    "https://www.glerl.noaa.gov/metdata/mil/archive/ "
   ]
  },
  {
   "cell_type": "code",
   "execution_count": 3,
   "metadata": {},
   "outputs": [
    {
     "name": "stdout",
     "output_type": "stream",
     "text": [
      "Requirement already satisfied: pandas in c:\\tools\\anaconda3\\lib\\site-packages (1.3.4)\n",
      "Collecting pandas\n",
      "  Downloading pandas-1.4.0-cp39-cp39-win_amd64.whl (10.5 MB)\n",
      "Requirement already satisfied: numpy>=1.18.5 in c:\\tools\\anaconda3\\lib\\site-packages (from pandas) (1.20.3)\n",
      "Requirement already satisfied: python-dateutil>=2.8.1 in c:\\tools\\anaconda3\\lib\\site-packages (from pandas) (2.8.2)\n",
      "Requirement already satisfied: pytz>=2020.1 in c:\\tools\\anaconda3\\lib\\site-packages (from pandas) (2021.3)\n",
      "Requirement already satisfied: six>=1.5 in c:\\tools\\anaconda3\\lib\\site-packages (from python-dateutil>=2.8.1->pandas) (1.16.0)\n",
      "Installing collected packages: pandas\n",
      "Successfully installed pandas-1.4.0\n",
      "Note: you may need to restart the kernel to use updated packages.\n"
     ]
    }
   ],
   "source": [
    "pip install pandas --upgrade --user"
   ]
  },
  {
   "cell_type": "code",
   "execution_count": 4,
   "metadata": {},
   "outputs": [
    {
     "name": "stdout",
     "output_type": "stream",
     "text": [
      "Requirement already satisfied: numexpr in c:\\tools\\anaconda3\\lib\\site-packages (2.7.3)\n",
      "Collecting numexpr\n",
      "  Downloading numexpr-2.8.1-cp39-cp39-win_amd64.whl (88 kB)\n",
      "Requirement already satisfied: packaging in c:\\tools\\anaconda3\\lib\\site-packages (from numexpr) (21.0)\n",
      "Requirement already satisfied: numpy>=1.13.3 in c:\\tools\\anaconda3\\lib\\site-packages (from numexpr) (1.20.3)\n",
      "Requirement already satisfied: pyparsing>=2.0.2 in c:\\tools\\anaconda3\\lib\\site-packages (from packaging->numexpr) (3.0.4)\n",
      "Installing collected packages: numexpr\n",
      "Successfully installed numexpr-2.8.1\n",
      "Note: you may need to restart the kernel to use updated packages.\n"
     ]
    }
   ],
   "source": [
    "pip install numexpr --upgrade --user"
   ]
  },
  {
   "cell_type": "code",
   "execution_count": 5,
   "metadata": {},
   "outputs": [
    {
     "name": "stdout",
     "output_type": "stream",
     "text": [
      "Requirement already satisfied: seaborn in c:\\tools\\anaconda3\\lib\\site-packages (0.11.2)\n",
      "Requirement already satisfied: pandas>=0.23 in c:\\users\\fassg\\appdata\\roaming\\python\\python39\\site-packages (from seaborn) (1.4.0)\n",
      "Requirement already satisfied: scipy>=1.0 in c:\\tools\\anaconda3\\lib\\site-packages (from seaborn) (1.7.1)\n",
      "Requirement already satisfied: numpy>=1.15 in c:\\tools\\anaconda3\\lib\\site-packages (from seaborn) (1.20.3)\n",
      "Requirement already satisfied: matplotlib>=2.2 in c:\\tools\\anaconda3\\lib\\site-packages (from seaborn) (3.4.3)\n",
      "Requirement already satisfied: cycler>=0.10 in c:\\tools\\anaconda3\\lib\\site-packages (from matplotlib>=2.2->seaborn) (0.10.0)\n",
      "Requirement already satisfied: pyparsing>=2.2.1 in c:\\tools\\anaconda3\\lib\\site-packages (from matplotlib>=2.2->seaborn) (3.0.4)\n",
      "Requirement already satisfied: pillow>=6.2.0 in c:\\tools\\anaconda3\\lib\\site-packages (from matplotlib>=2.2->seaborn) (8.4.0)\n",
      "Requirement already satisfied: python-dateutil>=2.7 in c:\\tools\\anaconda3\\lib\\site-packages (from matplotlib>=2.2->seaborn) (2.8.2)\n",
      "Requirement already satisfied: kiwisolver>=1.0.1 in c:\\tools\\anaconda3\\lib\\site-packages (from matplotlib>=2.2->seaborn) (1.3.1)\n",
      "Requirement already satisfied: six in c:\\tools\\anaconda3\\lib\\site-packages (from cycler>=0.10->matplotlib>=2.2->seaborn) (1.16.0)\n",
      "Requirement already satisfied: pytz>=2020.1 in c:\\tools\\anaconda3\\lib\\site-packages (from pandas>=0.23->seaborn) (2021.3)\n",
      "Note: you may need to restart the kernel to use updated packages.\n"
     ]
    }
   ],
   "source": [
    "pip install seaborn --upgrade --user"
   ]
  },
  {
   "cell_type": "code",
   "execution_count": 6,
   "metadata": {},
   "outputs": [
    {
     "name": "stdout",
     "output_type": "stream",
     "text": [
      "Requirement already satisfied: scipy in c:\\tools\\anaconda3\\lib\\site-packages (1.7.1)\n",
      "Collecting scipy\n",
      "  Downloading scipy-1.7.3-cp39-cp39-win_amd64.whl (34.3 MB)\n",
      "Requirement already satisfied: numpy<1.23.0,>=1.16.5 in c:\\tools\\anaconda3\\lib\\site-packages (from scipy) (1.20.3)\n",
      "Installing collected packages: scipy\n",
      "Successfully installed scipy-1.7.3\n",
      "Note: you may need to restart the kernel to use updated packages.\n"
     ]
    }
   ],
   "source": [
    "pip install scipy --upgrade --user"
   ]
  },
  {
   "cell_type": "code",
   "execution_count": 11,
   "metadata": {},
   "outputs": [],
   "source": [
    "original_data = pd.read_csv(\"mkecallswheader.csv\")"
   ]
  },
  {
   "cell_type": "code",
   "execution_count": 12,
   "metadata": {},
   "outputs": [
    {
     "data": {
      "text/html": [
       "<div>\n",
       "<style scoped>\n",
       "    .dataframe tbody tr th:only-of-type {\n",
       "        vertical-align: middle;\n",
       "    }\n",
       "\n",
       "    .dataframe tbody tr th {\n",
       "        vertical-align: top;\n",
       "    }\n",
       "\n",
       "    .dataframe thead th {\n",
       "        text-align: right;\n",
       "    }\n",
       "</style>\n",
       "<table border=\"1\" class=\"dataframe\">\n",
       "  <thead>\n",
       "    <tr style=\"text-align: right;\">\n",
       "      <th></th>\n",
       "      <th>id</th>\n",
       "      <th>time</th>\n",
       "      <th>location</th>\n",
       "      <th>district</th>\n",
       "      <th>nature</th>\n",
       "      <th>status</th>\n",
       "      <th>inserted_at</th>\n",
       "      <th>updated_at</th>\n",
       "      <th>point</th>\n",
       "      <th>call_id</th>\n",
       "    </tr>\n",
       "  </thead>\n",
       "  <tbody>\n",
       "    <tr>\n",
       "      <th>0</th>\n",
       "      <td>2093116</td>\n",
       "      <td>2019-05-21 15:19:03</td>\n",
       "      <td>7420 W GOOD HOPE RD,MKE</td>\n",
       "      <td>4</td>\n",
       "      <td>ACC PI</td>\n",
       "      <td>Service in Progress</td>\n",
       "      <td>2019-05-21 20:51:09</td>\n",
       "      <td>2019-05-21 20:51:09</td>\n",
       "      <td>0101000020E6100000FC7C94111793454061D971683600...</td>\n",
       "      <td>191411633</td>\n",
       "    </tr>\n",
       "    <tr>\n",
       "      <th>1</th>\n",
       "      <td>2093127</td>\n",
       "      <td>2019-05-21 15:24:30</td>\n",
       "      <td>1421 N 27TH ST,MKE</td>\n",
       "      <td>3</td>\n",
       "      <td>TRAFFIC STOP</td>\n",
       "      <td>City Citation(s) Issued</td>\n",
       "      <td>2019-05-21 20:57:11</td>\n",
       "      <td>2019-05-21 20:57:11</td>\n",
       "      <td>0101000020E6100000D2AB014A4386454067C416CCA9FC...</td>\n",
       "      <td>191411672</td>\n",
       "    </tr>\n",
       "    <tr>\n",
       "      <th>2</th>\n",
       "      <td>2093141</td>\n",
       "      <td>2019-05-21 15:25:46</td>\n",
       "      <td>4054 N 71ST ST,MKE</td>\n",
       "      <td>7</td>\n",
       "      <td>SUBJ WANTED</td>\n",
       "      <td>Assignment Completed</td>\n",
       "      <td>2019-05-21 21:00:12</td>\n",
       "      <td>2019-05-21 21:00:12</td>\n",
       "      <td>0101000020E610000053FFC5D8AE8B45402CAE3B270700...</td>\n",
       "      <td>191411674</td>\n",
       "    </tr>\n",
       "    <tr>\n",
       "      <th>3</th>\n",
       "      <td>2093805</td>\n",
       "      <td>2019-05-21 20:46:28</td>\n",
       "      <td>245 W LINCOLN AV,MKE</td>\n",
       "      <td>2</td>\n",
       "      <td>SPECIAL ASSIGN</td>\n",
       "      <td>Service in Progress</td>\n",
       "      <td>2019-05-22 02:22:32</td>\n",
       "      <td>2019-05-22 02:22:32</td>\n",
       "      <td>0101000020E610000078ABF8D04F804540633ABE0779FA...</td>\n",
       "      <td>191412545</td>\n",
       "    </tr>\n",
       "    <tr>\n",
       "      <th>4</th>\n",
       "      <td>2093816</td>\n",
       "      <td>2019-05-21 20:50:03</td>\n",
       "      <td>1721 W CANAL ST,MKE</td>\n",
       "      <td>3</td>\n",
       "      <td>TRBL W/SUBJ</td>\n",
       "      <td>Unable to Locate Complainant</td>\n",
       "      <td>2019-05-22 02:25:33</td>\n",
       "      <td>2019-05-22 02:25:33</td>\n",
       "      <td>0101000020E6100000E8323509DE834540C3D7D7BAD4FB...</td>\n",
       "      <td>191412465</td>\n",
       "    </tr>\n",
       "    <tr>\n",
       "      <th>5</th>\n",
       "      <td>2093829</td>\n",
       "      <td>2019-05-21 21:02:37</td>\n",
       "      <td>E WRIGHT ST / N WEIL ST,MKE</td>\n",
       "      <td>5</td>\n",
       "      <td>PARK AND WALK</td>\n",
       "      <td>Service in Progress</td>\n",
       "      <td>2019-05-22 02:37:36</td>\n",
       "      <td>2019-05-22 02:37:36</td>\n",
       "      <td>0101000020E6100000DEF1DC312B88454059D878558CF9...</td>\n",
       "      <td>191412584</td>\n",
       "    </tr>\n",
       "    <tr>\n",
       "      <th>6</th>\n",
       "      <td>2093872</td>\n",
       "      <td>2019-05-21 20:50:47</td>\n",
       "      <td>9010 N 95TH ST,MKE</td>\n",
       "      <td>4</td>\n",
       "      <td>WELFARE CITIZEN</td>\n",
       "      <td>Advised</td>\n",
       "      <td>2019-05-22 02:52:43</td>\n",
       "      <td>2019-05-22 02:52:43</td>\n",
       "      <td>0101000020E6100000357D76C07597454080B4FF01D601...</td>\n",
       "      <td>191412544</td>\n",
       "    </tr>\n",
       "    <tr>\n",
       "      <th>7</th>\n",
       "      <td>2093887</td>\n",
       "      <td>2019-05-21 21:25:33</td>\n",
       "      <td>983 W ARTHUR AV,MKE</td>\n",
       "      <td>2</td>\n",
       "      <td>BATTERY DV</td>\n",
       "      <td>Service in Progress</td>\n",
       "      <td>2019-05-22 03:01:48</td>\n",
       "      <td>2019-05-22 03:01:48</td>\n",
       "      <td>0101000020E6100000BC033C69E17F454041ABDDC02EFB...</td>\n",
       "      <td>191412632</td>\n",
       "    </tr>\n",
       "    <tr>\n",
       "      <th>8</th>\n",
       "      <td>2093918</td>\n",
       "      <td>2019-05-21 21:36:05</td>\n",
       "      <td>4115 N 56TH ST,MKE</td>\n",
       "      <td>7</td>\n",
       "      <td>RETURN STATION</td>\n",
       "      <td>Assignment Completed</td>\n",
       "      <td>2019-05-22 03:16:51</td>\n",
       "      <td>2019-05-22 03:16:51</td>\n",
       "      <td>0101000020E610000014483FD0C08B45404EB747CAF1FE...</td>\n",
       "      <td>191412656</td>\n",
       "    </tr>\n",
       "    <tr>\n",
       "      <th>9</th>\n",
       "      <td>2093929</td>\n",
       "      <td>2019-05-21 21:45:53</td>\n",
       "      <td>7806 W HAMPTON AV,MKE</td>\n",
       "      <td>7</td>\n",
       "      <td>TRAFFIC STOP</td>\n",
       "      <td>Advised</td>\n",
       "      <td>2019-05-22 03:22:52</td>\n",
       "      <td>2019-05-22 03:22:52</td>\n",
       "      <td>0101000020E6100000F6F0C05B7B8D45404F34B4A69E00...</td>\n",
       "      <td>191412676</td>\n",
       "    </tr>\n",
       "  </tbody>\n",
       "</table>\n",
       "</div>"
      ],
      "text/plain": [
       "        id                 time                     location district  \\\n",
       "0  2093116  2019-05-21 15:19:03      7420 W GOOD HOPE RD,MKE        4   \n",
       "1  2093127  2019-05-21 15:24:30           1421 N 27TH ST,MKE        3   \n",
       "2  2093141  2019-05-21 15:25:46           4054 N 71ST ST,MKE        7   \n",
       "3  2093805  2019-05-21 20:46:28         245 W LINCOLN AV,MKE        2   \n",
       "4  2093816  2019-05-21 20:50:03          1721 W CANAL ST,MKE        3   \n",
       "5  2093829  2019-05-21 21:02:37  E WRIGHT ST / N WEIL ST,MKE        5   \n",
       "6  2093872  2019-05-21 20:50:47           9010 N 95TH ST,MKE        4   \n",
       "7  2093887  2019-05-21 21:25:33          983 W ARTHUR AV,MKE        2   \n",
       "8  2093918  2019-05-21 21:36:05           4115 N 56TH ST,MKE        7   \n",
       "9  2093929  2019-05-21 21:45:53        7806 W HAMPTON AV,MKE        7   \n",
       "\n",
       "            nature                        status          inserted_at  \\\n",
       "0           ACC PI           Service in Progress  2019-05-21 20:51:09   \n",
       "1     TRAFFIC STOP       City Citation(s) Issued  2019-05-21 20:57:11   \n",
       "2      SUBJ WANTED          Assignment Completed  2019-05-21 21:00:12   \n",
       "3   SPECIAL ASSIGN           Service in Progress  2019-05-22 02:22:32   \n",
       "4      TRBL W/SUBJ  Unable to Locate Complainant  2019-05-22 02:25:33   \n",
       "5    PARK AND WALK           Service in Progress  2019-05-22 02:37:36   \n",
       "6  WELFARE CITIZEN                       Advised  2019-05-22 02:52:43   \n",
       "7       BATTERY DV           Service in Progress  2019-05-22 03:01:48   \n",
       "8   RETURN STATION          Assignment Completed  2019-05-22 03:16:51   \n",
       "9     TRAFFIC STOP                       Advised  2019-05-22 03:22:52   \n",
       "\n",
       "            updated_at                                              point  \\\n",
       "0  2019-05-21 20:51:09  0101000020E6100000FC7C94111793454061D971683600...   \n",
       "1  2019-05-21 20:57:11  0101000020E6100000D2AB014A4386454067C416CCA9FC...   \n",
       "2  2019-05-21 21:00:12  0101000020E610000053FFC5D8AE8B45402CAE3B270700...   \n",
       "3  2019-05-22 02:22:32  0101000020E610000078ABF8D04F804540633ABE0779FA...   \n",
       "4  2019-05-22 02:25:33  0101000020E6100000E8323509DE834540C3D7D7BAD4FB...   \n",
       "5  2019-05-22 02:37:36  0101000020E6100000DEF1DC312B88454059D878558CF9...   \n",
       "6  2019-05-22 02:52:43  0101000020E6100000357D76C07597454080B4FF01D601...   \n",
       "7  2019-05-22 03:01:48  0101000020E6100000BC033C69E17F454041ABDDC02EFB...   \n",
       "8  2019-05-22 03:16:51  0101000020E610000014483FD0C08B45404EB747CAF1FE...   \n",
       "9  2019-05-22 03:22:52  0101000020E6100000F6F0C05B7B8D45404F34B4A69E00...   \n",
       "\n",
       "     call_id  \n",
       "0  191411633  \n",
       "1  191411672  \n",
       "2  191411674  \n",
       "3  191412545  \n",
       "4  191412465  \n",
       "5  191412584  \n",
       "6  191412544  \n",
       "7  191412632  \n",
       "8  191412656  \n",
       "9  191412676  "
      ]
     },
     "execution_count": 12,
     "metadata": {},
     "output_type": "execute_result"
    }
   ],
   "source": [
    "original_data.head(10)"
   ]
  },
  {
   "cell_type": "code",
   "execution_count": 13,
   "metadata": {},
   "outputs": [
    {
     "name": "stdout",
     "output_type": "stream",
     "text": [
      "<class 'pandas.core.frame.DataFrame'>\n",
      "RangeIndex: 4027695 entries, 0 to 4027694\n",
      "Data columns (total 10 columns):\n",
      " #   Column       Dtype \n",
      "---  ------       ----- \n",
      " 0   id           int64 \n",
      " 1   time         object\n",
      " 2   location     object\n",
      " 3   district     object\n",
      " 4   nature       object\n",
      " 5   status       object\n",
      " 6   inserted_at  object\n",
      " 7   updated_at   object\n",
      " 8   point        object\n",
      " 9   call_id      int64 \n",
      "dtypes: int64(2), object(8)\n",
      "memory usage: 307.3+ MB\n"
     ]
    }
   ],
   "source": [
    "original_data.info()"
   ]
  },
  {
   "cell_type": "code",
   "execution_count": 14,
   "id": "4c70f6fb",
   "metadata": {},
   "outputs": [
    {
     "data": {
      "text/html": [
       "<div>\n",
       "<style scoped>\n",
       "    .dataframe tbody tr th:only-of-type {\n",
       "        vertical-align: middle;\n",
       "    }\n",
       "\n",
       "    .dataframe tbody tr th {\n",
       "        vertical-align: top;\n",
       "    }\n",
       "\n",
       "    .dataframe thead th {\n",
       "        text-align: right;\n",
       "    }\n",
       "</style>\n",
       "<table border=\"1\" class=\"dataframe\">\n",
       "  <thead>\n",
       "    <tr style=\"text-align: right;\">\n",
       "      <th></th>\n",
       "      <th>id</th>\n",
       "      <th>call_id</th>\n",
       "    </tr>\n",
       "  </thead>\n",
       "  <tbody>\n",
       "    <tr>\n",
       "      <th>count</th>\n",
       "      <td>4.027695e+06</td>\n",
       "      <td>4.027695e+06</td>\n",
       "    </tr>\n",
       "    <tr>\n",
       "      <th>mean</th>\n",
       "      <td>5.589211e+06</td>\n",
       "      <td>1.891808e+08</td>\n",
       "    </tr>\n",
       "    <tr>\n",
       "      <th>std</th>\n",
       "      <td>2.392488e+07</td>\n",
       "      <td>1.459309e+07</td>\n",
       "    </tr>\n",
       "    <tr>\n",
       "      <th>min</th>\n",
       "      <td>1.000000e+00</td>\n",
       "      <td>1.630815e+08</td>\n",
       "    </tr>\n",
       "    <tr>\n",
       "      <th>25%</th>\n",
       "      <td>1.006924e+06</td>\n",
       "      <td>1.732129e+08</td>\n",
       "    </tr>\n",
       "    <tr>\n",
       "      <th>50%</th>\n",
       "      <td>2.013848e+06</td>\n",
       "      <td>1.906707e+08</td>\n",
       "    </tr>\n",
       "    <tr>\n",
       "      <th>75%</th>\n",
       "      <td>3.020772e+06</td>\n",
       "      <td>2.016115e+08</td>\n",
       "    </tr>\n",
       "    <tr>\n",
       "      <th>max</th>\n",
       "      <td>1.635417e+08</td>\n",
       "      <td>2.201010e+08</td>\n",
       "    </tr>\n",
       "  </tbody>\n",
       "</table>\n",
       "</div>"
      ],
      "text/plain": [
       "                 id       call_id\n",
       "count  4.027695e+06  4.027695e+06\n",
       "mean   5.589211e+06  1.891808e+08\n",
       "std    2.392488e+07  1.459309e+07\n",
       "min    1.000000e+00  1.630815e+08\n",
       "25%    1.006924e+06  1.732129e+08\n",
       "50%    2.013848e+06  1.906707e+08\n",
       "75%    3.020772e+06  2.016115e+08\n",
       "max    1.635417e+08  2.201010e+08"
      ]
     },
     "execution_count": 14,
     "metadata": {},
     "output_type": "execute_result"
    }
   ],
   "source": [
    "original_data.describe()"
   ]
  },
  {
   "cell_type": "markdown",
   "id": "ecdc69c7",
   "metadata": {},
   "source": [
    "From the above calls to the [`.head()`](https://pandas.pydata.org/docs/reference/api/pandas.DataFrame.head.html), [`.info()`](https://pandas.pydata.org/docs/reference/api/pandas.DataFrame.info.html), and [`.describe()`](https://pandas.pydata.org/docs/reference/api/pandas.DataFrame.describe.html) methods it is possible to see that there are $10$ total features. Of these features there are two features that are formatted as integers and eight features formatted as the default object that pandas imports non-numerical features as. From the object classified features there are a few that can be converted to new types. The time, inserted_at, and updated_at column should be formatted as a date time object. District should be converted to a numerical categorical value. Nature and status should be converted to categorical features. Location should be kept as an object feature. More features should be extracted from the location in order to draw further observations. Both street name and street suffix would be good features to extract. The ID and point features are artifacts of the database the police dataset came from and as such will be dropped."
   ]
  },
  {
   "cell_type": "markdown",
   "id": "741c8322",
   "metadata": {},
   "source": [
    "The first step is to copy the data into a new dataframe so that the original data can be preserved"
   ]
  },
  {
   "cell_type": "code",
   "execution_count": 17,
   "id": "9e26687a",
   "metadata": {},
   "outputs": [],
   "source": [
    "df = original_data.copy(deep=True)"
   ]
  },
  {
   "cell_type": "markdown",
   "id": "8946750d",
   "metadata": {},
   "source": [
    "Now convert the time, inserted_at, and updated_at features into date time objects."
   ]
  },
  {
   "cell_type": "code",
   "execution_count": 18,
   "id": "f60dc7f7",
   "metadata": {},
   "outputs": [],
   "source": [
    "df['time'] = pd.to_datetime(df['time'], infer_datetime_format=True)  \n",
    "df['inserted_at'] = pd.to_datetime(df['inserted_at'], infer_datetime_format=True)  \n",
    "df['updated_at'] = pd.to_datetime(df['updated_at'], infer_datetime_format=True)"
   ]
  },
  {
   "cell_type": "code",
   "execution_count": 19,
   "id": "29aeeddf",
   "metadata": {},
   "outputs": [
    {
     "data": {
      "text/html": [
       "<div>\n",
       "<style scoped>\n",
       "    .dataframe tbody tr th:only-of-type {\n",
       "        vertical-align: middle;\n",
       "    }\n",
       "\n",
       "    .dataframe tbody tr th {\n",
       "        vertical-align: top;\n",
       "    }\n",
       "\n",
       "    .dataframe thead th {\n",
       "        text-align: right;\n",
       "    }\n",
       "</style>\n",
       "<table border=\"1\" class=\"dataframe\">\n",
       "  <thead>\n",
       "    <tr style=\"text-align: right;\">\n",
       "      <th></th>\n",
       "      <th>id</th>\n",
       "      <th>time</th>\n",
       "      <th>location</th>\n",
       "      <th>district</th>\n",
       "      <th>nature</th>\n",
       "      <th>status</th>\n",
       "      <th>inserted_at</th>\n",
       "      <th>updated_at</th>\n",
       "      <th>point</th>\n",
       "      <th>call_id</th>\n",
       "    </tr>\n",
       "  </thead>\n",
       "  <tbody>\n",
       "    <tr>\n",
       "      <th>0</th>\n",
       "      <td>2093116</td>\n",
       "      <td>2019-05-21 15:19:03</td>\n",
       "      <td>7420 W GOOD HOPE RD,MKE</td>\n",
       "      <td>4</td>\n",
       "      <td>ACC PI</td>\n",
       "      <td>Service in Progress</td>\n",
       "      <td>2019-05-21 20:51:09</td>\n",
       "      <td>2019-05-21 20:51:09</td>\n",
       "      <td>0101000020E6100000FC7C94111793454061D971683600...</td>\n",
       "      <td>191411633</td>\n",
       "    </tr>\n",
       "    <tr>\n",
       "      <th>1</th>\n",
       "      <td>2093127</td>\n",
       "      <td>2019-05-21 15:24:30</td>\n",
       "      <td>1421 N 27TH ST,MKE</td>\n",
       "      <td>3</td>\n",
       "      <td>TRAFFIC STOP</td>\n",
       "      <td>City Citation(s) Issued</td>\n",
       "      <td>2019-05-21 20:57:11</td>\n",
       "      <td>2019-05-21 20:57:11</td>\n",
       "      <td>0101000020E6100000D2AB014A4386454067C416CCA9FC...</td>\n",
       "      <td>191411672</td>\n",
       "    </tr>\n",
       "    <tr>\n",
       "      <th>2</th>\n",
       "      <td>2093141</td>\n",
       "      <td>2019-05-21 15:25:46</td>\n",
       "      <td>4054 N 71ST ST,MKE</td>\n",
       "      <td>7</td>\n",
       "      <td>SUBJ WANTED</td>\n",
       "      <td>Assignment Completed</td>\n",
       "      <td>2019-05-21 21:00:12</td>\n",
       "      <td>2019-05-21 21:00:12</td>\n",
       "      <td>0101000020E610000053FFC5D8AE8B45402CAE3B270700...</td>\n",
       "      <td>191411674</td>\n",
       "    </tr>\n",
       "    <tr>\n",
       "      <th>3</th>\n",
       "      <td>2093805</td>\n",
       "      <td>2019-05-21 20:46:28</td>\n",
       "      <td>245 W LINCOLN AV,MKE</td>\n",
       "      <td>2</td>\n",
       "      <td>SPECIAL ASSIGN</td>\n",
       "      <td>Service in Progress</td>\n",
       "      <td>2019-05-22 02:22:32</td>\n",
       "      <td>2019-05-22 02:22:32</td>\n",
       "      <td>0101000020E610000078ABF8D04F804540633ABE0779FA...</td>\n",
       "      <td>191412545</td>\n",
       "    </tr>\n",
       "    <tr>\n",
       "      <th>4</th>\n",
       "      <td>2093816</td>\n",
       "      <td>2019-05-21 20:50:03</td>\n",
       "      <td>1721 W CANAL ST,MKE</td>\n",
       "      <td>3</td>\n",
       "      <td>TRBL W/SUBJ</td>\n",
       "      <td>Unable to Locate Complainant</td>\n",
       "      <td>2019-05-22 02:25:33</td>\n",
       "      <td>2019-05-22 02:25:33</td>\n",
       "      <td>0101000020E6100000E8323509DE834540C3D7D7BAD4FB...</td>\n",
       "      <td>191412465</td>\n",
       "    </tr>\n",
       "  </tbody>\n",
       "</table>\n",
       "</div>"
      ],
      "text/plain": [
       "        id                time                 location district  \\\n",
       "0  2093116 2019-05-21 15:19:03  7420 W GOOD HOPE RD,MKE        4   \n",
       "1  2093127 2019-05-21 15:24:30       1421 N 27TH ST,MKE        3   \n",
       "2  2093141 2019-05-21 15:25:46       4054 N 71ST ST,MKE        7   \n",
       "3  2093805 2019-05-21 20:46:28     245 W LINCOLN AV,MKE        2   \n",
       "4  2093816 2019-05-21 20:50:03      1721 W CANAL ST,MKE        3   \n",
       "\n",
       "           nature                        status         inserted_at  \\\n",
       "0          ACC PI           Service in Progress 2019-05-21 20:51:09   \n",
       "1    TRAFFIC STOP       City Citation(s) Issued 2019-05-21 20:57:11   \n",
       "2     SUBJ WANTED          Assignment Completed 2019-05-21 21:00:12   \n",
       "3  SPECIAL ASSIGN           Service in Progress 2019-05-22 02:22:32   \n",
       "4     TRBL W/SUBJ  Unable to Locate Complainant 2019-05-22 02:25:33   \n",
       "\n",
       "           updated_at                                              point  \\\n",
       "0 2019-05-21 20:51:09  0101000020E6100000FC7C94111793454061D971683600...   \n",
       "1 2019-05-21 20:57:11  0101000020E6100000D2AB014A4386454067C416CCA9FC...   \n",
       "2 2019-05-21 21:00:12  0101000020E610000053FFC5D8AE8B45402CAE3B270700...   \n",
       "3 2019-05-22 02:22:32  0101000020E610000078ABF8D04F804540633ABE0779FA...   \n",
       "4 2019-05-22 02:25:33  0101000020E6100000E8323509DE834540C3D7D7BAD4FB...   \n",
       "\n",
       "     call_id  \n",
       "0  191411633  \n",
       "1  191411672  \n",
       "2  191411674  \n",
       "3  191412545  \n",
       "4  191412465  "
      ]
     },
     "execution_count": 19,
     "metadata": {},
     "output_type": "execute_result"
    }
   ],
   "source": [
    "df.head()"
   ]
  },
  {
   "cell_type": "code",
   "execution_count": 21,
   "id": "0a72db55",
   "metadata": {},
   "outputs": [
    {
     "name": "stdout",
     "output_type": "stream",
     "text": [
      "<class 'pandas.core.frame.DataFrame'>\n",
      "RangeIndex: 4027695 entries, 0 to 4027694\n",
      "Data columns (total 10 columns):\n",
      " #   Column       Dtype         \n",
      "---  ------       -----         \n",
      " 0   id           int64         \n",
      " 1   time         datetime64[ns]\n",
      " 2   location     object        \n",
      " 3   district     object        \n",
      " 4   nature       object        \n",
      " 5   status       object        \n",
      " 6   inserted_at  datetime64[ns]\n",
      " 7   updated_at   datetime64[ns]\n",
      " 8   point        object        \n",
      " 9   call_id      int64         \n",
      "dtypes: datetime64[ns](3), int64(2), object(5)\n",
      "memory usage: 307.3+ MB\n"
     ]
    }
   ],
   "source": [
    "df.info()"
   ]
  },
  {
   "cell_type": "code",
   "execution_count": 20,
   "id": "cc2e5cd1",
   "metadata": {},
   "outputs": [
    {
     "data": {
      "text/html": [
       "<div>\n",
       "<style scoped>\n",
       "    .dataframe tbody tr th:only-of-type {\n",
       "        vertical-align: middle;\n",
       "    }\n",
       "\n",
       "    .dataframe tbody tr th {\n",
       "        vertical-align: top;\n",
       "    }\n",
       "\n",
       "    .dataframe thead th {\n",
       "        text-align: right;\n",
       "    }\n",
       "</style>\n",
       "<table border=\"1\" class=\"dataframe\">\n",
       "  <thead>\n",
       "    <tr style=\"text-align: right;\">\n",
       "      <th></th>\n",
       "      <th>id</th>\n",
       "      <th>call_id</th>\n",
       "    </tr>\n",
       "  </thead>\n",
       "  <tbody>\n",
       "    <tr>\n",
       "      <th>count</th>\n",
       "      <td>4.027695e+06</td>\n",
       "      <td>4.027695e+06</td>\n",
       "    </tr>\n",
       "    <tr>\n",
       "      <th>mean</th>\n",
       "      <td>5.589211e+06</td>\n",
       "      <td>1.891808e+08</td>\n",
       "    </tr>\n",
       "    <tr>\n",
       "      <th>std</th>\n",
       "      <td>2.392488e+07</td>\n",
       "      <td>1.459309e+07</td>\n",
       "    </tr>\n",
       "    <tr>\n",
       "      <th>min</th>\n",
       "      <td>1.000000e+00</td>\n",
       "      <td>1.630815e+08</td>\n",
       "    </tr>\n",
       "    <tr>\n",
       "      <th>25%</th>\n",
       "      <td>1.006924e+06</td>\n",
       "      <td>1.732129e+08</td>\n",
       "    </tr>\n",
       "    <tr>\n",
       "      <th>50%</th>\n",
       "      <td>2.013848e+06</td>\n",
       "      <td>1.906707e+08</td>\n",
       "    </tr>\n",
       "    <tr>\n",
       "      <th>75%</th>\n",
       "      <td>3.020772e+06</td>\n",
       "      <td>2.016115e+08</td>\n",
       "    </tr>\n",
       "    <tr>\n",
       "      <th>max</th>\n",
       "      <td>1.635417e+08</td>\n",
       "      <td>2.201010e+08</td>\n",
       "    </tr>\n",
       "  </tbody>\n",
       "</table>\n",
       "</div>"
      ],
      "text/plain": [
       "                 id       call_id\n",
       "count  4.027695e+06  4.027695e+06\n",
       "mean   5.589211e+06  1.891808e+08\n",
       "std    2.392488e+07  1.459309e+07\n",
       "min    1.000000e+00  1.630815e+08\n",
       "25%    1.006924e+06  1.732129e+08\n",
       "50%    2.013848e+06  1.906707e+08\n",
       "75%    3.020772e+06  2.016115e+08\n",
       "max    1.635417e+08  2.201010e+08"
      ]
     },
     "execution_count": 20,
     "metadata": {},
     "output_type": "execute_result"
    }
   ],
   "source": [
    "df.describe()"
   ]
  },
  {
   "cell_type": "markdown",
   "id": "a5c055c7",
   "metadata": {},
   "source": [
    "From the above calls to the [`.head()`](https://pandas.pydata.org/docs/reference/api/pandas.DataFrame.head.html), [`.info()`](https://pandas.pydata.org/docs/reference/api/pandas.DataFrame.info.html), and [`.describe()`](https://pandas.pydata.org/docs/reference/api/pandas.DataFrame.describe.html) methods it is possible to see that the time base features are now properly formatted. The next step is to bin the features by hour. This will be done in order to reduce the granularity of the data as well as matching up this dataset with hourly weather data."
   ]
  },
  {
   "cell_type": "code",
   "execution_count": null,
   "id": "70b1c29a",
   "metadata": {},
   "outputs": [],
   "source": [
    "# TODO"
   ]
  },
  {
   "cell_type": "markdown",
   "id": "bd9a72e9",
   "metadata": {},
   "source": [
    "Next the id and point columns will be dropped since they are artifacts of the database the data was stored in."
   ]
  },
  {
   "cell_type": "code",
   "execution_count": 28,
   "id": "fa7cf06f",
   "metadata": {},
   "outputs": [
    {
     "data": {
      "text/html": [
       "<div>\n",
       "<style scoped>\n",
       "    .dataframe tbody tr th:only-of-type {\n",
       "        vertical-align: middle;\n",
       "    }\n",
       "\n",
       "    .dataframe tbody tr th {\n",
       "        vertical-align: top;\n",
       "    }\n",
       "\n",
       "    .dataframe thead th {\n",
       "        text-align: right;\n",
       "    }\n",
       "</style>\n",
       "<table border=\"1\" class=\"dataframe\">\n",
       "  <thead>\n",
       "    <tr style=\"text-align: right;\">\n",
       "      <th></th>\n",
       "      <th>time</th>\n",
       "      <th>location</th>\n",
       "      <th>district</th>\n",
       "      <th>nature</th>\n",
       "      <th>status</th>\n",
       "      <th>inserted_at</th>\n",
       "      <th>updated_at</th>\n",
       "      <th>call_id</th>\n",
       "    </tr>\n",
       "  </thead>\n",
       "  <tbody>\n",
       "    <tr>\n",
       "      <th>0</th>\n",
       "      <td>2019-05-21 15:19:03</td>\n",
       "      <td>7420 W GOOD HOPE RD,MKE</td>\n",
       "      <td>4</td>\n",
       "      <td>ACC PI</td>\n",
       "      <td>Service in Progress</td>\n",
       "      <td>2019-05-21 20:51:09</td>\n",
       "      <td>2019-05-21 20:51:09</td>\n",
       "      <td>191411633</td>\n",
       "    </tr>\n",
       "    <tr>\n",
       "      <th>1</th>\n",
       "      <td>2019-05-21 15:24:30</td>\n",
       "      <td>1421 N 27TH ST,MKE</td>\n",
       "      <td>3</td>\n",
       "      <td>TRAFFIC STOP</td>\n",
       "      <td>City Citation(s) Issued</td>\n",
       "      <td>2019-05-21 20:57:11</td>\n",
       "      <td>2019-05-21 20:57:11</td>\n",
       "      <td>191411672</td>\n",
       "    </tr>\n",
       "    <tr>\n",
       "      <th>2</th>\n",
       "      <td>2019-05-21 15:25:46</td>\n",
       "      <td>4054 N 71ST ST,MKE</td>\n",
       "      <td>7</td>\n",
       "      <td>SUBJ WANTED</td>\n",
       "      <td>Assignment Completed</td>\n",
       "      <td>2019-05-21 21:00:12</td>\n",
       "      <td>2019-05-21 21:00:12</td>\n",
       "      <td>191411674</td>\n",
       "    </tr>\n",
       "    <tr>\n",
       "      <th>3</th>\n",
       "      <td>2019-05-21 20:46:28</td>\n",
       "      <td>245 W LINCOLN AV,MKE</td>\n",
       "      <td>2</td>\n",
       "      <td>SPECIAL ASSIGN</td>\n",
       "      <td>Service in Progress</td>\n",
       "      <td>2019-05-22 02:22:32</td>\n",
       "      <td>2019-05-22 02:22:32</td>\n",
       "      <td>191412545</td>\n",
       "    </tr>\n",
       "    <tr>\n",
       "      <th>4</th>\n",
       "      <td>2019-05-21 20:50:03</td>\n",
       "      <td>1721 W CANAL ST,MKE</td>\n",
       "      <td>3</td>\n",
       "      <td>TRBL W/SUBJ</td>\n",
       "      <td>Unable to Locate Complainant</td>\n",
       "      <td>2019-05-22 02:25:33</td>\n",
       "      <td>2019-05-22 02:25:33</td>\n",
       "      <td>191412465</td>\n",
       "    </tr>\n",
       "  </tbody>\n",
       "</table>\n",
       "</div>"
      ],
      "text/plain": [
       "                 time                 location district          nature  \\\n",
       "0 2019-05-21 15:19:03  7420 W GOOD HOPE RD,MKE        4          ACC PI   \n",
       "1 2019-05-21 15:24:30       1421 N 27TH ST,MKE        3    TRAFFIC STOP   \n",
       "2 2019-05-21 15:25:46       4054 N 71ST ST,MKE        7     SUBJ WANTED   \n",
       "3 2019-05-21 20:46:28     245 W LINCOLN AV,MKE        2  SPECIAL ASSIGN   \n",
       "4 2019-05-21 20:50:03      1721 W CANAL ST,MKE        3     TRBL W/SUBJ   \n",
       "\n",
       "                         status         inserted_at          updated_at  \\\n",
       "0           Service in Progress 2019-05-21 20:51:09 2019-05-21 20:51:09   \n",
       "1       City Citation(s) Issued 2019-05-21 20:57:11 2019-05-21 20:57:11   \n",
       "2          Assignment Completed 2019-05-21 21:00:12 2019-05-21 21:00:12   \n",
       "3           Service in Progress 2019-05-22 02:22:32 2019-05-22 02:22:32   \n",
       "4  Unable to Locate Complainant 2019-05-22 02:25:33 2019-05-22 02:25:33   \n",
       "\n",
       "     call_id  \n",
       "0  191411633  \n",
       "1  191411672  \n",
       "2  191411674  \n",
       "3  191412545  \n",
       "4  191412465  "
      ]
     },
     "execution_count": 28,
     "metadata": {},
     "output_type": "execute_result"
    }
   ],
   "source": [
    "df = df.drop('id', axis=1)\n",
    "# df = df.drop('point', axis=1) ### do not want to drop this as its a postgres geospatial for approx lat long.\n",
    "df.head()"
   ]
  },
  {
   "cell_type": "markdown",
   "id": "4f7c4db1",
   "metadata": {},
   "source": [
    "The nature, status, and district features will now be converted into categorical features"
   ]
  },
  {
   "cell_type": "code",
   "execution_count": 30,
   "id": "ac788422",
   "metadata": {},
   "outputs": [
    {
     "data": {
      "text/plain": [
       "array(['4', '3', '7', '2', '5', '6', '1', nan, 'OCOE', 'OUT', 'NTF',\n",
       "       'SPD', 'CITY', 'ICS3', 'CIB', 'DPR', 'TRU', 'SCD', 'ICS', 'SF',\n",
       "       'NLA', 'ICS1', 'IFC', 'FI', 'SID', 'D0', 'ICS7', 'ICS5', 'JUNE',\n",
       "       'DDAC', 'MIRT', 'ICS6', 'ID', 'ADMN', 'TEU', 'MID', 'NID'],\n",
       "      dtype=object)"
      ]
     },
     "execution_count": 30,
     "metadata": {},
     "output_type": "execute_result"
    }
   ],
   "source": [
    "df['district'].unique()"
   ]
  },
  {
   "cell_type": "code",
   "execution_count": 34,
   "id": "5af53572",
   "metadata": {},
   "outputs": [
    {
     "data": {
      "text/plain": [
       "3       673002\n",
       "7       650109\n",
       "5       567958\n",
       "4       552701\n",
       "2       545253\n",
       "6       473525\n",
       "1       448786\n",
       "CITY      7080\n",
       "NTF       6274\n",
       "SPD       5477\n",
       "OCOE      3316\n",
       "OUT       2249\n",
       "DDAC       399\n",
       "SCD        300\n",
       "DPR        277\n",
       "ICS1       229\n",
       "CIB        218\n",
       "FI          83\n",
       "SF          55\n",
       "NLA         34\n",
       "ICS3        32\n",
       "SID         31\n",
       "ICS         23\n",
       "TEU         16\n",
       "ICS5         9\n",
       "JUNE         5\n",
       "ICS6         4\n",
       "IFC          4\n",
       "TRU          3\n",
       "D0           2\n",
       "MIRT         2\n",
       "ADMN         2\n",
       "NID          2\n",
       "ICS7         1\n",
       "ID           1\n",
       "MID          1\n",
       "Name: district, dtype: int64"
      ]
     },
     "execution_count": 34,
     "metadata": {},
     "output_type": "execute_result"
    }
   ],
   "source": [
    "df['district'].value_counts()"
   ]
  },
  {
   "cell_type": "code",
   "execution_count": 31,
   "id": "4b76c53f",
   "metadata": {},
   "outputs": [
    {
     "data": {
      "text/plain": [
       "array(['ACC PI', 'TRAFFIC STOP', 'SUBJ WANTED', 'SPECIAL ASSIGN',\n",
       "       'TRBL W/SUBJ', 'PARK AND WALK', 'WELFARE CITIZEN', 'BATTERY DV',\n",
       "       'RETURN STATION', 'BUSINESS CHECK', 'SUSPICIOUS-OTH', 'REPORTS',\n",
       "       'THEFT', 'VIOL REST ORDER', 'SUBJ WITH GUN', 'TAVERN CHECK',\n",
       "       'PATROL', 'FOLLOW UP', 'ACC PDO', 'TRAFFIC HAZARD',\n",
       "       'FAMILY TROUBLE', 'NON PURSUIT', 'BATTERY', 'INVESTIGATION',\n",
       "       'PRISONER TRANS', 'BUS INV', 'CALL FOR POLICE', 'THEFT VEHICLE',\n",
       "       'SUSP PERS/AUTO', 'ENTRY TO AUTO', 'ASSIGNMENT', 'PROPERTY DAMAGE',\n",
       "       'IND EXPOSURE', 'NOISE NUISANCE', 'PROPERTY PICKUP', 'SOLICITING',\n",
       "       'STOLEN VEHICLE', 'OUT OF SERVICE', 'COURT DUTY', 'ENTRY',\n",
       "       'PARKING TROUBLE', 'GRAFFITI', 'TRBL W/JUV', 'SHOTS FIRED',\n",
       "       'SHOTSPOTTER', 'BUS INVESTIGATIO', 'THREAT', 'SUBJ WITH WEAPON',\n",
       "       'TRAFFIC LASER', 'HOME VISIT DV', 'COMMUNITY MTNG',\n",
       "       'CITIZEN CONTACT', 'RECK USE OF WEAP', 'ABAND/STOLEN PRO',\n",
       "       'ASSIGN-ADMN MPD', 'CONVEY PROPERTY', 'NETWORK CRIMINAL',\n",
       "       'THEFT FROM PERSN', 'SUBJ STOP', 'INJ PERSON/SICK', 'ACC UNKN INJ',\n",
       "       'TRUANT', 'INJ/SICK PERS', 'THREAT SCHOOL', 'OVERDOSE',\n",
       "       'HOLDUP ALARM', 'ESCORT', 'BURG/AUD BUSINES', 'SUBJ W/GUN',\n",
       "       'ALTERED CURRENCY', 'DEAD ON ENTRY', 'FIRE', 'CITIZEN CONVEY',\n",
       "       'LOOSE ANIMAL', 'ROBBERY', 'VACANT HOUSE CHK', 'PROBATION/PAROLE',\n",
       "       'CRUELTY ANIMAL', 'ROBBERY ARMED', 'ADDL INFO', 'SCHL MONITORING',\n",
       "       'DRUG DEALING', 'BATTERY CUTTING', 'FIGHT', 'SHOPLIFTER',\n",
       "       'CHILD CUSTODY', 'NOTIFICATION', 'PROB_PAROL_CK_RQ', 'DUI',\n",
       "       'FOOT PURSUIT', 'VEHICLE PURSUIT', 'SHOOTING', 'MEET GOVT AGENCY',\n",
       "       'ABDUCTION', 'ACC UNK INJ', 'ABAND/PROP WEAPO', 'RECKLESS VEHICLE',\n",
       "       'LANDLORD/TEN TRB', 'HOSTAGE SIT', 'WELFARE CHK', 'ABAND PROPERTY',\n",
       "       'MFD OTHER', 'GPS MONITORING', 'WIRES DOWN', 'CHILD ENTICEMENT',\n",
       "       'TS TARGETED', 'NON PURSUIT NO P', 'ROBBERY ST ARM', 'MED RUN',\n",
       "       'HOSPITAL GUARD', 'REPORTS STATION', 'HOSPITAL TO MCMH',\n",
       "       'GAMBLING', 'PARKING TRBL', 'SUBJ W/WEAP', 'JUV CONVEY',\n",
       "       'OAI/INTOX DRIVER', 'ANIMAL BITE', 'FRAUD', 'LOST CHILD',\n",
       "       'ENTRY TO AUTOS', 'TRAFFIC CONTROL', 'VEHICLE MAINT',\n",
       "       'SEARCH WARRANT', 'LOCKOUT', 'BOAT STOP', 'PD/OTHER IN MKE',\n",
       "       'MFD SECURITY', 'RECOVERED VEH', 'SUSP PKG/DEVICE', 'FIREWORKS',\n",
       "       'GAS LEAK', 'PLANT CAR', 'ASSIST FIRE/AMB', 'BURG/AUD RESI',\n",
       "       'DEMONSTRATION', '911 ABUSE', 'PHOTO ASSIGN', 'SEARCH RESCUE/RE',\n",
       "       'BURGLAR ALARM', 'MARINE VIOL', 'BATTERY CUT-DV', 'EXPLOSION',\n",
       "       'DOCUMENTED CALL', 'BURG/AUD GOVT', 'ASSIST OFFICER', 'SCHOOL',\n",
       "       'SEND BACKUP', 'MEET PD/OTHER', 'METH LAB', 'MPD MON ALARM',\n",
       "       'INTERNET CRIMES', 'BB GUN COMPLNT', 'LOUD MUSIC - VEH',\n",
       "       'ADD INFO', 'FORGERY', '911 ABUSE CONFIR', 'PHONE CALL COMPL',\n",
       "       'CONT DEL MINOR', 'STRND/DIS VESSEL', 'THREAT OFFICER',\n",
       "       'TAVERN VIOL', 'BOMB THREAT', 'SEND SQUAD/MEET',\n",
       "       'TAVERN VIOLATION', 'WATER MAIN BREAK', 'WATER MAIN BRK',\n",
       "       'POLICE ACADEMY', 'SUBJ IN WATER', 'SUSPICIOUS/OTH', 'UNDEFINED',\n",
       "       'TRESPASSER', 'HAZ WASTE MAT', 'BOAT_STOP', 'QQ', 'LOITERING',\n",
       "       'LOCK OUT', 'EXPLOSIVES', 'PROWLERS', 'PRISONER BOOKING',\n",
       "       'ESP TARGET ESCOR', 'ASSIST', '.', 'PAB', 'RECOVERED PROP',\n",
       "       'OPEN HYDRANT', 'LOUD MUSIC - RES', 'ID QUESTION', '1603',\n",
       "       'LOST PROPERTY', 'ACC PI HWY', 'SCHL EXTRA EVENT', 'HOSP GUARD',\n",
       "       'MFD REFERRED OTH', 'REPORT TO 10-22', 'RECVRD VEHICLE',\n",
       "       'CAR CHANGE', 'ALARM ON BUS', 'SCHL PERIMETER', 'LOUD MUSIC - BUS',\n",
       "       'ACTIVE SHOOTER', 'SCHL WEAPON SCAN', 'PICKUP PARTNER',\n",
       "       'OVERTURNED BOAT', 'ACC UNK INJ HWY', 'LOST/STOLEN PRO',\n",
       "       'SUBJ DOWN', 'PANIC ALARM', 'RECVRD PROPERTY', 'POLICE ADMIN',\n",
       "       'ENTRY AUTOS', 'SCHL PRESENTATIO', 'MAIL RUN', 'FLEEING',\n",
       "       'MEET MFD', 'CRIMINIAL INFO', 'ILLEGAL DUMPING', 'CST ASSIGNMENT',\n",
       "       'GAME PLAN', 'STREET CAR INV', 'LOUD MUSIC - OTH', 'OFFICER SHOT',\n",
       "       'FRAUD CRED CARD', 'BUSINESS CHECK-C', 'NTF IN AREA',\n",
       "       '1 BLOCK NORTH OF', 'VARDA BURGLAR', 'SRCH WRRNT - RES',\n",
       "       'FLOODING', 'LOST PROP', 'LOST/STOL', 'CAR CHECK', '911 TEST CALL',\n",
       "       'STOLEN VEH', '1733', 'E', 'STARCHASE', 'THREATS', 'ENTRY-DV',\n",
       "       'SUBJ W/WEAPON-DV', 'TRBL W/SUBJ-DV', 'SUBJ WITH GUN-DV',\n",
       "       'FAMILY TROUBL-DV', 'PROPERTY DAM-DV', 'VIOL REST ORD-DV',\n",
       "       'RECK USE OF W-DV', 'ROBBERY ARMED-DV', '3410', 'ROBBERY STARM-DV',\n",
       "       'UNATTEND PACKAGE', 'SEX ASSAULT-DV', 'ACC PDO HWY',\n",
       "       'ABDUCTION-DV', 'CALL BY PHONE', 'F', 'TICKET QUESTION',\n",
       "       'ENTRY AUTOS-DV', 'SUBJ W/WEAPON', 'AIRCRAFT DOWN', '0',\n",
       "       'SCHL MEDIATION', 'SHOTS FIRED-DV', 'OOU', 'STREET CAR CHECK',\n",
       "       'SCHL SAFETY MTG', 'PARENT QUESTION', 'LICENSE QUESTION',\n",
       "       'RECKLESS VEH-DV', 'FALSE FIRE ALARM', 'ASSIGN ADMN MPD',\n",
       "       'LIIEGAL DUMPING', 'REPORT TO 10-2', 'POSSIBLE KIDNAPP',\n",
       "       'HOSTAGE SIT-DV', 'MOST WANTED', 'STOLEN PROP', 'VIOL REST ORD',\n",
       "       'BATTERY/DV', 'LOST /STOLEN PRO', 'CIT COMPLAINT',\n",
       "       'STOLEN PROPERTY', 'SCHOOL CROSSING', 'VEHICLE ALARM', '1359',\n",
       "       '1301', 'ACC PD1', 'ABAND/LOST', '2831 N 21ST', 'THREAT TO SCHOOL',\n",
       "       'ELDER ABUSE', 'TORNADO TOUCHDWN', 'SEND SQUAD MEET',\n",
       "       'AFTER HOURS CK', 'LOST  PROPERTY', 'INFO', 'PER MFD REQ SQDF',\n",
       "       'CURFEW', 'ACC', 'SRCH WRRNT - OTH', 'STOL. PROP', '`', '2532',\n",
       "       'GANG', 'TRBL W/SUB', 'JUV', 'CHECK', 'BOAT CHECK', 'ENTRY AUTO',\n",
       "       '230 N 37TH ST', 'ABAND/LOST PROP', '3', 'LOST PASSPORT',\n",
       "       'DISABLED BOAT', 'WEAPON', 'CALL FOR POL-DV', 'FIGHT-DV',\n",
       "       'FAMILY TROUBLEDV'], dtype=object)"
      ]
     },
     "execution_count": 31,
     "metadata": {},
     "output_type": "execute_result"
    }
   ],
   "source": [
    "df['nature'].unique()"
   ]
  },
  {
   "cell_type": "code",
   "execution_count": 32,
   "id": "594aa71d",
   "metadata": {},
   "outputs": [
    {
     "data": {
      "text/plain": [
       "array(['Service in Progress', 'City Citation(s) Issued',\n",
       "       'Assignment Completed', 'Unable to Locate Complainant', 'Advised',\n",
       "       'To be Filed', 'Advised/Referral', 'No Prosecution',\n",
       "       'Open Investigation', 'Cleared by Arrest', 'False Alarm',\n",
       "       'Filed Driver Exchange Report', 'Patrol Request', 'Referral',\n",
       "       'Ordered to Appear', 'State Citation(s) Issued',\n",
       "       'False Alarm (Weather Related)'], dtype=object)"
      ]
     },
     "execution_count": 32,
     "metadata": {},
     "output_type": "execute_result"
    }
   ],
   "source": [
    "df['status'].unique()"
   ]
  },
  {
   "cell_type": "code",
   "execution_count": null,
   "id": "b7c844c0",
   "metadata": {},
   "outputs": [],
   "source": []
  },
  {
   "cell_type": "markdown",
   "metadata": {},
   "source": [
    "https://mpd.digitalpublicworks.com/?start=2019-01-05T00:00:00-06:00&end=2019-01-05T23:59:59.999999-06:00"
   ]
  }
 ],
 "metadata": {
  "interpreter": {
   "hash": "1617da2f0a028b9e7fd5fffe443e8129e2ebb45766933769f8e579976b127668"
  },
  "kernelspec": {
   "display_name": "Python 3.9.7 64-bit",
   "name": "python3"
  },
  "language_info": {
   "codemirror_mode": {
    "name": "ipython",
    "version": 3
   },
   "file_extension": ".py",
   "mimetype": "text/x-python",
   "name": "python",
   "nbconvert_exporter": "python",
   "pygments_lexer": "ipython3",
   "version": "3.9.7"
  }
 },
 "nbformat": 4,
 "nbformat_minor": 5
}
