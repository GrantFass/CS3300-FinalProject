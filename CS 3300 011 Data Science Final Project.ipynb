{
 "cells": [
  {
   "cell_type": "code",
   "execution_count": 1,
   "metadata": {},
   "outputs": [],
   "source": [
    "%matplotlib inline\n",
    "import pandas as pd\n",
    "import numpy as np\n",
    "import matplotlib.pyplot as plt\n",
    "import seaborn as sns\n",
    "from scipy import stats\n",
    "from IPython.display import Image\n",
    "sns.set()"
   ]
  },
  {
   "cell_type": "code",
   "execution_count": 2,
   "metadata": {},
   "outputs": [
    {
     "name": "stdout",
     "output_type": "stream",
     "text": [
      "Requirement already satisfied: matplotlib_venn in c:\\users\\fassg\\appdata\\roaming\\python\\python39\\site-packages (0.11.6)Note: you may need to restart the kernel to use updated packages.\n",
      "\n",
      "Requirement already satisfied: matplotlib in c:\\tools\\anaconda3\\lib\\site-packages (from matplotlib_venn) (3.4.3)\n",
      "Requirement already satisfied: numpy in c:\\tools\\anaconda3\\lib\\site-packages (from matplotlib_venn) (1.20.3)\n",
      "Requirement already satisfied: scipy in c:\\users\\fassg\\appdata\\roaming\\python\\python39\\site-packages (from matplotlib_venn) (1.7.3)\n",
      "Requirement already satisfied: pyparsing>=2.2.1 in c:\\tools\\anaconda3\\lib\\site-packages (from matplotlib->matplotlib_venn) (3.0.4)\n",
      "Requirement already satisfied: cycler>=0.10 in c:\\tools\\anaconda3\\lib\\site-packages (from matplotlib->matplotlib_venn) (0.10.0)\n",
      "Requirement already satisfied: pillow>=6.2.0 in c:\\tools\\anaconda3\\lib\\site-packages (from matplotlib->matplotlib_venn) (8.4.0)\n",
      "Requirement already satisfied: python-dateutil>=2.7 in c:\\tools\\anaconda3\\lib\\site-packages (from matplotlib->matplotlib_venn) (2.8.2)\n",
      "Requirement already satisfied: kiwisolver>=1.0.1 in c:\\tools\\anaconda3\\lib\\site-packages (from matplotlib->matplotlib_venn) (1.3.1)\n",
      "Requirement already satisfied: six in c:\\tools\\anaconda3\\lib\\site-packages (from cycler>=0.10->matplotlib->matplotlib_venn) (1.16.0)\n"
     ]
    }
   ],
   "source": [
    "pip install matplotlib_venn --upgrade --user"
   ]
  },
  {
   "cell_type": "markdown",
   "metadata": {},
   "source": [
    "https://www.glerl.noaa.gov/metdata/mil/archive/ "
   ]
  },
  {
   "cell_type": "code",
   "execution_count": 3,
   "metadata": {},
   "outputs": [
    {
     "name": "stdout",
     "output_type": "stream",
     "text": [
      "Requirement already satisfied: pandas in c:\\users\\fassg\\appdata\\roaming\\python\\python39\\site-packages (1.4.0)\n",
      "Requirement already satisfied: numpy>=1.18.5 in c:\\tools\\anaconda3\\lib\\site-packages (from pandas) (1.20.3)\n",
      "Requirement already satisfied: pytz>=2020.1 in c:\\tools\\anaconda3\\lib\\site-packages (from pandas) (2021.3)\n",
      "Requirement already satisfied: python-dateutil>=2.8.1 in c:\\tools\\anaconda3\\lib\\site-packages (from pandas) (2.8.2)\n",
      "Requirement already satisfied: six>=1.5 in c:\\tools\\anaconda3\\lib\\site-packages (from python-dateutil>=2.8.1->pandas) (1.16.0)\n",
      "Note: you may need to restart the kernel to use updated packages.\n"
     ]
    }
   ],
   "source": [
    "pip install pandas --upgrade --user"
   ]
  },
  {
   "cell_type": "code",
   "execution_count": 4,
   "metadata": {},
   "outputs": [
    {
     "name": "stdout",
     "output_type": "stream",
     "text": [
      "Requirement already satisfied: numexpr in c:\\users\\fassg\\appdata\\roaming\\python\\python39\\site-packages (2.8.1)\n",
      "Requirement already satisfied: numpy>=1.13.3 in c:\\tools\\anaconda3\\lib\\site-packages (from numexpr) (1.20.3)\n",
      "Requirement already satisfied: packaging in c:\\tools\\anaconda3\\lib\\site-packages (from numexpr) (21.0)\n",
      "Requirement already satisfied: pyparsing>=2.0.2 in c:\\tools\\anaconda3\\lib\\site-packages (from packaging->numexpr) (3.0.4)\n",
      "Note: you may need to restart the kernel to use updated packages.\n"
     ]
    }
   ],
   "source": [
    "pip install numexpr --upgrade --user"
   ]
  },
  {
   "cell_type": "code",
   "execution_count": 5,
   "metadata": {},
   "outputs": [
    {
     "name": "stdout",
     "output_type": "stream",
     "text": [
      "Requirement already satisfied: seaborn in c:\\tools\\anaconda3\\lib\\site-packages (0.11.2)\n",
      "Requirement already satisfied: scipy>=1.0 in c:\\users\\fassg\\appdata\\roaming\\python\\python39\\site-packages (from seaborn) (1.7.3)\n",
      "Requirement already satisfied: numpy>=1.15 in c:\\tools\\anaconda3\\lib\\site-packages (from seaborn) (1.20.3)\n",
      "Requirement already satisfied: matplotlib>=2.2 in c:\\tools\\anaconda3\\lib\\site-packages (from seaborn) (3.4.3)\n",
      "Requirement already satisfied: pandas>=0.23 in c:\\users\\fassg\\appdata\\roaming\\python\\python39\\site-packages (from seaborn) (1.4.0)\n",
      "Requirement already satisfied: pillow>=6.2.0 in c:\\tools\\anaconda3\\lib\\site-packages (from matplotlib>=2.2->seaborn) (8.4.0)\n",
      "Requirement already satisfied: python-dateutil>=2.7 in c:\\tools\\anaconda3\\lib\\site-packages (from matplotlib>=2.2->seaborn) (2.8.2)\n",
      "Requirement already satisfied: pyparsing>=2.2.1 in c:\\tools\\anaconda3\\lib\\site-packages (from matplotlib>=2.2->seaborn) (3.0.4)\n",
      "Requirement already satisfied: cycler>=0.10 in c:\\tools\\anaconda3\\lib\\site-packages (from matplotlib>=2.2->seaborn) (0.10.0)\n",
      "Requirement already satisfied: kiwisolver>=1.0.1 in c:\\tools\\anaconda3\\lib\\site-packages (from matplotlib>=2.2->seaborn) (1.3.1)\n",
      "Requirement already satisfied: six in c:\\tools\\anaconda3\\lib\\site-packages (from cycler>=0.10->matplotlib>=2.2->seaborn) (1.16.0)Note: you may need to restart the kernel to use updated packages.\n",
      "\n",
      "Requirement already satisfied: pytz>=2020.1 in c:\\tools\\anaconda3\\lib\\site-packages (from pandas>=0.23->seaborn) (2021.3)\n"
     ]
    }
   ],
   "source": [
    "pip install seaborn --upgrade --user"
   ]
  },
  {
   "cell_type": "code",
   "execution_count": 6,
   "metadata": {},
   "outputs": [
    {
     "name": "stdout",
     "output_type": "stream",
     "text": [
      "Requirement already satisfied: scipy in c:\\users\\fassg\\appdata\\roaming\\python\\python39\\site-packages (1.7.3)\n",
      "Collecting scipy\n",
      "  Downloading scipy-1.8.0-cp39-cp39-win_amd64.whl (36.9 MB)\n",
      "Requirement already satisfied: numpy<1.25.0,>=1.17.3 in c:\\tools\\anaconda3\\lib\\site-packages (from scipy) (1.20.3)\n",
      "Installing collected packages: scipy\n",
      "  Attempting uninstall: scipy\n",
      "    Found existing installation: scipy 1.7.3\n",
      "    Uninstalling scipy-1.7.3:\n",
      "      Successfully uninstalled scipy-1.7.3\n",
      "Note: you may need to restart the kernel to use updated packages.\n"
     ]
    },
    {
     "name": "stderr",
     "output_type": "stream",
     "text": [
      "ERROR: Could not install packages due to an OSError: [WinError 5] Access is denied: 'C:\\\\Users\\\\fassg\\\\AppData\\\\Roaming\\\\Python\\\\Python39\\\\site-packages\\\\~cipy\\\\.libs\\\\libansari.54HGNEJBQIYZX5TZPCQGLNVIPFU6NWEX.gfortran-win_amd64.dll'\n",
      "Check the permissions.\n",
      "\n"
     ]
    }
   ],
   "source": [
    "pip install scipy --upgrade --user"
   ]
  },
  {
   "cell_type": "code",
   "execution_count": 7,
   "metadata": {},
   "outputs": [],
   "source": [
    "original_data = pd.read_csv(\"mkecallswheader.csv\")"
   ]
  },
  {
   "cell_type": "code",
   "execution_count": 8,
   "metadata": {},
   "outputs": [
    {
     "data": {
      "text/html": [
       "<div>\n",
       "<style scoped>\n",
       "    .dataframe tbody tr th:only-of-type {\n",
       "        vertical-align: middle;\n",
       "    }\n",
       "\n",
       "    .dataframe tbody tr th {\n",
       "        vertical-align: top;\n",
       "    }\n",
       "\n",
       "    .dataframe thead th {\n",
       "        text-align: right;\n",
       "    }\n",
       "</style>\n",
       "<table border=\"1\" class=\"dataframe\">\n",
       "  <thead>\n",
       "    <tr style=\"text-align: right;\">\n",
       "      <th></th>\n",
       "      <th>id</th>\n",
       "      <th>time</th>\n",
       "      <th>location</th>\n",
       "      <th>district</th>\n",
       "      <th>nature</th>\n",
       "      <th>status</th>\n",
       "      <th>inserted_at</th>\n",
       "      <th>updated_at</th>\n",
       "      <th>point</th>\n",
       "      <th>call_id</th>\n",
       "    </tr>\n",
       "  </thead>\n",
       "  <tbody>\n",
       "    <tr>\n",
       "      <th>0</th>\n",
       "      <td>2093116</td>\n",
       "      <td>2019-05-21 15:19:03</td>\n",
       "      <td>7420 W GOOD HOPE RD,MKE</td>\n",
       "      <td>4</td>\n",
       "      <td>ACC PI</td>\n",
       "      <td>Service in Progress</td>\n",
       "      <td>2019-05-21 20:51:09</td>\n",
       "      <td>2019-05-21 20:51:09</td>\n",
       "      <td>0101000020E6100000FC7C94111793454061D971683600...</td>\n",
       "      <td>191411633</td>\n",
       "    </tr>\n",
       "    <tr>\n",
       "      <th>1</th>\n",
       "      <td>2093127</td>\n",
       "      <td>2019-05-21 15:24:30</td>\n",
       "      <td>1421 N 27TH ST,MKE</td>\n",
       "      <td>3</td>\n",
       "      <td>TRAFFIC STOP</td>\n",
       "      <td>City Citation(s) Issued</td>\n",
       "      <td>2019-05-21 20:57:11</td>\n",
       "      <td>2019-05-21 20:57:11</td>\n",
       "      <td>0101000020E6100000D2AB014A4386454067C416CCA9FC...</td>\n",
       "      <td>191411672</td>\n",
       "    </tr>\n",
       "    <tr>\n",
       "      <th>2</th>\n",
       "      <td>2093141</td>\n",
       "      <td>2019-05-21 15:25:46</td>\n",
       "      <td>4054 N 71ST ST,MKE</td>\n",
       "      <td>7</td>\n",
       "      <td>SUBJ WANTED</td>\n",
       "      <td>Assignment Completed</td>\n",
       "      <td>2019-05-21 21:00:12</td>\n",
       "      <td>2019-05-21 21:00:12</td>\n",
       "      <td>0101000020E610000053FFC5D8AE8B45402CAE3B270700...</td>\n",
       "      <td>191411674</td>\n",
       "    </tr>\n",
       "    <tr>\n",
       "      <th>3</th>\n",
       "      <td>2093805</td>\n",
       "      <td>2019-05-21 20:46:28</td>\n",
       "      <td>245 W LINCOLN AV,MKE</td>\n",
       "      <td>2</td>\n",
       "      <td>SPECIAL ASSIGN</td>\n",
       "      <td>Service in Progress</td>\n",
       "      <td>2019-05-22 02:22:32</td>\n",
       "      <td>2019-05-22 02:22:32</td>\n",
       "      <td>0101000020E610000078ABF8D04F804540633ABE0779FA...</td>\n",
       "      <td>191412545</td>\n",
       "    </tr>\n",
       "    <tr>\n",
       "      <th>4</th>\n",
       "      <td>2093816</td>\n",
       "      <td>2019-05-21 20:50:03</td>\n",
       "      <td>1721 W CANAL ST,MKE</td>\n",
       "      <td>3</td>\n",
       "      <td>TRBL W/SUBJ</td>\n",
       "      <td>Unable to Locate Complainant</td>\n",
       "      <td>2019-05-22 02:25:33</td>\n",
       "      <td>2019-05-22 02:25:33</td>\n",
       "      <td>0101000020E6100000E8323509DE834540C3D7D7BAD4FB...</td>\n",
       "      <td>191412465</td>\n",
       "    </tr>\n",
       "    <tr>\n",
       "      <th>5</th>\n",
       "      <td>2093829</td>\n",
       "      <td>2019-05-21 21:02:37</td>\n",
       "      <td>E WRIGHT ST / N WEIL ST,MKE</td>\n",
       "      <td>5</td>\n",
       "      <td>PARK AND WALK</td>\n",
       "      <td>Service in Progress</td>\n",
       "      <td>2019-05-22 02:37:36</td>\n",
       "      <td>2019-05-22 02:37:36</td>\n",
       "      <td>0101000020E6100000DEF1DC312B88454059D878558CF9...</td>\n",
       "      <td>191412584</td>\n",
       "    </tr>\n",
       "    <tr>\n",
       "      <th>6</th>\n",
       "      <td>2093872</td>\n",
       "      <td>2019-05-21 20:50:47</td>\n",
       "      <td>9010 N 95TH ST,MKE</td>\n",
       "      <td>4</td>\n",
       "      <td>WELFARE CITIZEN</td>\n",
       "      <td>Advised</td>\n",
       "      <td>2019-05-22 02:52:43</td>\n",
       "      <td>2019-05-22 02:52:43</td>\n",
       "      <td>0101000020E6100000357D76C07597454080B4FF01D601...</td>\n",
       "      <td>191412544</td>\n",
       "    </tr>\n",
       "    <tr>\n",
       "      <th>7</th>\n",
       "      <td>2093887</td>\n",
       "      <td>2019-05-21 21:25:33</td>\n",
       "      <td>983 W ARTHUR AV,MKE</td>\n",
       "      <td>2</td>\n",
       "      <td>BATTERY DV</td>\n",
       "      <td>Service in Progress</td>\n",
       "      <td>2019-05-22 03:01:48</td>\n",
       "      <td>2019-05-22 03:01:48</td>\n",
       "      <td>0101000020E6100000BC033C69E17F454041ABDDC02EFB...</td>\n",
       "      <td>191412632</td>\n",
       "    </tr>\n",
       "    <tr>\n",
       "      <th>8</th>\n",
       "      <td>2093918</td>\n",
       "      <td>2019-05-21 21:36:05</td>\n",
       "      <td>4115 N 56TH ST,MKE</td>\n",
       "      <td>7</td>\n",
       "      <td>RETURN STATION</td>\n",
       "      <td>Assignment Completed</td>\n",
       "      <td>2019-05-22 03:16:51</td>\n",
       "      <td>2019-05-22 03:16:51</td>\n",
       "      <td>0101000020E610000014483FD0C08B45404EB747CAF1FE...</td>\n",
       "      <td>191412656</td>\n",
       "    </tr>\n",
       "    <tr>\n",
       "      <th>9</th>\n",
       "      <td>2093929</td>\n",
       "      <td>2019-05-21 21:45:53</td>\n",
       "      <td>7806 W HAMPTON AV,MKE</td>\n",
       "      <td>7</td>\n",
       "      <td>TRAFFIC STOP</td>\n",
       "      <td>Advised</td>\n",
       "      <td>2019-05-22 03:22:52</td>\n",
       "      <td>2019-05-22 03:22:52</td>\n",
       "      <td>0101000020E6100000F6F0C05B7B8D45404F34B4A69E00...</td>\n",
       "      <td>191412676</td>\n",
       "    </tr>\n",
       "  </tbody>\n",
       "</table>\n",
       "</div>"
      ],
      "text/plain": [
       "        id                 time                     location district  \\\n",
       "0  2093116  2019-05-21 15:19:03      7420 W GOOD HOPE RD,MKE        4   \n",
       "1  2093127  2019-05-21 15:24:30           1421 N 27TH ST,MKE        3   \n",
       "2  2093141  2019-05-21 15:25:46           4054 N 71ST ST,MKE        7   \n",
       "3  2093805  2019-05-21 20:46:28         245 W LINCOLN AV,MKE        2   \n",
       "4  2093816  2019-05-21 20:50:03          1721 W CANAL ST,MKE        3   \n",
       "5  2093829  2019-05-21 21:02:37  E WRIGHT ST / N WEIL ST,MKE        5   \n",
       "6  2093872  2019-05-21 20:50:47           9010 N 95TH ST,MKE        4   \n",
       "7  2093887  2019-05-21 21:25:33          983 W ARTHUR AV,MKE        2   \n",
       "8  2093918  2019-05-21 21:36:05           4115 N 56TH ST,MKE        7   \n",
       "9  2093929  2019-05-21 21:45:53        7806 W HAMPTON AV,MKE        7   \n",
       "\n",
       "            nature                        status          inserted_at  \\\n",
       "0           ACC PI           Service in Progress  2019-05-21 20:51:09   \n",
       "1     TRAFFIC STOP       City Citation(s) Issued  2019-05-21 20:57:11   \n",
       "2      SUBJ WANTED          Assignment Completed  2019-05-21 21:00:12   \n",
       "3   SPECIAL ASSIGN           Service in Progress  2019-05-22 02:22:32   \n",
       "4      TRBL W/SUBJ  Unable to Locate Complainant  2019-05-22 02:25:33   \n",
       "5    PARK AND WALK           Service in Progress  2019-05-22 02:37:36   \n",
       "6  WELFARE CITIZEN                       Advised  2019-05-22 02:52:43   \n",
       "7       BATTERY DV           Service in Progress  2019-05-22 03:01:48   \n",
       "8   RETURN STATION          Assignment Completed  2019-05-22 03:16:51   \n",
       "9     TRAFFIC STOP                       Advised  2019-05-22 03:22:52   \n",
       "\n",
       "            updated_at                                              point  \\\n",
       "0  2019-05-21 20:51:09  0101000020E6100000FC7C94111793454061D971683600...   \n",
       "1  2019-05-21 20:57:11  0101000020E6100000D2AB014A4386454067C416CCA9FC...   \n",
       "2  2019-05-21 21:00:12  0101000020E610000053FFC5D8AE8B45402CAE3B270700...   \n",
       "3  2019-05-22 02:22:32  0101000020E610000078ABF8D04F804540633ABE0779FA...   \n",
       "4  2019-05-22 02:25:33  0101000020E6100000E8323509DE834540C3D7D7BAD4FB...   \n",
       "5  2019-05-22 02:37:36  0101000020E6100000DEF1DC312B88454059D878558CF9...   \n",
       "6  2019-05-22 02:52:43  0101000020E6100000357D76C07597454080B4FF01D601...   \n",
       "7  2019-05-22 03:01:48  0101000020E6100000BC033C69E17F454041ABDDC02EFB...   \n",
       "8  2019-05-22 03:16:51  0101000020E610000014483FD0C08B45404EB747CAF1FE...   \n",
       "9  2019-05-22 03:22:52  0101000020E6100000F6F0C05B7B8D45404F34B4A69E00...   \n",
       "\n",
       "     call_id  \n",
       "0  191411633  \n",
       "1  191411672  \n",
       "2  191411674  \n",
       "3  191412545  \n",
       "4  191412465  \n",
       "5  191412584  \n",
       "6  191412544  \n",
       "7  191412632  \n",
       "8  191412656  \n",
       "9  191412676  "
      ]
     },
     "execution_count": 8,
     "metadata": {},
     "output_type": "execute_result"
    }
   ],
   "source": [
    "original_data.head(10)"
   ]
  },
  {
   "cell_type": "code",
   "execution_count": 98,
   "metadata": {},
   "outputs": [
    {
     "name": "stdout",
     "output_type": "stream",
     "text": [
      "<class 'pandas.core.frame.DataFrame'>\n",
      "RangeIndex: 4027695 entries, 0 to 4027694\n",
      "Data columns (total 10 columns):\n",
      " #   Column       Non-Null Count    Dtype \n",
      "---  ------       --------------    ----- \n",
      " 0   id           4027695 non-null  int64 \n",
      " 1   time         4027695 non-null  object\n",
      " 2   location     4027695 non-null  object\n",
      " 3   district     3937463 non-null  object\n",
      " 4   nature       4027695 non-null  object\n",
      " 5   status       4027695 non-null  object\n",
      " 6   inserted_at  4027695 non-null  object\n",
      " 7   updated_at   4027695 non-null  object\n",
      " 8   point        3958766 non-null  object\n",
      " 9   call_id      4027695 non-null  int64 \n",
      "dtypes: int64(2), object(8)\n",
      "memory usage: 307.3+ MB\n"
     ]
    }
   ],
   "source": [
    "original_data.info(verbose=True, show_counts=True)"
   ]
  },
  {
   "cell_type": "code",
   "execution_count": 10,
   "id": "4c70f6fb",
   "metadata": {},
   "outputs": [
    {
     "data": {
      "text/html": [
       "<div>\n",
       "<style scoped>\n",
       "    .dataframe tbody tr th:only-of-type {\n",
       "        vertical-align: middle;\n",
       "    }\n",
       "\n",
       "    .dataframe tbody tr th {\n",
       "        vertical-align: top;\n",
       "    }\n",
       "\n",
       "    .dataframe thead th {\n",
       "        text-align: right;\n",
       "    }\n",
       "</style>\n",
       "<table border=\"1\" class=\"dataframe\">\n",
       "  <thead>\n",
       "    <tr style=\"text-align: right;\">\n",
       "      <th></th>\n",
       "      <th>id</th>\n",
       "      <th>call_id</th>\n",
       "    </tr>\n",
       "  </thead>\n",
       "  <tbody>\n",
       "    <tr>\n",
       "      <th>count</th>\n",
       "      <td>4.027695e+06</td>\n",
       "      <td>4.027695e+06</td>\n",
       "    </tr>\n",
       "    <tr>\n",
       "      <th>mean</th>\n",
       "      <td>5.589211e+06</td>\n",
       "      <td>1.891808e+08</td>\n",
       "    </tr>\n",
       "    <tr>\n",
       "      <th>std</th>\n",
       "      <td>2.392488e+07</td>\n",
       "      <td>1.459309e+07</td>\n",
       "    </tr>\n",
       "    <tr>\n",
       "      <th>min</th>\n",
       "      <td>1.000000e+00</td>\n",
       "      <td>1.630815e+08</td>\n",
       "    </tr>\n",
       "    <tr>\n",
       "      <th>25%</th>\n",
       "      <td>1.006924e+06</td>\n",
       "      <td>1.732129e+08</td>\n",
       "    </tr>\n",
       "    <tr>\n",
       "      <th>50%</th>\n",
       "      <td>2.013848e+06</td>\n",
       "      <td>1.906707e+08</td>\n",
       "    </tr>\n",
       "    <tr>\n",
       "      <th>75%</th>\n",
       "      <td>3.020772e+06</td>\n",
       "      <td>2.016115e+08</td>\n",
       "    </tr>\n",
       "    <tr>\n",
       "      <th>max</th>\n",
       "      <td>1.635417e+08</td>\n",
       "      <td>2.201010e+08</td>\n",
       "    </tr>\n",
       "  </tbody>\n",
       "</table>\n",
       "</div>"
      ],
      "text/plain": [
       "                 id       call_id\n",
       "count  4.027695e+06  4.027695e+06\n",
       "mean   5.589211e+06  1.891808e+08\n",
       "std    2.392488e+07  1.459309e+07\n",
       "min    1.000000e+00  1.630815e+08\n",
       "25%    1.006924e+06  1.732129e+08\n",
       "50%    2.013848e+06  1.906707e+08\n",
       "75%    3.020772e+06  2.016115e+08\n",
       "max    1.635417e+08  2.201010e+08"
      ]
     },
     "execution_count": 10,
     "metadata": {},
     "output_type": "execute_result"
    }
   ],
   "source": [
    "original_data.describe()"
   ]
  },
  {
   "cell_type": "markdown",
   "id": "ecdc69c7",
   "metadata": {},
   "source": [
    "From the above calls to the [`.head()`](https://pandas.pydata.org/docs/reference/api/pandas.DataFrame.head.html), [`.info()`](https://pandas.pydata.org/docs/reference/api/pandas.DataFrame.info.html), and [`.describe()`](https://pandas.pydata.org/docs/reference/api/pandas.DataFrame.describe.html) methods it is possible to see that there are $10$ total features. Of these features there are two features that are formatted as integers and eight features formatted as the default object that pandas imports non-numerical features as. From the object classified features there are a few that can be converted to new types. The time, inserted_at, and updated_at column should be formatted as a date time object. District should be converted to a numerical categorical value. Nature and status should be converted to categorical features. Location should be kept as an object feature. More features should be extracted from the location in order to draw further observations. Both street name and street suffix would be good features to extract. The ID and point features are artifacts of the database the police dataset came from and as such will be dropped."
   ]
  },
  {
   "cell_type": "markdown",
   "id": "741c8322",
   "metadata": {},
   "source": [
    "The first step is to copy the data into a new dataframe so that the original data can be preserved"
   ]
  },
  {
   "cell_type": "code",
   "execution_count": 11,
   "id": "9e26687a",
   "metadata": {},
   "outputs": [],
   "source": [
    "df = original_data.copy(deep=True)"
   ]
  },
  {
   "cell_type": "markdown",
   "id": "8946750d",
   "metadata": {},
   "source": [
    "Now convert the time, inserted_at, and updated_at features into date time objects."
   ]
  },
  {
   "cell_type": "code",
   "execution_count": 12,
   "id": "f60dc7f7",
   "metadata": {},
   "outputs": [],
   "source": [
    "df['time'] = pd.to_datetime(df['time'], infer_datetime_format=True)  \n",
    "df['inserted_at'] = pd.to_datetime(df['inserted_at'], infer_datetime_format=True)  \n",
    "df['updated_at'] = pd.to_datetime(df['updated_at'], infer_datetime_format=True)"
   ]
  },
  {
   "cell_type": "code",
   "execution_count": 13,
   "id": "29aeeddf",
   "metadata": {},
   "outputs": [
    {
     "data": {
      "text/html": [
       "<div>\n",
       "<style scoped>\n",
       "    .dataframe tbody tr th:only-of-type {\n",
       "        vertical-align: middle;\n",
       "    }\n",
       "\n",
       "    .dataframe tbody tr th {\n",
       "        vertical-align: top;\n",
       "    }\n",
       "\n",
       "    .dataframe thead th {\n",
       "        text-align: right;\n",
       "    }\n",
       "</style>\n",
       "<table border=\"1\" class=\"dataframe\">\n",
       "  <thead>\n",
       "    <tr style=\"text-align: right;\">\n",
       "      <th></th>\n",
       "      <th>id</th>\n",
       "      <th>time</th>\n",
       "      <th>location</th>\n",
       "      <th>district</th>\n",
       "      <th>nature</th>\n",
       "      <th>status</th>\n",
       "      <th>inserted_at</th>\n",
       "      <th>updated_at</th>\n",
       "      <th>point</th>\n",
       "      <th>call_id</th>\n",
       "    </tr>\n",
       "  </thead>\n",
       "  <tbody>\n",
       "    <tr>\n",
       "      <th>0</th>\n",
       "      <td>2093116</td>\n",
       "      <td>2019-05-21 15:19:03</td>\n",
       "      <td>7420 W GOOD HOPE RD,MKE</td>\n",
       "      <td>4</td>\n",
       "      <td>ACC PI</td>\n",
       "      <td>Service in Progress</td>\n",
       "      <td>2019-05-21 20:51:09</td>\n",
       "      <td>2019-05-21 20:51:09</td>\n",
       "      <td>0101000020E6100000FC7C94111793454061D971683600...</td>\n",
       "      <td>191411633</td>\n",
       "    </tr>\n",
       "    <tr>\n",
       "      <th>1</th>\n",
       "      <td>2093127</td>\n",
       "      <td>2019-05-21 15:24:30</td>\n",
       "      <td>1421 N 27TH ST,MKE</td>\n",
       "      <td>3</td>\n",
       "      <td>TRAFFIC STOP</td>\n",
       "      <td>City Citation(s) Issued</td>\n",
       "      <td>2019-05-21 20:57:11</td>\n",
       "      <td>2019-05-21 20:57:11</td>\n",
       "      <td>0101000020E6100000D2AB014A4386454067C416CCA9FC...</td>\n",
       "      <td>191411672</td>\n",
       "    </tr>\n",
       "    <tr>\n",
       "      <th>2</th>\n",
       "      <td>2093141</td>\n",
       "      <td>2019-05-21 15:25:46</td>\n",
       "      <td>4054 N 71ST ST,MKE</td>\n",
       "      <td>7</td>\n",
       "      <td>SUBJ WANTED</td>\n",
       "      <td>Assignment Completed</td>\n",
       "      <td>2019-05-21 21:00:12</td>\n",
       "      <td>2019-05-21 21:00:12</td>\n",
       "      <td>0101000020E610000053FFC5D8AE8B45402CAE3B270700...</td>\n",
       "      <td>191411674</td>\n",
       "    </tr>\n",
       "    <tr>\n",
       "      <th>3</th>\n",
       "      <td>2093805</td>\n",
       "      <td>2019-05-21 20:46:28</td>\n",
       "      <td>245 W LINCOLN AV,MKE</td>\n",
       "      <td>2</td>\n",
       "      <td>SPECIAL ASSIGN</td>\n",
       "      <td>Service in Progress</td>\n",
       "      <td>2019-05-22 02:22:32</td>\n",
       "      <td>2019-05-22 02:22:32</td>\n",
       "      <td>0101000020E610000078ABF8D04F804540633ABE0779FA...</td>\n",
       "      <td>191412545</td>\n",
       "    </tr>\n",
       "    <tr>\n",
       "      <th>4</th>\n",
       "      <td>2093816</td>\n",
       "      <td>2019-05-21 20:50:03</td>\n",
       "      <td>1721 W CANAL ST,MKE</td>\n",
       "      <td>3</td>\n",
       "      <td>TRBL W/SUBJ</td>\n",
       "      <td>Unable to Locate Complainant</td>\n",
       "      <td>2019-05-22 02:25:33</td>\n",
       "      <td>2019-05-22 02:25:33</td>\n",
       "      <td>0101000020E6100000E8323509DE834540C3D7D7BAD4FB...</td>\n",
       "      <td>191412465</td>\n",
       "    </tr>\n",
       "  </tbody>\n",
       "</table>\n",
       "</div>"
      ],
      "text/plain": [
       "        id                time                 location district  \\\n",
       "0  2093116 2019-05-21 15:19:03  7420 W GOOD HOPE RD,MKE        4   \n",
       "1  2093127 2019-05-21 15:24:30       1421 N 27TH ST,MKE        3   \n",
       "2  2093141 2019-05-21 15:25:46       4054 N 71ST ST,MKE        7   \n",
       "3  2093805 2019-05-21 20:46:28     245 W LINCOLN AV,MKE        2   \n",
       "4  2093816 2019-05-21 20:50:03      1721 W CANAL ST,MKE        3   \n",
       "\n",
       "           nature                        status         inserted_at  \\\n",
       "0          ACC PI           Service in Progress 2019-05-21 20:51:09   \n",
       "1    TRAFFIC STOP       City Citation(s) Issued 2019-05-21 20:57:11   \n",
       "2     SUBJ WANTED          Assignment Completed 2019-05-21 21:00:12   \n",
       "3  SPECIAL ASSIGN           Service in Progress 2019-05-22 02:22:32   \n",
       "4     TRBL W/SUBJ  Unable to Locate Complainant 2019-05-22 02:25:33   \n",
       "\n",
       "           updated_at                                              point  \\\n",
       "0 2019-05-21 20:51:09  0101000020E6100000FC7C94111793454061D971683600...   \n",
       "1 2019-05-21 20:57:11  0101000020E6100000D2AB014A4386454067C416CCA9FC...   \n",
       "2 2019-05-21 21:00:12  0101000020E610000053FFC5D8AE8B45402CAE3B270700...   \n",
       "3 2019-05-22 02:22:32  0101000020E610000078ABF8D04F804540633ABE0779FA...   \n",
       "4 2019-05-22 02:25:33  0101000020E6100000E8323509DE834540C3D7D7BAD4FB...   \n",
       "\n",
       "     call_id  \n",
       "0  191411633  \n",
       "1  191411672  \n",
       "2  191411674  \n",
       "3  191412545  \n",
       "4  191412465  "
      ]
     },
     "execution_count": 13,
     "metadata": {},
     "output_type": "execute_result"
    }
   ],
   "source": [
    "df.head()"
   ]
  },
  {
   "cell_type": "code",
   "execution_count": 99,
   "id": "0a72db55",
   "metadata": {},
   "outputs": [
    {
     "name": "stdout",
     "output_type": "stream",
     "text": [
      "<class 'pandas.core.frame.DataFrame'>\n",
      "RangeIndex: 4027695 entries, 0 to 4027694\n",
      "Data columns (total 9 columns):\n",
      " #   Column       Non-Null Count    Dtype         \n",
      "---  ------       --------------    -----         \n",
      " 0   time         4027695 non-null  datetime64[ns]\n",
      " 1   location     4027695 non-null  object        \n",
      " 2   district     3937463 non-null  category      \n",
      " 3   nature       4027695 non-null  category      \n",
      " 4   status       4027695 non-null  category      \n",
      " 5   inserted_at  4027695 non-null  datetime64[ns]\n",
      " 6   updated_at   4027695 non-null  datetime64[ns]\n",
      " 7   point        3958766 non-null  object        \n",
      " 8   call_id      4027695 non-null  int64         \n",
      "dtypes: category(3), datetime64[ns](3), int64(1), object(2)\n",
      "memory usage: 199.8+ MB\n"
     ]
    }
   ],
   "source": [
    "# https://stackoverflow.com/a/43427677 for arguments to get null counts\n",
    "df.info(verbose=True, show_counts=True)"
   ]
  },
  {
   "cell_type": "code",
   "execution_count": 15,
   "id": "cc2e5cd1",
   "metadata": {},
   "outputs": [
    {
     "data": {
      "text/html": [
       "<div>\n",
       "<style scoped>\n",
       "    .dataframe tbody tr th:only-of-type {\n",
       "        vertical-align: middle;\n",
       "    }\n",
       "\n",
       "    .dataframe tbody tr th {\n",
       "        vertical-align: top;\n",
       "    }\n",
       "\n",
       "    .dataframe thead th {\n",
       "        text-align: right;\n",
       "    }\n",
       "</style>\n",
       "<table border=\"1\" class=\"dataframe\">\n",
       "  <thead>\n",
       "    <tr style=\"text-align: right;\">\n",
       "      <th></th>\n",
       "      <th>id</th>\n",
       "      <th>call_id</th>\n",
       "    </tr>\n",
       "  </thead>\n",
       "  <tbody>\n",
       "    <tr>\n",
       "      <th>count</th>\n",
       "      <td>4.027695e+06</td>\n",
       "      <td>4.027695e+06</td>\n",
       "    </tr>\n",
       "    <tr>\n",
       "      <th>mean</th>\n",
       "      <td>5.589211e+06</td>\n",
       "      <td>1.891808e+08</td>\n",
       "    </tr>\n",
       "    <tr>\n",
       "      <th>std</th>\n",
       "      <td>2.392488e+07</td>\n",
       "      <td>1.459309e+07</td>\n",
       "    </tr>\n",
       "    <tr>\n",
       "      <th>min</th>\n",
       "      <td>1.000000e+00</td>\n",
       "      <td>1.630815e+08</td>\n",
       "    </tr>\n",
       "    <tr>\n",
       "      <th>25%</th>\n",
       "      <td>1.006924e+06</td>\n",
       "      <td>1.732129e+08</td>\n",
       "    </tr>\n",
       "    <tr>\n",
       "      <th>50%</th>\n",
       "      <td>2.013848e+06</td>\n",
       "      <td>1.906707e+08</td>\n",
       "    </tr>\n",
       "    <tr>\n",
       "      <th>75%</th>\n",
       "      <td>3.020772e+06</td>\n",
       "      <td>2.016115e+08</td>\n",
       "    </tr>\n",
       "    <tr>\n",
       "      <th>max</th>\n",
       "      <td>1.635417e+08</td>\n",
       "      <td>2.201010e+08</td>\n",
       "    </tr>\n",
       "  </tbody>\n",
       "</table>\n",
       "</div>"
      ],
      "text/plain": [
       "                 id       call_id\n",
       "count  4.027695e+06  4.027695e+06\n",
       "mean   5.589211e+06  1.891808e+08\n",
       "std    2.392488e+07  1.459309e+07\n",
       "min    1.000000e+00  1.630815e+08\n",
       "25%    1.006924e+06  1.732129e+08\n",
       "50%    2.013848e+06  1.906707e+08\n",
       "75%    3.020772e+06  2.016115e+08\n",
       "max    1.635417e+08  2.201010e+08"
      ]
     },
     "execution_count": 15,
     "metadata": {},
     "output_type": "execute_result"
    }
   ],
   "source": [
    "df.describe()"
   ]
  },
  {
   "cell_type": "markdown",
   "id": "a5c055c7",
   "metadata": {},
   "source": [
    "From the above calls to the [`.head()`](https://pandas.pydata.org/docs/reference/api/pandas.DataFrame.head.html), [`.info()`](https://pandas.pydata.org/docs/reference/api/pandas.DataFrame.info.html), and [`.describe()`](https://pandas.pydata.org/docs/reference/api/pandas.DataFrame.describe.html) methods it is possible to see that the time base features are now properly formatted. The next step is to bin the features by hour. This will be done in order to reduce the granularity of the data as well as matching up this dataset with hourly weather data."
   ]
  },
  {
   "cell_type": "code",
   "execution_count": 16,
   "id": "70b1c29a",
   "metadata": {},
   "outputs": [],
   "source": [
    "# TODO"
   ]
  },
  {
   "cell_type": "markdown",
   "id": "bd9a72e9",
   "metadata": {},
   "source": [
    "Next the id and point columns will be dropped since they are artifacts of the database the data was stored in. The point column is a hexadecimal postgres geometry point object that matches up to a location. Since it can not be reverse interpreted and will be correlated with location we will be dropping it."
   ]
  },
  {
   "cell_type": "code",
   "execution_count": 17,
   "id": "fa7cf06f",
   "metadata": {},
   "outputs": [
    {
     "data": {
      "text/html": [
       "<div>\n",
       "<style scoped>\n",
       "    .dataframe tbody tr th:only-of-type {\n",
       "        vertical-align: middle;\n",
       "    }\n",
       "\n",
       "    .dataframe tbody tr th {\n",
       "        vertical-align: top;\n",
       "    }\n",
       "\n",
       "    .dataframe thead th {\n",
       "        text-align: right;\n",
       "    }\n",
       "</style>\n",
       "<table border=\"1\" class=\"dataframe\">\n",
       "  <thead>\n",
       "    <tr style=\"text-align: right;\">\n",
       "      <th></th>\n",
       "      <th>time</th>\n",
       "      <th>location</th>\n",
       "      <th>district</th>\n",
       "      <th>nature</th>\n",
       "      <th>status</th>\n",
       "      <th>inserted_at</th>\n",
       "      <th>updated_at</th>\n",
       "      <th>point</th>\n",
       "      <th>call_id</th>\n",
       "    </tr>\n",
       "  </thead>\n",
       "  <tbody>\n",
       "    <tr>\n",
       "      <th>0</th>\n",
       "      <td>2019-05-21 15:19:03</td>\n",
       "      <td>7420 W GOOD HOPE RD,MKE</td>\n",
       "      <td>4</td>\n",
       "      <td>ACC PI</td>\n",
       "      <td>Service in Progress</td>\n",
       "      <td>2019-05-21 20:51:09</td>\n",
       "      <td>2019-05-21 20:51:09</td>\n",
       "      <td>0101000020E6100000FC7C94111793454061D971683600...</td>\n",
       "      <td>191411633</td>\n",
       "    </tr>\n",
       "    <tr>\n",
       "      <th>1</th>\n",
       "      <td>2019-05-21 15:24:30</td>\n",
       "      <td>1421 N 27TH ST,MKE</td>\n",
       "      <td>3</td>\n",
       "      <td>TRAFFIC STOP</td>\n",
       "      <td>City Citation(s) Issued</td>\n",
       "      <td>2019-05-21 20:57:11</td>\n",
       "      <td>2019-05-21 20:57:11</td>\n",
       "      <td>0101000020E6100000D2AB014A4386454067C416CCA9FC...</td>\n",
       "      <td>191411672</td>\n",
       "    </tr>\n",
       "    <tr>\n",
       "      <th>2</th>\n",
       "      <td>2019-05-21 15:25:46</td>\n",
       "      <td>4054 N 71ST ST,MKE</td>\n",
       "      <td>7</td>\n",
       "      <td>SUBJ WANTED</td>\n",
       "      <td>Assignment Completed</td>\n",
       "      <td>2019-05-21 21:00:12</td>\n",
       "      <td>2019-05-21 21:00:12</td>\n",
       "      <td>0101000020E610000053FFC5D8AE8B45402CAE3B270700...</td>\n",
       "      <td>191411674</td>\n",
       "    </tr>\n",
       "    <tr>\n",
       "      <th>3</th>\n",
       "      <td>2019-05-21 20:46:28</td>\n",
       "      <td>245 W LINCOLN AV,MKE</td>\n",
       "      <td>2</td>\n",
       "      <td>SPECIAL ASSIGN</td>\n",
       "      <td>Service in Progress</td>\n",
       "      <td>2019-05-22 02:22:32</td>\n",
       "      <td>2019-05-22 02:22:32</td>\n",
       "      <td>0101000020E610000078ABF8D04F804540633ABE0779FA...</td>\n",
       "      <td>191412545</td>\n",
       "    </tr>\n",
       "    <tr>\n",
       "      <th>4</th>\n",
       "      <td>2019-05-21 20:50:03</td>\n",
       "      <td>1721 W CANAL ST,MKE</td>\n",
       "      <td>3</td>\n",
       "      <td>TRBL W/SUBJ</td>\n",
       "      <td>Unable to Locate Complainant</td>\n",
       "      <td>2019-05-22 02:25:33</td>\n",
       "      <td>2019-05-22 02:25:33</td>\n",
       "      <td>0101000020E6100000E8323509DE834540C3D7D7BAD4FB...</td>\n",
       "      <td>191412465</td>\n",
       "    </tr>\n",
       "  </tbody>\n",
       "</table>\n",
       "</div>"
      ],
      "text/plain": [
       "                 time                 location district          nature  \\\n",
       "0 2019-05-21 15:19:03  7420 W GOOD HOPE RD,MKE        4          ACC PI   \n",
       "1 2019-05-21 15:24:30       1421 N 27TH ST,MKE        3    TRAFFIC STOP   \n",
       "2 2019-05-21 15:25:46       4054 N 71ST ST,MKE        7     SUBJ WANTED   \n",
       "3 2019-05-21 20:46:28     245 W LINCOLN AV,MKE        2  SPECIAL ASSIGN   \n",
       "4 2019-05-21 20:50:03      1721 W CANAL ST,MKE        3     TRBL W/SUBJ   \n",
       "\n",
       "                         status         inserted_at          updated_at  \\\n",
       "0           Service in Progress 2019-05-21 20:51:09 2019-05-21 20:51:09   \n",
       "1       City Citation(s) Issued 2019-05-21 20:57:11 2019-05-21 20:57:11   \n",
       "2          Assignment Completed 2019-05-21 21:00:12 2019-05-21 21:00:12   \n",
       "3           Service in Progress 2019-05-22 02:22:32 2019-05-22 02:22:32   \n",
       "4  Unable to Locate Complainant 2019-05-22 02:25:33 2019-05-22 02:25:33   \n",
       "\n",
       "                                               point    call_id  \n",
       "0  0101000020E6100000FC7C94111793454061D971683600...  191411633  \n",
       "1  0101000020E6100000D2AB014A4386454067C416CCA9FC...  191411672  \n",
       "2  0101000020E610000053FFC5D8AE8B45402CAE3B270700...  191411674  \n",
       "3  0101000020E610000078ABF8D04F804540633ABE0779FA...  191412545  \n",
       "4  0101000020E6100000E8323509DE834540C3D7D7BAD4FB...  191412465  "
      ]
     },
     "execution_count": 17,
     "metadata": {},
     "output_type": "execute_result"
    }
   ],
   "source": [
    "df = df.drop('id', axis=1)\n",
    "# df = df.drop('point', axis=1) ### do not want to drop this as its a postgres geospatial for approx lat long.\n",
    "df.head()"
   ]
  },
  {
   "cell_type": "markdown",
   "id": "4f7c4db1",
   "metadata": {},
   "source": [
    "The nature, status, and district features will now be converted into categorical features"
   ]
  },
  {
   "cell_type": "code",
   "execution_count": 18,
   "id": "ac788422",
   "metadata": {},
   "outputs": [
    {
     "data": {
      "text/plain": [
       "array(['4', '3', '7', '2', '5', '6', '1', nan, 'OCOE', 'OUT', 'NTF',\n",
       "       'SPD', 'CITY', 'ICS3', 'CIB', 'DPR', 'TRU', 'SCD', 'ICS', 'SF',\n",
       "       'NLA', 'ICS1', 'IFC', 'FI', 'SID', 'D0', 'ICS7', 'ICS5', 'JUNE',\n",
       "       'DDAC', 'MIRT', 'ICS6', 'ID', 'ADMN', 'TEU', 'MID', 'NID'],\n",
       "      dtype=object)"
      ]
     },
     "execution_count": 18,
     "metadata": {},
     "output_type": "execute_result"
    }
   ],
   "source": [
    "df['district'].unique()"
   ]
  },
  {
   "cell_type": "code",
   "execution_count": 19,
   "id": "5af53572",
   "metadata": {},
   "outputs": [
    {
     "data": {
      "text/plain": [
       "3       673002\n",
       "7       650109\n",
       "5       567958\n",
       "4       552701\n",
       "2       545253\n",
       "6       473525\n",
       "1       448786\n",
       "CITY      7080\n",
       "NTF       6274\n",
       "SPD       5477\n",
       "OCOE      3316\n",
       "OUT       2249\n",
       "DDAC       399\n",
       "SCD        300\n",
       "DPR        277\n",
       "ICS1       229\n",
       "CIB        218\n",
       "FI          83\n",
       "SF          55\n",
       "NLA         34\n",
       "ICS3        32\n",
       "SID         31\n",
       "ICS         23\n",
       "TEU         16\n",
       "ICS5         9\n",
       "JUNE         5\n",
       "ICS6         4\n",
       "IFC          4\n",
       "TRU          3\n",
       "D0           2\n",
       "MIRT         2\n",
       "ADMN         2\n",
       "NID          2\n",
       "ICS7         1\n",
       "ID           1\n",
       "MID          1\n",
       "Name: district, dtype: int64"
      ]
     },
     "execution_count": 19,
     "metadata": {},
     "output_type": "execute_result"
    }
   ],
   "source": [
    "df['district'].value_counts()"
   ]
  },
  {
   "cell_type": "markdown",
   "id": "171ed894",
   "metadata": {},
   "source": [
    "Running a value counts on the different districts shows that there are more than the expected number of police districts in the city of Milwaukee present in the data. There should only be districts one through seven. Instead the data contains more districts than expected. These districts will be converted into categorical anyways as their entries will be useful for some observations. The erraneous districts will likely be ignored when drawing district based conclusions as it is not known what the other districts mean. District will be converted to a categorical with 36 different categories."
   ]
  },
  {
   "cell_type": "code",
   "execution_count": 20,
   "id": "4b76c53f",
   "metadata": {},
   "outputs": [
    {
     "data": {
      "text/plain": [
       "array(['ACC PI', 'TRAFFIC STOP', 'SUBJ WANTED', 'SPECIAL ASSIGN',\n",
       "       'TRBL W/SUBJ', 'PARK AND WALK', 'WELFARE CITIZEN', 'BATTERY DV',\n",
       "       'RETURN STATION', 'BUSINESS CHECK', 'SUSPICIOUS-OTH', 'REPORTS',\n",
       "       'THEFT', 'VIOL REST ORDER', 'SUBJ WITH GUN', 'TAVERN CHECK',\n",
       "       'PATROL', 'FOLLOW UP', 'ACC PDO', 'TRAFFIC HAZARD',\n",
       "       'FAMILY TROUBLE', 'NON PURSUIT', 'BATTERY', 'INVESTIGATION',\n",
       "       'PRISONER TRANS', 'BUS INV', 'CALL FOR POLICE', 'THEFT VEHICLE',\n",
       "       'SUSP PERS/AUTO', 'ENTRY TO AUTO', 'ASSIGNMENT', 'PROPERTY DAMAGE',\n",
       "       'IND EXPOSURE', 'NOISE NUISANCE', 'PROPERTY PICKUP', 'SOLICITING',\n",
       "       'STOLEN VEHICLE', 'OUT OF SERVICE', 'COURT DUTY', 'ENTRY',\n",
       "       'PARKING TROUBLE', 'GRAFFITI', 'TRBL W/JUV', 'SHOTS FIRED',\n",
       "       'SHOTSPOTTER', 'BUS INVESTIGATIO', 'THREAT', 'SUBJ WITH WEAPON',\n",
       "       'TRAFFIC LASER', 'HOME VISIT DV', 'COMMUNITY MTNG',\n",
       "       'CITIZEN CONTACT', 'RECK USE OF WEAP', 'ABAND/STOLEN PRO',\n",
       "       'ASSIGN-ADMN MPD', 'CONVEY PROPERTY', 'NETWORK CRIMINAL',\n",
       "       'THEFT FROM PERSN', 'SUBJ STOP', 'INJ PERSON/SICK', 'ACC UNKN INJ',\n",
       "       'TRUANT', 'INJ/SICK PERS', 'THREAT SCHOOL', 'OVERDOSE',\n",
       "       'HOLDUP ALARM', 'ESCORT', 'BURG/AUD BUSINES', 'SUBJ W/GUN',\n",
       "       'ALTERED CURRENCY', 'DEAD ON ENTRY', 'FIRE', 'CITIZEN CONVEY',\n",
       "       'LOOSE ANIMAL', 'ROBBERY', 'VACANT HOUSE CHK', 'PROBATION/PAROLE',\n",
       "       'CRUELTY ANIMAL', 'ROBBERY ARMED', 'ADDL INFO', 'SCHL MONITORING',\n",
       "       'DRUG DEALING', 'BATTERY CUTTING', 'FIGHT', 'SHOPLIFTER',\n",
       "       'CHILD CUSTODY', 'NOTIFICATION', 'PROB_PAROL_CK_RQ', 'DUI',\n",
       "       'FOOT PURSUIT', 'VEHICLE PURSUIT', 'SHOOTING', 'MEET GOVT AGENCY',\n",
       "       'ABDUCTION', 'ACC UNK INJ', 'ABAND/PROP WEAPO', 'RECKLESS VEHICLE',\n",
       "       'LANDLORD/TEN TRB', 'HOSTAGE SIT', 'WELFARE CHK', 'ABAND PROPERTY',\n",
       "       'MFD OTHER', 'GPS MONITORING', 'WIRES DOWN', 'CHILD ENTICEMENT',\n",
       "       'TS TARGETED', 'NON PURSUIT NO P', 'ROBBERY ST ARM', 'MED RUN',\n",
       "       'HOSPITAL GUARD', 'REPORTS STATION', 'HOSPITAL TO MCMH',\n",
       "       'GAMBLING', 'PARKING TRBL', 'SUBJ W/WEAP', 'JUV CONVEY',\n",
       "       'OAI/INTOX DRIVER', 'ANIMAL BITE', 'FRAUD', 'LOST CHILD',\n",
       "       'ENTRY TO AUTOS', 'TRAFFIC CONTROL', 'VEHICLE MAINT',\n",
       "       'SEARCH WARRANT', 'LOCKOUT', 'BOAT STOP', 'PD/OTHER IN MKE',\n",
       "       'MFD SECURITY', 'RECOVERED VEH', 'SUSP PKG/DEVICE', 'FIREWORKS',\n",
       "       'GAS LEAK', 'PLANT CAR', 'ASSIST FIRE/AMB', 'BURG/AUD RESI',\n",
       "       'DEMONSTRATION', '911 ABUSE', 'PHOTO ASSIGN', 'SEARCH RESCUE/RE',\n",
       "       'BURGLAR ALARM', 'MARINE VIOL', 'BATTERY CUT-DV', 'EXPLOSION',\n",
       "       'DOCUMENTED CALL', 'BURG/AUD GOVT', 'ASSIST OFFICER', 'SCHOOL',\n",
       "       'SEND BACKUP', 'MEET PD/OTHER', 'METH LAB', 'MPD MON ALARM',\n",
       "       'INTERNET CRIMES', 'BB GUN COMPLNT', 'LOUD MUSIC - VEH',\n",
       "       'ADD INFO', 'FORGERY', '911 ABUSE CONFIR', 'PHONE CALL COMPL',\n",
       "       'CONT DEL MINOR', 'STRND/DIS VESSEL', 'THREAT OFFICER',\n",
       "       'TAVERN VIOL', 'BOMB THREAT', 'SEND SQUAD/MEET',\n",
       "       'TAVERN VIOLATION', 'WATER MAIN BREAK', 'WATER MAIN BRK',\n",
       "       'POLICE ACADEMY', 'SUBJ IN WATER', 'SUSPICIOUS/OTH', 'UNDEFINED',\n",
       "       'TRESPASSER', 'HAZ WASTE MAT', 'BOAT_STOP', 'QQ', 'LOITERING',\n",
       "       'LOCK OUT', 'EXPLOSIVES', 'PROWLERS', 'PRISONER BOOKING',\n",
       "       'ESP TARGET ESCOR', 'ASSIST', '.', 'PAB', 'RECOVERED PROP',\n",
       "       'OPEN HYDRANT', 'LOUD MUSIC - RES', 'ID QUESTION', '1603',\n",
       "       'LOST PROPERTY', 'ACC PI HWY', 'SCHL EXTRA EVENT', 'HOSP GUARD',\n",
       "       'MFD REFERRED OTH', 'REPORT TO 10-22', 'RECVRD VEHICLE',\n",
       "       'CAR CHANGE', 'ALARM ON BUS', 'SCHL PERIMETER', 'LOUD MUSIC - BUS',\n",
       "       'ACTIVE SHOOTER', 'SCHL WEAPON SCAN', 'PICKUP PARTNER',\n",
       "       'OVERTURNED BOAT', 'ACC UNK INJ HWY', 'LOST/STOLEN PRO',\n",
       "       'SUBJ DOWN', 'PANIC ALARM', 'RECVRD PROPERTY', 'POLICE ADMIN',\n",
       "       'ENTRY AUTOS', 'SCHL PRESENTATIO', 'MAIL RUN', 'FLEEING',\n",
       "       'MEET MFD', 'CRIMINIAL INFO', 'ILLEGAL DUMPING', 'CST ASSIGNMENT',\n",
       "       'GAME PLAN', 'STREET CAR INV', 'LOUD MUSIC - OTH', 'OFFICER SHOT',\n",
       "       'FRAUD CRED CARD', 'BUSINESS CHECK-C', 'NTF IN AREA',\n",
       "       '1 BLOCK NORTH OF', 'VARDA BURGLAR', 'SRCH WRRNT - RES',\n",
       "       'FLOODING', 'LOST PROP', 'LOST/STOL', 'CAR CHECK', '911 TEST CALL',\n",
       "       'STOLEN VEH', '1733', 'E', 'STARCHASE', 'THREATS', 'ENTRY-DV',\n",
       "       'SUBJ W/WEAPON-DV', 'TRBL W/SUBJ-DV', 'SUBJ WITH GUN-DV',\n",
       "       'FAMILY TROUBL-DV', 'PROPERTY DAM-DV', 'VIOL REST ORD-DV',\n",
       "       'RECK USE OF W-DV', 'ROBBERY ARMED-DV', '3410', 'ROBBERY STARM-DV',\n",
       "       'UNATTEND PACKAGE', 'SEX ASSAULT-DV', 'ACC PDO HWY',\n",
       "       'ABDUCTION-DV', 'CALL BY PHONE', 'F', 'TICKET QUESTION',\n",
       "       'ENTRY AUTOS-DV', 'SUBJ W/WEAPON', 'AIRCRAFT DOWN', '0',\n",
       "       'SCHL MEDIATION', 'SHOTS FIRED-DV', 'OOU', 'STREET CAR CHECK',\n",
       "       'SCHL SAFETY MTG', 'PARENT QUESTION', 'LICENSE QUESTION',\n",
       "       'RECKLESS VEH-DV', 'FALSE FIRE ALARM', 'ASSIGN ADMN MPD',\n",
       "       'LIIEGAL DUMPING', 'REPORT TO 10-2', 'POSSIBLE KIDNAPP',\n",
       "       'HOSTAGE SIT-DV', 'MOST WANTED', 'STOLEN PROP', 'VIOL REST ORD',\n",
       "       'BATTERY/DV', 'LOST /STOLEN PRO', 'CIT COMPLAINT',\n",
       "       'STOLEN PROPERTY', 'SCHOOL CROSSING', 'VEHICLE ALARM', '1359',\n",
       "       '1301', 'ACC PD1', 'ABAND/LOST', '2831 N 21ST', 'THREAT TO SCHOOL',\n",
       "       'ELDER ABUSE', 'TORNADO TOUCHDWN', 'SEND SQUAD MEET',\n",
       "       'AFTER HOURS CK', 'LOST  PROPERTY', 'INFO', 'PER MFD REQ SQDF',\n",
       "       'CURFEW', 'ACC', 'SRCH WRRNT - OTH', 'STOL. PROP', '`', '2532',\n",
       "       'GANG', 'TRBL W/SUB', 'JUV', 'CHECK', 'BOAT CHECK', 'ENTRY AUTO',\n",
       "       '230 N 37TH ST', 'ABAND/LOST PROP', '3', 'LOST PASSPORT',\n",
       "       'DISABLED BOAT', 'WEAPON', 'CALL FOR POL-DV', 'FIGHT-DV',\n",
       "       'FAMILY TROUBLEDV'], dtype=object)"
      ]
     },
     "execution_count": 20,
     "metadata": {},
     "output_type": "execute_result"
    }
   ],
   "source": [
    "df['nature'].unique()"
   ]
  },
  {
   "cell_type": "code",
   "execution_count": 21,
   "id": "720e851d",
   "metadata": {},
   "outputs": [
    {
     "data": {
      "text/plain": [
       "TRAFFIC STOP        401644\n",
       "BUSINESS CHECK      325863\n",
       "TRBL W/SUBJ         237324\n",
       "RETURN STATION      209934\n",
       "FOLLOW UP           150661\n",
       "                     ...  \n",
       "ACC PD1                  1\n",
       "ABAND/LOST               1\n",
       "2831 N 21ST              1\n",
       "THREAT TO SCHOOL         1\n",
       "STOLEN PROP              1\n",
       "Name: nature, Length: 317, dtype: int64"
      ]
     },
     "execution_count": 21,
     "metadata": {},
     "output_type": "execute_result"
    }
   ],
   "source": [
    "df['nature'].value_counts()"
   ]
  },
  {
   "cell_type": "markdown",
   "id": "69ddf312",
   "metadata": {},
   "source": [
    "The natures all look normal. They will be converted into a categorical value which will have 317 categories."
   ]
  },
  {
   "cell_type": "code",
   "execution_count": 22,
   "id": "594aa71d",
   "metadata": {},
   "outputs": [
    {
     "data": {
      "text/plain": [
       "array(['Service in Progress', 'City Citation(s) Issued',\n",
       "       'Assignment Completed', 'Unable to Locate Complainant', 'Advised',\n",
       "       'To be Filed', 'Advised/Referral', 'No Prosecution',\n",
       "       'Open Investigation', 'Cleared by Arrest', 'False Alarm',\n",
       "       'Filed Driver Exchange Report', 'Patrol Request', 'Referral',\n",
       "       'Ordered to Appear', 'State Citation(s) Issued',\n",
       "       'False Alarm (Weather Related)'], dtype=object)"
      ]
     },
     "execution_count": 22,
     "metadata": {},
     "output_type": "execute_result"
    }
   ],
   "source": [
    "df['status'].unique()"
   ]
  },
  {
   "cell_type": "code",
   "execution_count": 23,
   "id": "8a92f2ab",
   "metadata": {},
   "outputs": [
    {
     "data": {
      "text/plain": [
       "Service in Progress              1424568\n",
       "Assignment Completed             1186663\n",
       "Advised                           615111\n",
       "Unable to Locate Complainant      336406\n",
       "To be Filed                       164199\n",
       "City Citation(s) Issued           153937\n",
       "Advised/Referral                   87051\n",
       "Open Investigation                 40803\n",
       "No Prosecution                      6475\n",
       "Cleared by Arrest                   4696\n",
       "False Alarm                         2889\n",
       "Filed Driver Exchange Report        2631\n",
       "Referral                            1291\n",
       "Patrol Request                       697\n",
       "State Citation(s) Issued             160\n",
       "False Alarm (Weather Related)         93\n",
       "Ordered to Appear                     25\n",
       "Name: status, dtype: int64"
      ]
     },
     "execution_count": 23,
     "metadata": {},
     "output_type": "execute_result"
    }
   ],
   "source": [
    "df['status'].value_counts()"
   ]
  },
  {
   "cell_type": "markdown",
   "id": "59854e7e",
   "metadata": {},
   "source": [
    "Status looks normal as well and will be converted to a categorical value. It will contain 17 different categories."
   ]
  },
  {
   "cell_type": "code",
   "execution_count": 24,
   "id": "b7c844c0",
   "metadata": {},
   "outputs": [],
   "source": [
    "df['district'] = df['district'].astype(\"category\")\n",
    "df['nature'] = df['nature'].astype(\"category\")\n",
    "df['status'] = df['status'].astype('category')"
   ]
  },
  {
   "cell_type": "code",
   "execution_count": 25,
   "id": "68eeb970",
   "metadata": {},
   "outputs": [
    {
     "data": {
      "text/plain": [
       "CategoricalDtype(categories=['1', '2', '3', '4', '5', '6', '7', 'ADMN', 'CIB', 'CITY',\n",
       "                  'D0', 'DDAC', 'DPR', 'FI', 'ICS', 'ICS1', 'ICS3', 'ICS5',\n",
       "                  'ICS6', 'ICS7', 'ID', 'IFC', 'JUNE', 'MID', 'MIRT', 'NID',\n",
       "                  'NLA', 'NTF', 'OCOE', 'OUT', 'SCD', 'SF', 'SID', 'SPD',\n",
       "                  'TEU', 'TRU'],\n",
       ", ordered=False)"
      ]
     },
     "execution_count": 25,
     "metadata": {},
     "output_type": "execute_result"
    }
   ],
   "source": [
    "df['district'].dtype"
   ]
  },
  {
   "cell_type": "code",
   "execution_count": 26,
   "id": "c0f8baf6",
   "metadata": {},
   "outputs": [
    {
     "data": {
      "text/plain": [
       "CategoricalDtype(categories=['.', '0', '1 BLOCK NORTH OF', '1301', '1359', '1603', '1733',\n",
       "                  '230 N 37TH ST', '2532', '2831 N 21ST',\n",
       "                  ...\n",
       "                  'VIOL REST ORD', 'VIOL REST ORD-DV', 'VIOL REST ORDER',\n",
       "                  'WATER MAIN BREAK', 'WATER MAIN BRK', 'WEAPON',\n",
       "                  'WELFARE CHK', 'WELFARE CITIZEN', 'WIRES DOWN', '`'],\n",
       ", ordered=False)"
      ]
     },
     "execution_count": 26,
     "metadata": {},
     "output_type": "execute_result"
    }
   ],
   "source": [
    "df['nature'].dtype"
   ]
  },
  {
   "cell_type": "code",
   "execution_count": 27,
   "id": "f25b7828",
   "metadata": {},
   "outputs": [
    {
     "data": {
      "text/plain": [
       "CategoricalDtype(categories=['Advised', 'Advised/Referral', 'Assignment Completed',\n",
       "                  'City Citation(s) Issued', 'Cleared by Arrest',\n",
       "                  'False Alarm', 'False Alarm (Weather Related)',\n",
       "                  'Filed Driver Exchange Report', 'No Prosecution',\n",
       "                  'Open Investigation', 'Ordered to Appear', 'Patrol Request',\n",
       "                  'Referral', 'Service in Progress',\n",
       "                  'State Citation(s) Issued', 'To be Filed',\n",
       "                  'Unable to Locate Complainant'],\n",
       ", ordered=False)"
      ]
     },
     "execution_count": 27,
     "metadata": {},
     "output_type": "execute_result"
    }
   ],
   "source": [
    "df['status'].dtype"
   ]
  },
  {
   "cell_type": "markdown",
   "id": "9fa844a5",
   "metadata": {},
   "source": [
    "The nature, status, and district features are now formatted as categories.\n",
    "\n",
    "The last step is to extract features from the location category"
   ]
  },
  {
   "cell_type": "code",
   "execution_count": 54,
   "id": "f0c7bb5f",
   "metadata": {},
   "outputs": [],
   "source": [
    "def get_street_info(address: str) -> (int, str, str, int):\n",
    "    \"\"\"\n",
    "    This method will take in a string representing an address and will return the information present in that address.\n",
    "    Some example addresses are as follows:\n",
    "        0             7420 W GOOD HOPE RD,MKE\n",
    "        1                  1421 N 27TH ST,MKE\n",
    "        2                  4054 N 71ST ST,MKE\n",
    "        3                245 W LINCOLN AV,MKE\n",
    "        4                 1721 W CANAL ST,MKE\n",
    "        5         E WRIGHT ST / N WEIL ST,MKE\n",
    "        6                  9010 N 95TH ST,MKE\n",
    "    :param address: the string passed in representing the address\n",
    "    :return: a tuple containing (home number, street name, street type)\n",
    "    :auth: Grant Fass\n",
    "    :since: 6 December 2021\n",
    "    \"\"\"\n",
    "    street_type_lookup = [\"ALY\", \"ANX\", \"ARC\", \"AVE\", \"BYU\", \"BCH\", \"BND\", \"BLF\", \"BLFS\", \"BTM\", \"BLVD\", \"BR\", \"BRG\", \"BRK\", \"BRKS\", \"BG\", \"BGS\", \"BYP\", \"CP\", \"CYN\", \"CPE\",\n",
    "                          \"CSWY\", \"CTR\", \"CTRS\", \"CIR\", \"CIRS\", \"CLF\", \"CLFS\", \"CLB\", \"CMN\", \"CMNS\", \"COR\", \"CORS\", \"CRSE\", \"CT\", \"CTS\", \"CV\", \"CVS\", \"CRK\", \"CRES\", \"CRST\", \n",
    "                          \"XING\", \"XRD\", \"XRDS\", \"CURV\", \"DL\", \"DM\", \"DV\", \"DR\", \"EST\", \"ESTS\", \"EXPY\", \"EXT\", \"EXTS\", \"FALL\", \"FLS\", \"FRY\", \"FLD\", \"FLDS\", \"FLT\", \"FLTS\", \n",
    "                          \"FRD\", \"FRDS\", \"FRST\", \"FRG\", \"FRGS\", \"FRK\", \"FRKS\", \"FT\", \"FWY\", \"GDN\", \"GDNS\", \"GTWY\", \"GLN\", \"GLNS\", \"GRN\", \"GRNS\", \"GRV\", \"GRVS\", \"HBR\", \"HBRS\", \n",
    "                          \"HVN\", \"HTS\", \"HWY\", \"HL\", \"HLS\", \"HOLW\", \"INLT\", \"IS\", \"ISS\", \"ISLE\", \"JCT\", \"JCTS\", \"KY\", \"KYS\", \"KNL\", \"KNLS\", \"LK\", \"LKS\", \"LAND\", \"LNDG\", \"LN\",\n",
    "                          \"LGT\", \"LGTS\", \"LF\", \"LCK\", \"LCKS\", \"LDG\", \"LOOP\", \"MALL\", \"MNR\", \"MNRS\", \"MDW\", \"MDWS\", \"MEWS\", \"ML\", \"MLS\", \"MSN\", \"MTWY\", \"MT\", \"MTN\", \"MTNS\", \n",
    "                          \"NCK\", \"ORCH\", \"OVAL\", \"OPAS\", \"PARK\", \"PKWY\", \"PASS\", \"PSGE\", \"PATH\", \"PIKE\", \"PNE\", \"PNES\", \"PL\", \"PLN\", \"PLNS\", \"PLZ\", \"PT\", \"PTS\", \"PRT\", \"PRTS\", \n",
    "                          \"PR\", \"RADL\", \"RAMP\", \"RNCH\", \"RPD\", \"RPDS\", \"RST\", \"RDG\", \"RDGS\", \"RIV\", \"RD\", \"RDS\", \"RTE\", \"ROW\", \"RUE\", \"RUN\", \"SHL\", \"SHLS\", \"SHR\", \"SHRS\", \n",
    "                          \"SKWY\", \"SPG\", \"SPGS\", \"SPUR\", \"SQ\", \"SQS\", \"STA\", \"STRA\", \"STRM\", \"ST\", \"STS\", \"SMT\", \"TER\", \"TRWY\", \"TRCE\", \"TRAK\", \"TRFY\", \"TRL\", \"TRLR\", \"TUNL\",\n",
    "                          \"TPKE\", \"UPAS\", \"UN\", \"UNS\", \"VLY\", \"VLYS\", \"VIA\", \"VW\", \"VWS\", \"VLG\", \"VLGS\", \"VL\", \"VIS\", \"WALK\", \"WALL\", \"WAY\", \"WAYS\", \"WL\", \"WLS\", \"AV\"]\n",
    "    # this is used primarily for error checking\n",
    "    unmatched_suffix = \"\"\n",
    "    # remove the ,MKE suffix from the location if present\n",
    "    address = address.removesuffix(\",MKE\")\n",
    "    # Array containing the seperate addresses in the passed entry\n",
    "    addresses = []\n",
    "    # Check if the entry contains a / or not.\n",
    "    # The presence of a / denotes the entry as a corner with two streets present\n",
    "    # For example: N HUMBOLDT AV / E NORTH AV\n",
    "    if ('/' in address):\n",
    "        addresses = address.split(' / ')\n",
    "    else:\n",
    "        addresses = [address]\n",
    "    \n",
    "    # now perform opperations for each address\n",
    "    # print(addresses)\n",
    "    out = []\n",
    "    for a in addresses:\n",
    "        # Set up the values to be returned\n",
    "        house_number = None\n",
    "        street = None\n",
    "        street_suffix = None\n",
    "        # split appart the address on spaces\n",
    "        s = a.split(' ')\n",
    "        # Check if the first cell is a nueric. This would be the house number if it is a numeric\n",
    "        if s[0].isnumeric():\n",
    "            # house number present\n",
    "            house_number = int(s[0])\n",
    "            street = ' '.join(s[1:-1]) # use -1 since last index is exclusive\n",
    "        else:\n",
    "            street = ' '.join(s[0:-1])\n",
    "        # update the street suffix based on the last entry in the array\n",
    "        if s[-1] in street_type_lookup:\n",
    "            street_suffix = s[-1]\n",
    "        # add the entries into the return field\n",
    "        out.append((house_number, street, street_suffix))\n",
    "    return out"
   ]
  },
  {
   "cell_type": "code",
   "execution_count": 57,
   "id": "1444eba4",
   "metadata": {},
   "outputs": [
    {
     "data": {
      "text/plain": [
       "[(None, 'E WRIGHT', 'ST'), (None, 'N WEIL', 'ST')]"
      ]
     },
     "execution_count": 57,
     "metadata": {},
     "output_type": "execute_result"
    }
   ],
   "source": [
    "#  E WRIGHT ST / N WEIL ST,MKE\n",
    "get_street_info(df['location'][5])"
   ]
  },
  {
   "cell_type": "code",
   "execution_count": 58,
   "id": "4b80b4b2",
   "metadata": {},
   "outputs": [
    {
     "data": {
      "text/plain": [
       "[(1421, 'N 27TH', 'ST')]"
      ]
     },
     "execution_count": 58,
     "metadata": {},
     "output_type": "execute_result"
    }
   ],
   "source": [
    "#  1421 N 27TH ST,MKE\n",
    "get_street_info(df['location'][1])"
   ]
  },
  {
   "cell_type": "code",
   "execution_count": 59,
   "id": "9eb17269",
   "metadata": {},
   "outputs": [
    {
     "data": {
      "text/plain": [
       "0        7420 W GOOD HOPE RD,MKE\n",
       "1             1421 N 27TH ST,MKE\n",
       "2             4054 N 71ST ST,MKE\n",
       "3           245 W LINCOLN AV,MKE\n",
       "4            1721 W CANAL ST,MKE\n",
       "5    E WRIGHT ST / N WEIL ST,MKE\n",
       "Name: location, dtype: object"
      ]
     },
     "execution_count": 59,
     "metadata": {},
     "output_type": "execute_result"
    }
   ],
   "source": [
    "df['location'].head(6)"
   ]
  },
  {
   "cell_type": "markdown",
   "id": "6a15cc1a",
   "metadata": {},
   "source": [
    "Some of the locations are corners of two streets and the others are single house or location addresses. Due to this it will be necessary to create a categorical feature denoting if the entry is a corner or not. The attributes of both locations will then be recorded as well. Because corner locations do not have house numbers attached these will not be included for the second location value. Overall the following features will be added:\n",
    "- isCorner\n",
    "- houseNumber\n",
    "- primaryStreetName\n",
    "- primaryStreetSuffix\n",
    "- secondaryStreetName\n",
    "- secondaryStreetSuffix"
   ]
  },
  {
   "cell_type": "code",
   "execution_count": 89,
   "id": "9271ac43",
   "metadata": {},
   "outputs": [],
   "source": [
    "def get_street_data_as_array(location: []) -> [int, int, str, str, str, str]:\n",
    "    \"\"\"\n",
    "    Method to take in a location that contains up to two streets and combine it into one list for output.\n",
    "    The location is an array of tuples up to two in length.\n",
    "    Each tuple will have 3 entries of the form (houseNumber, streetName, streetSuffix).\n",
    "    If two entries are present then the location is a corner.\n",
    "    The output list will be of the form [isCorner, houseNumber, primaryStreetName, primaryStreetSuffix, secondaryStreetName, secondaryStreetSuffix]\n",
    "    :param location: an array of tuples up to two in length.\n",
    "    :return: list will be of the form [isCorner, houseNumber, primaryStreetName, primaryStreetSuffix, secondaryStreetName, secondaryStreetSuffix]\n",
    "    :auth: Grant Fass\n",
    "    :since: 8 February 2022\n",
    "    \"\"\"\n",
    "    \n",
    "    if len(location) == 1:\n",
    "        # is not corner\n",
    "        location_vals = list(location[0])\n",
    "        return [False, location_vals[0], location_vals[1], location_vals[2], None, None]\n",
    "    else:\n",
    "        # is corner\n",
    "        primary_location_vals = list(location[0])\n",
    "        secondary_location_vals = list(location[1])\n",
    "        return [True, None, primary_location_vals[1], primary_location_vals[2], \n",
    "        secondary_location_vals[1], secondary_location_vals[2]]"
   ]
  },
  {
   "cell_type": "code",
   "execution_count": 90,
   "id": "31433dcc",
   "metadata": {},
   "outputs": [
    {
     "data": {
      "text/plain": [
       "[False, 1421, 'N 27TH', 'ST', None, None]"
      ]
     },
     "execution_count": 90,
     "metadata": {},
     "output_type": "execute_result"
    }
   ],
   "source": [
    "get_street_data_as_array(get_street_info(df['location'][1]))"
   ]
  },
  {
   "cell_type": "code",
   "execution_count": 91,
   "id": "a3b33dd9",
   "metadata": {},
   "outputs": [
    {
     "data": {
      "text/plain": [
       "[True, None, 'E WRIGHT', 'ST', 'N WEIL', 'ST']"
      ]
     },
     "execution_count": 91,
     "metadata": {},
     "output_type": "execute_result"
    }
   ],
   "source": [
    "get_street_data_as_array(get_street_info(df['location'][5]))"
   ]
  },
  {
   "cell_type": "code",
   "execution_count": 92,
   "id": "500e02c1",
   "metadata": {},
   "outputs": [],
   "source": [
    "# tolist() is needed since the output is a ndarray of lists.\n",
    "street_data = df[\"location\"].map(get_street_info).map(get_street_data_as_array).tolist()"
   ]
  },
  {
   "cell_type": "code",
   "execution_count": 108,
   "id": "600f59a0",
   "metadata": {},
   "outputs": [
    {
     "data": {
      "text/html": [
       "<div>\n",
       "<style scoped>\n",
       "    .dataframe tbody tr th:only-of-type {\n",
       "        vertical-align: middle;\n",
       "    }\n",
       "\n",
       "    .dataframe tbody tr th {\n",
       "        vertical-align: top;\n",
       "    }\n",
       "\n",
       "    .dataframe thead th {\n",
       "        text-align: right;\n",
       "    }\n",
       "</style>\n",
       "<table border=\"1\" class=\"dataframe\">\n",
       "  <thead>\n",
       "    <tr style=\"text-align: right;\">\n",
       "      <th></th>\n",
       "      <th>isCorner</th>\n",
       "      <th>houseNumber</th>\n",
       "      <th>primaryStreetName</th>\n",
       "      <th>primaryStreetSuffix</th>\n",
       "      <th>secondaryStreetName</th>\n",
       "      <th>secondaryStreetSuffix</th>\n",
       "    </tr>\n",
       "  </thead>\n",
       "  <tbody>\n",
       "    <tr>\n",
       "      <th>0</th>\n",
       "      <td>False</td>\n",
       "      <td>7420.0</td>\n",
       "      <td>W GOOD HOPE</td>\n",
       "      <td>RD</td>\n",
       "      <td>None</td>\n",
       "      <td>None</td>\n",
       "    </tr>\n",
       "    <tr>\n",
       "      <th>1</th>\n",
       "      <td>False</td>\n",
       "      <td>1421.0</td>\n",
       "      <td>N 27TH</td>\n",
       "      <td>ST</td>\n",
       "      <td>None</td>\n",
       "      <td>None</td>\n",
       "    </tr>\n",
       "    <tr>\n",
       "      <th>2</th>\n",
       "      <td>False</td>\n",
       "      <td>4054.0</td>\n",
       "      <td>N 71ST</td>\n",
       "      <td>ST</td>\n",
       "      <td>None</td>\n",
       "      <td>None</td>\n",
       "    </tr>\n",
       "    <tr>\n",
       "      <th>3</th>\n",
       "      <td>False</td>\n",
       "      <td>245.0</td>\n",
       "      <td>W LINCOLN</td>\n",
       "      <td>AV</td>\n",
       "      <td>None</td>\n",
       "      <td>None</td>\n",
       "    </tr>\n",
       "    <tr>\n",
       "      <th>4</th>\n",
       "      <td>False</td>\n",
       "      <td>1721.0</td>\n",
       "      <td>W CANAL</td>\n",
       "      <td>ST</td>\n",
       "      <td>None</td>\n",
       "      <td>None</td>\n",
       "    </tr>\n",
       "    <tr>\n",
       "      <th>5</th>\n",
       "      <td>True</td>\n",
       "      <td>NaN</td>\n",
       "      <td>E WRIGHT</td>\n",
       "      <td>ST</td>\n",
       "      <td>N WEIL</td>\n",
       "      <td>ST</td>\n",
       "    </tr>\n",
       "    <tr>\n",
       "      <th>6</th>\n",
       "      <td>False</td>\n",
       "      <td>9010.0</td>\n",
       "      <td>N 95TH</td>\n",
       "      <td>ST</td>\n",
       "      <td>None</td>\n",
       "      <td>None</td>\n",
       "    </tr>\n",
       "    <tr>\n",
       "      <th>7</th>\n",
       "      <td>False</td>\n",
       "      <td>983.0</td>\n",
       "      <td>W ARTHUR</td>\n",
       "      <td>AV</td>\n",
       "      <td>None</td>\n",
       "      <td>None</td>\n",
       "    </tr>\n",
       "    <tr>\n",
       "      <th>8</th>\n",
       "      <td>False</td>\n",
       "      <td>4115.0</td>\n",
       "      <td>N 56TH</td>\n",
       "      <td>ST</td>\n",
       "      <td>None</td>\n",
       "      <td>None</td>\n",
       "    </tr>\n",
       "    <tr>\n",
       "      <th>9</th>\n",
       "      <td>False</td>\n",
       "      <td>7806.0</td>\n",
       "      <td>W HAMPTON</td>\n",
       "      <td>AV</td>\n",
       "      <td>None</td>\n",
       "      <td>None</td>\n",
       "    </tr>\n",
       "    <tr>\n",
       "      <th>10</th>\n",
       "      <td>False</td>\n",
       "      <td>9200.0</td>\n",
       "      <td>W BLUE MOUND</td>\n",
       "      <td>RD</td>\n",
       "      <td>None</td>\n",
       "      <td>None</td>\n",
       "    </tr>\n",
       "    <tr>\n",
       "      <th>11</th>\n",
       "      <td>False</td>\n",
       "      <td>3230.0</td>\n",
       "      <td>N BUFFUM</td>\n",
       "      <td>ST</td>\n",
       "      <td>None</td>\n",
       "      <td>None</td>\n",
       "    </tr>\n",
       "    <tr>\n",
       "      <th>12</th>\n",
       "      <td>False</td>\n",
       "      <td>5250.0</td>\n",
       "      <td>W LISBON</td>\n",
       "      <td>AV</td>\n",
       "      <td>None</td>\n",
       "      <td>None</td>\n",
       "    </tr>\n",
       "    <tr>\n",
       "      <th>13</th>\n",
       "      <td>False</td>\n",
       "      <td>2920.0</td>\n",
       "      <td>N VEL R PHILLIPS</td>\n",
       "      <td>AV</td>\n",
       "      <td>None</td>\n",
       "      <td>None</td>\n",
       "    </tr>\n",
       "    <tr>\n",
       "      <th>14</th>\n",
       "      <td>False</td>\n",
       "      <td>1912.0</td>\n",
       "      <td>W CLAYTON CREST</td>\n",
       "      <td>AV</td>\n",
       "      <td>None</td>\n",
       "      <td>None</td>\n",
       "    </tr>\n",
       "    <tr>\n",
       "      <th>15</th>\n",
       "      <td>True</td>\n",
       "      <td>NaN</td>\n",
       "      <td>N HUMBOLDT</td>\n",
       "      <td>AV</td>\n",
       "      <td>E NORTH</td>\n",
       "      <td>AV</td>\n",
       "    </tr>\n",
       "    <tr>\n",
       "      <th>16</th>\n",
       "      <td>True</td>\n",
       "      <td>NaN</td>\n",
       "      <td>N 20TH</td>\n",
       "      <td>ST</td>\n",
       "      <td>W CAPITOL</td>\n",
       "      <td>DR</td>\n",
       "    </tr>\n",
       "    <tr>\n",
       "      <th>17</th>\n",
       "      <td>False</td>\n",
       "      <td>5629.0</td>\n",
       "      <td>W KEEFE</td>\n",
       "      <td>AV</td>\n",
       "      <td>None</td>\n",
       "      <td>None</td>\n",
       "    </tr>\n",
       "    <tr>\n",
       "      <th>18</th>\n",
       "      <td>False</td>\n",
       "      <td>231.0</td>\n",
       "      <td>E BUFFALO</td>\n",
       "      <td>ST</td>\n",
       "      <td>None</td>\n",
       "      <td>None</td>\n",
       "    </tr>\n",
       "    <tr>\n",
       "      <th>19</th>\n",
       "      <td>False</td>\n",
       "      <td>2377.0</td>\n",
       "      <td>S 19TH</td>\n",
       "      <td>ST</td>\n",
       "      <td>None</td>\n",
       "      <td>None</td>\n",
       "    </tr>\n",
       "  </tbody>\n",
       "</table>\n",
       "</div>"
      ],
      "text/plain": [
       "    isCorner  houseNumber primaryStreetName primaryStreetSuffix  \\\n",
       "0      False       7420.0       W GOOD HOPE                  RD   \n",
       "1      False       1421.0            N 27TH                  ST   \n",
       "2      False       4054.0            N 71ST                  ST   \n",
       "3      False        245.0         W LINCOLN                  AV   \n",
       "4      False       1721.0           W CANAL                  ST   \n",
       "5       True          NaN          E WRIGHT                  ST   \n",
       "6      False       9010.0            N 95TH                  ST   \n",
       "7      False        983.0          W ARTHUR                  AV   \n",
       "8      False       4115.0            N 56TH                  ST   \n",
       "9      False       7806.0         W HAMPTON                  AV   \n",
       "10     False       9200.0      W BLUE MOUND                  RD   \n",
       "11     False       3230.0          N BUFFUM                  ST   \n",
       "12     False       5250.0          W LISBON                  AV   \n",
       "13     False       2920.0  N VEL R PHILLIPS                  AV   \n",
       "14     False       1912.0   W CLAYTON CREST                  AV   \n",
       "15      True          NaN        N HUMBOLDT                  AV   \n",
       "16      True          NaN            N 20TH                  ST   \n",
       "17     False       5629.0           W KEEFE                  AV   \n",
       "18     False        231.0         E BUFFALO                  ST   \n",
       "19     False       2377.0            S 19TH                  ST   \n",
       "\n",
       "   secondaryStreetName secondaryStreetSuffix  \n",
       "0                 None                  None  \n",
       "1                 None                  None  \n",
       "2                 None                  None  \n",
       "3                 None                  None  \n",
       "4                 None                  None  \n",
       "5               N WEIL                    ST  \n",
       "6                 None                  None  \n",
       "7                 None                  None  \n",
       "8                 None                  None  \n",
       "9                 None                  None  \n",
       "10                None                  None  \n",
       "11                None                  None  \n",
       "12                None                  None  \n",
       "13                None                  None  \n",
       "14                None                  None  \n",
       "15             E NORTH                    AV  \n",
       "16           W CAPITOL                    DR  \n",
       "17                None                  None  \n",
       "18                None                  None  \n",
       "19                None                  None  "
      ]
     },
     "execution_count": 108,
     "metadata": {},
     "output_type": "execute_result"
    }
   ],
   "source": [
    "header = [\"isCorner\", \"houseNumber\", \"primaryStreetName\", \"primaryStreetSuffix\", \"secondaryStreetName\", \"secondaryStreetSuffix\"]\n",
    "data = pd.DataFrame(street_data, columns=header)\n",
    "data.head(20)"
   ]
  },
  {
   "cell_type": "code",
   "execution_count": 103,
   "id": "c581f9cf",
   "metadata": {},
   "outputs": [],
   "source": [
    "# data['houseNumber'] = data[\"houseNumber\"].astype('int64')\n",
    "data['primaryStreetSuffix'] = data['primaryStreetSuffix'].astype('category')\n",
    "data['primaryStreetName'] = data['primaryStreetName'].astype('category')\n",
    "data['secondaryStreetSuffix'] = data['secondaryStreetSuffix'].astype('category')\n",
    "data['secondaryStreetName'] = data[\"secondaryStreetName\"].astype('category')"
   ]
  },
  {
   "cell_type": "code",
   "execution_count": 104,
   "id": "0f34a2f5",
   "metadata": {},
   "outputs": [
    {
     "name": "stdout",
     "output_type": "stream",
     "text": [
      "<class 'pandas.core.frame.DataFrame'>\n",
      "RangeIndex: 4027695 entries, 0 to 4027694\n",
      "Data columns (total 6 columns):\n",
      " #   Column                 Non-Null Count    Dtype   \n",
      "---  ------                 --------------    -----   \n",
      " 0   isCorner               4027695 non-null  bool    \n",
      " 1   houseNumber            3426083 non-null  float64 \n",
      " 2   primaryStreetName      4027695 non-null  category\n",
      " 3   primaryStreetSuffix    3844881 non-null  category\n",
      " 4   secondaryStreetName    549725 non-null   category\n",
      " 5   secondaryStreetSuffix  531853 non-null   category\n",
      "dtypes: bool(1), category(4), float64(1)\n",
      "memory usage: 58.3 MB\n"
     ]
    }
   ],
   "source": [
    "data.info(verbose=True, show_counts=True)"
   ]
  },
  {
   "cell_type": "code",
   "execution_count": 106,
   "id": "edd44a33",
   "metadata": {},
   "outputs": [
    {
     "data": {
      "text/plain": [
       "False    3477970\n",
       "True      549725\n",
       "Name: isCorner, dtype: int64"
      ]
     },
     "execution_count": 106,
     "metadata": {},
     "output_type": "execute_result"
    }
   ],
   "source": [
    "data['isCorner'].value_counts()"
   ]
  },
  {
   "cell_type": "markdown",
   "id": "4cf879d7",
   "metadata": {},
   "source": [
    "The locations have now been properly extracted into seperate features and stored in their own array with proper data types. They must now be added back in to the overall data array. It is also possible to see that there are 549,725 corner locations and 3,477,970 locations that are not corners."
   ]
  },
  {
   "cell_type": "code",
   "execution_count": 112,
   "id": "ec6aafe1",
   "metadata": {},
   "outputs": [
    {
     "name": "stdout",
     "output_type": "stream",
     "text": [
      "<class 'pandas.core.frame.DataFrame'>\n",
      "RangeIndex: 4027695 entries, 0 to 4027694\n",
      "Data columns (total 9 columns):\n",
      " #   Column       Dtype         \n",
      "---  ------       -----         \n",
      " 0   time         datetime64[ns]\n",
      " 1   location     object        \n",
      " 2   district     category      \n",
      " 3   nature       category      \n",
      " 4   status       category      \n",
      " 5   inserted_at  datetime64[ns]\n",
      " 6   updated_at   datetime64[ns]\n",
      " 7   point        object        \n",
      " 8   call_id      int64         \n",
      "dtypes: category(3), datetime64[ns](3), int64(1), object(2)\n",
      "memory usage: 199.8+ MB\n"
     ]
    }
   ],
   "source": [
    "df.info()"
   ]
  },
  {
   "cell_type": "code",
   "execution_count": 113,
   "id": "1a17db2e",
   "metadata": {},
   "outputs": [
    {
     "name": "stdout",
     "output_type": "stream",
     "text": [
      "<class 'pandas.core.frame.DataFrame'>\n",
      "RangeIndex: 4027695 entries, 0 to 4027694\n",
      "Data columns (total 6 columns):\n",
      " #   Column                 Dtype  \n",
      "---  ------                 -----  \n",
      " 0   isCorner               bool   \n",
      " 1   houseNumber            float64\n",
      " 2   primaryStreetName      object \n",
      " 3   primaryStreetSuffix    object \n",
      " 4   secondaryStreetName    object \n",
      " 5   secondaryStreetSuffix  object \n",
      "dtypes: bool(1), float64(1), object(4)\n",
      "memory usage: 157.5+ MB\n"
     ]
    }
   ],
   "source": [
    "data.info()"
   ]
  },
  {
   "cell_type": "code",
   "execution_count": 117,
   "id": "5103d869",
   "metadata": {},
   "outputs": [],
   "source": [
    "df = pd.concat([df, data], join='outer', axis=1)"
   ]
  },
  {
   "cell_type": "code",
   "execution_count": 118,
   "id": "8dcbe006",
   "metadata": {},
   "outputs": [
    {
     "name": "stdout",
     "output_type": "stream",
     "text": [
      "<class 'pandas.core.frame.DataFrame'>\n",
      "RangeIndex: 4027695 entries, 0 to 4027694\n",
      "Data columns (total 15 columns):\n",
      " #   Column                 Non-Null Count    Dtype         \n",
      "---  ------                 --------------    -----         \n",
      " 0   time                   4027695 non-null  datetime64[ns]\n",
      " 1   location               4027695 non-null  object        \n",
      " 2   district               3937463 non-null  category      \n",
      " 3   nature                 4027695 non-null  category      \n",
      " 4   status                 4027695 non-null  category      \n",
      " 5   inserted_at            4027695 non-null  datetime64[ns]\n",
      " 6   updated_at             4027695 non-null  datetime64[ns]\n",
      " 7   point                  3958766 non-null  object        \n",
      " 8   call_id                4027695 non-null  int64         \n",
      " 9   isCorner               4027695 non-null  bool          \n",
      " 10  houseNumber            3426083 non-null  float64       \n",
      " 11  primaryStreetName      4027695 non-null  object        \n",
      " 12  primaryStreetSuffix    3844881 non-null  object        \n",
      " 13  secondaryStreetName    549725 non-null   object        \n",
      " 14  secondaryStreetSuffix  531853 non-null   object        \n",
      "dtypes: bool(1), category(3), datetime64[ns](3), float64(1), int64(1), object(6)\n",
      "memory usage: 357.2+ MB\n"
     ]
    }
   ],
   "source": [
    "df.info(verbose=True, show_counts=True)"
   ]
  },
  {
   "cell_type": "code",
   "execution_count": 119,
   "id": "e8af8d28",
   "metadata": {},
   "outputs": [
    {
     "data": {
      "text/html": [
       "<div>\n",
       "<style scoped>\n",
       "    .dataframe tbody tr th:only-of-type {\n",
       "        vertical-align: middle;\n",
       "    }\n",
       "\n",
       "    .dataframe tbody tr th {\n",
       "        vertical-align: top;\n",
       "    }\n",
       "\n",
       "    .dataframe thead th {\n",
       "        text-align: right;\n",
       "    }\n",
       "</style>\n",
       "<table border=\"1\" class=\"dataframe\">\n",
       "  <thead>\n",
       "    <tr style=\"text-align: right;\">\n",
       "      <th></th>\n",
       "      <th>time</th>\n",
       "      <th>location</th>\n",
       "      <th>district</th>\n",
       "      <th>nature</th>\n",
       "      <th>status</th>\n",
       "      <th>inserted_at</th>\n",
       "      <th>updated_at</th>\n",
       "      <th>point</th>\n",
       "      <th>call_id</th>\n",
       "      <th>isCorner</th>\n",
       "      <th>houseNumber</th>\n",
       "      <th>primaryStreetName</th>\n",
       "      <th>primaryStreetSuffix</th>\n",
       "      <th>secondaryStreetName</th>\n",
       "      <th>secondaryStreetSuffix</th>\n",
       "    </tr>\n",
       "  </thead>\n",
       "  <tbody>\n",
       "    <tr>\n",
       "      <th>0</th>\n",
       "      <td>2019-05-21 15:19:03</td>\n",
       "      <td>7420 W GOOD HOPE RD,MKE</td>\n",
       "      <td>4</td>\n",
       "      <td>ACC PI</td>\n",
       "      <td>Service in Progress</td>\n",
       "      <td>2019-05-21 20:51:09</td>\n",
       "      <td>2019-05-21 20:51:09</td>\n",
       "      <td>0101000020E6100000FC7C94111793454061D971683600...</td>\n",
       "      <td>191411633</td>\n",
       "      <td>False</td>\n",
       "      <td>7420.0</td>\n",
       "      <td>W GOOD HOPE</td>\n",
       "      <td>RD</td>\n",
       "      <td>None</td>\n",
       "      <td>None</td>\n",
       "    </tr>\n",
       "    <tr>\n",
       "      <th>1</th>\n",
       "      <td>2019-05-21 15:24:30</td>\n",
       "      <td>1421 N 27TH ST,MKE</td>\n",
       "      <td>3</td>\n",
       "      <td>TRAFFIC STOP</td>\n",
       "      <td>City Citation(s) Issued</td>\n",
       "      <td>2019-05-21 20:57:11</td>\n",
       "      <td>2019-05-21 20:57:11</td>\n",
       "      <td>0101000020E6100000D2AB014A4386454067C416CCA9FC...</td>\n",
       "      <td>191411672</td>\n",
       "      <td>False</td>\n",
       "      <td>1421.0</td>\n",
       "      <td>N 27TH</td>\n",
       "      <td>ST</td>\n",
       "      <td>None</td>\n",
       "      <td>None</td>\n",
       "    </tr>\n",
       "    <tr>\n",
       "      <th>2</th>\n",
       "      <td>2019-05-21 15:25:46</td>\n",
       "      <td>4054 N 71ST ST,MKE</td>\n",
       "      <td>7</td>\n",
       "      <td>SUBJ WANTED</td>\n",
       "      <td>Assignment Completed</td>\n",
       "      <td>2019-05-21 21:00:12</td>\n",
       "      <td>2019-05-21 21:00:12</td>\n",
       "      <td>0101000020E610000053FFC5D8AE8B45402CAE3B270700...</td>\n",
       "      <td>191411674</td>\n",
       "      <td>False</td>\n",
       "      <td>4054.0</td>\n",
       "      <td>N 71ST</td>\n",
       "      <td>ST</td>\n",
       "      <td>None</td>\n",
       "      <td>None</td>\n",
       "    </tr>\n",
       "    <tr>\n",
       "      <th>3</th>\n",
       "      <td>2019-05-21 20:46:28</td>\n",
       "      <td>245 W LINCOLN AV,MKE</td>\n",
       "      <td>2</td>\n",
       "      <td>SPECIAL ASSIGN</td>\n",
       "      <td>Service in Progress</td>\n",
       "      <td>2019-05-22 02:22:32</td>\n",
       "      <td>2019-05-22 02:22:32</td>\n",
       "      <td>0101000020E610000078ABF8D04F804540633ABE0779FA...</td>\n",
       "      <td>191412545</td>\n",
       "      <td>False</td>\n",
       "      <td>245.0</td>\n",
       "      <td>W LINCOLN</td>\n",
       "      <td>AV</td>\n",
       "      <td>None</td>\n",
       "      <td>None</td>\n",
       "    </tr>\n",
       "    <tr>\n",
       "      <th>4</th>\n",
       "      <td>2019-05-21 20:50:03</td>\n",
       "      <td>1721 W CANAL ST,MKE</td>\n",
       "      <td>3</td>\n",
       "      <td>TRBL W/SUBJ</td>\n",
       "      <td>Unable to Locate Complainant</td>\n",
       "      <td>2019-05-22 02:25:33</td>\n",
       "      <td>2019-05-22 02:25:33</td>\n",
       "      <td>0101000020E6100000E8323509DE834540C3D7D7BAD4FB...</td>\n",
       "      <td>191412465</td>\n",
       "      <td>False</td>\n",
       "      <td>1721.0</td>\n",
       "      <td>W CANAL</td>\n",
       "      <td>ST</td>\n",
       "      <td>None</td>\n",
       "      <td>None</td>\n",
       "    </tr>\n",
       "  </tbody>\n",
       "</table>\n",
       "</div>"
      ],
      "text/plain": [
       "                 time                 location district          nature  \\\n",
       "0 2019-05-21 15:19:03  7420 W GOOD HOPE RD,MKE        4          ACC PI   \n",
       "1 2019-05-21 15:24:30       1421 N 27TH ST,MKE        3    TRAFFIC STOP   \n",
       "2 2019-05-21 15:25:46       4054 N 71ST ST,MKE        7     SUBJ WANTED   \n",
       "3 2019-05-21 20:46:28     245 W LINCOLN AV,MKE        2  SPECIAL ASSIGN   \n",
       "4 2019-05-21 20:50:03      1721 W CANAL ST,MKE        3     TRBL W/SUBJ   \n",
       "\n",
       "                         status         inserted_at          updated_at  \\\n",
       "0           Service in Progress 2019-05-21 20:51:09 2019-05-21 20:51:09   \n",
       "1       City Citation(s) Issued 2019-05-21 20:57:11 2019-05-21 20:57:11   \n",
       "2          Assignment Completed 2019-05-21 21:00:12 2019-05-21 21:00:12   \n",
       "3           Service in Progress 2019-05-22 02:22:32 2019-05-22 02:22:32   \n",
       "4  Unable to Locate Complainant 2019-05-22 02:25:33 2019-05-22 02:25:33   \n",
       "\n",
       "                                               point    call_id  isCorner  \\\n",
       "0  0101000020E6100000FC7C94111793454061D971683600...  191411633     False   \n",
       "1  0101000020E6100000D2AB014A4386454067C416CCA9FC...  191411672     False   \n",
       "2  0101000020E610000053FFC5D8AE8B45402CAE3B270700...  191411674     False   \n",
       "3  0101000020E610000078ABF8D04F804540633ABE0779FA...  191412545     False   \n",
       "4  0101000020E6100000E8323509DE834540C3D7D7BAD4FB...  191412465     False   \n",
       "\n",
       "   houseNumber primaryStreetName primaryStreetSuffix secondaryStreetName  \\\n",
       "0       7420.0       W GOOD HOPE                  RD                None   \n",
       "1       1421.0            N 27TH                  ST                None   \n",
       "2       4054.0            N 71ST                  ST                None   \n",
       "3        245.0         W LINCOLN                  AV                None   \n",
       "4       1721.0           W CANAL                  ST                None   \n",
       "\n",
       "  secondaryStreetSuffix  \n",
       "0                  None  \n",
       "1                  None  \n",
       "2                  None  \n",
       "3                  None  \n",
       "4                  None  "
      ]
     },
     "execution_count": 119,
     "metadata": {},
     "output_type": "execute_result"
    }
   ],
   "source": [
    "df.head()"
   ]
  },
  {
   "cell_type": "markdown",
   "id": "7a43cd2a",
   "metadata": {},
   "source": [
    "The df and data DataFrame objects were combined on their columns with an inner join using [`pd.concat`](https://pandas.pydata.org/docs/reference/api/pandas.concat.html). This took df of size (4027695, 9), and data of size (4027695, 6) and updated df to be size (4027695, 15)."
   ]
  },
  {
   "cell_type": "code",
   "execution_count": null,
   "id": "27f1014b",
   "metadata": {},
   "outputs": [],
   "source": []
  },
  {
   "cell_type": "code",
   "execution_count": null,
   "id": "4790c4de",
   "metadata": {},
   "outputs": [],
   "source": []
  },
  {
   "cell_type": "markdown",
   "metadata": {},
   "source": [
    "https://mpd.digitalpublicworks.com/?start=2019-01-05T00:00:00-06:00&end=2019-01-05T23:59:59.999999-06:00"
   ]
  }
 ],
 "metadata": {
  "interpreter": {
   "hash": "1617da2f0a028b9e7fd5fffe443e8129e2ebb45766933769f8e579976b127668"
  },
  "kernelspec": {
   "display_name": "Python 3.9.7 64-bit",
   "name": "python3"
  },
  "language_info": {
   "codemirror_mode": {
    "name": "ipython",
    "version": 3
   },
   "file_extension": ".py",
   "mimetype": "text/x-python",
   "name": "python",
   "nbconvert_exporter": "python",
   "pygments_lexer": "ipython3",
   "version": "3.9.7"
  }
 },
 "nbformat": 4,
 "nbformat_minor": 5
}
