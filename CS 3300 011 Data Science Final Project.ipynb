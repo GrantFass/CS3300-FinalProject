{
 "cells": [
  {
   "cell_type": "markdown",
   "id": "f42f1e02",
   "metadata": {},
   "source": [
    "# Analyzing Milwaukee Police Call Data and Weather Data\n",
    "### Grant Fass and Chris Hubbell\n",
    "\n",
    "## Introduction\n",
    "Across the world, there are many crimes commited every hour. One of the greatest challenges is reducing crime and maintaining safety for citizens. Part of preventing crime relies on the reporting of it by citizens. If nobody informs the police, the police are unable to act. This is why reporting crimes and incidents is so important, especially when people's lives are in danger. In Wisconsin, Milwaukee Police Department (MPD) releases data regarding all of their dispatch calls, which we have been able to get since 2016. This allows for analyzing trends of crime reporting over time as well as as it relates to other factors. In 2010, Milwaukee installed a new system for detecting gun shots called ShotSpotter, which was expanded into more neighborhoods in 2014. This system is capable of detecting when a shot is fired and where it was to a high degree of accuracy. The data consists of both ShotSpotter calls as well as Shots Fired calls. The key difference is that Shots Fired are calls from people and ShotSpotter are automatic.\n",
    "\n",
    "## Research Questions:\n",
    "- Is there a significant difference between the distribution of shots spotted over time and calls for shots fired?\n",
    "- Is there a significant difference in the number of calls that were unable to be located for shots fired calls compared to shots spotted?\n",
    "- Does the number of shots spotted and fired correlate with certain dates including holidays and events?\n",
    "- Does the number of calls correlate with certain weather conditions?\n",
    "- Is it possible to predict number of calls based on location and district?\n",
    "- Is it possible to predict the nature of a call based on its location and district?\n",
    "\n",
    "## Hypotheses:\n",
    "- There are significantly more shots spotted than calls about shots fired.\n",
    "- Significantly more shots fired calls are unable to be located than shots spotted.\n",
    "- There will be significantly more shots spotted calls on July 4th, Dec. 31st, and Jan 1st than normal days.\n",
    "- There will be significantly less shots fired calls on holidays than normal days.\n",
    "- There are significantly more calls on days with clear weather than inclement weather.\n",
    "- There are significantly more calls on days around 75 degrees than there are on days around 95 or 55 degrees.\n",
    "- The number of calls will be able to be predicted based on location and district.\n",
    "- The type of call will be unable to be predicted based on location and district.\n",
    "\n",
    "# Imports\n",
    "These are the libraries that will be relvant for working with the dataset."
   ]
  },
  {
   "cell_type": "code",
   "execution_count": null,
   "id": "101fbc3b",
   "metadata": {},
   "outputs": [],
   "source": [
    "%matplotlib inline\n",
    "import pandas as pd\n",
    "import numpy as np\n",
    "import matplotlib.pyplot as plt\n",
    "import seaborn as sns\n",
    "from scipy import stats\n",
    "from IPython.display import Image\n",
    "sns.set()"
   ]
  },
  {
   "cell_type": "markdown",
   "id": "2c1b2989",
   "metadata": {},
   "source": [
    "# Loading the Data\n",
    "This section is used to load the data and make sure that all of the features have been formatted using the correct types. This data is ready for use since it has already been cleaned in another notebook. The MPDDataCleaning notebook was used to clean the MPD (Milwaukee Police Department) dataset. The WeatherDataCleaning notebook was used to clean the weather dataset. These two datasets were then combined in the DatasetCombining notebook."
   ]
  },
  {
   "cell_type": "code",
   "execution_count": null,
   "id": "372e4cb2",
   "metadata": {},
   "outputs": [],
   "source": [
    "df = pd.read_csv('merged_data.csv')"
   ]
  },
  {
   "cell_type": "code",
   "execution_count": null,
   "id": "101da9c0",
   "metadata": {},
   "outputs": [],
   "source": [
    "df.info()"
   ]
  },
  {
   "cell_type": "markdown",
   "id": "de50b60f",
   "metadata": {},
   "source": [
    "## Revising Feature Types\n",
    "Calling the [`.info()`](https://pandas.pydata.org/docs/reference/api/pandas.DataFrame.info.html) command shows that there are a number of features that are improperly formatted. The district, nature, status, primaryStreetName, primaryStreetSuffix, secondaryStreetName, secondaryStreetSuffix, and weatherDesc all need to become categorical features. The datetime feature needs to be changed to datetime."
   ]
  },
  {
   "cell_type": "code",
   "execution_count": null,
   "id": "a65b3120",
   "metadata": {},
   "outputs": [],
   "source": [
    "df['district'] = df['district'].astype('category')\n",
    "df['nature'] = df['nature'].astype('category')\n",
    "df['status'] = df['status'].astype('category')\n",
    "df['primaryStreetName'] = df['primaryStreetName'].astype('category')\n",
    "df['primaryStreetSuffix'] = df['primaryStreetSuffix'].astype('category')\n",
    "df['secondaryStreetName'] = df['secondaryStreetName'].astype('category')\n",
    "df['secondaryStreetSuffix'] = df['secondaryStreetSuffix'].astype('category')\n",
    "df['weatherDesc'] = df['weatherDesc'].astype('category')\n",
    "df['datetime'] = pd.to_datetime(df['datetime'], infer_datetime_format=True)"
   ]
  },
  {
   "cell_type": "markdown",
   "id": "9a2f44df",
   "metadata": {},
   "source": [
    "## Examining The Loaded Data\n",
    "The data should now be in the proper types. This will be examined using the [`.head()`](https://pandas.pydata.org/docs/reference/api/pandas.DataFrame.head.html), [`.info()`](https://pandas.pydata.org/docs/reference/api/pandas.DataFrame.info.html), and [`.describe()`](https://pandas.pydata.org/docs/reference/api/pandas.DataFrame.describe.html) methods."
   ]
  },
  {
   "cell_type": "code",
   "execution_count": null,
   "id": "cafc4be7",
   "metadata": {},
   "outputs": [],
   "source": [
    "df.head(5).T"
   ]
  },
  {
   "cell_type": "code",
   "execution_count": null,
   "id": "9da2d72f",
   "metadata": {},
   "outputs": [],
   "source": [
    "df.tail(5).T"
   ]
  },
  {
   "cell_type": "code",
   "execution_count": null,
   "id": "7b9a1db4",
   "metadata": {},
   "outputs": [],
   "source": [
    "df.info(verbose=True, show_counts=True)"
   ]
  },
  {
   "cell_type": "code",
   "execution_count": null,
   "id": "65d44605",
   "metadata": {},
   "outputs": [],
   "source": [
    "df.describe()"
   ]
  },
  {
   "cell_type": "markdown",
   "id": "de42d440",
   "metadata": {},
   "source": [
    "# TODO: Explain\n"
   ]
  },
  {
   "cell_type": "markdown",
   "id": "ca65c5cd",
   "metadata": {},
   "source": [
    "\n",
    "# TODO GRAPHS\n",
    "- Date vs number/calls line graph\n",
    "- Box plot of district/num calls\n",
    "- heatmap call type/status? Is this too big?\n",
    "- district/nature\n",
    "- time/nature\n",
    "- time/status\n",
    "- calls that are 'in service' and 'resolved' , are they related? compare by time? would ID's match?"
   ]
  },
  {
   "cell_type": "markdown",
   "id": "ef779d6b",
   "metadata": {},
   "source": [
    "# Graphs\n",
    "This section looks to explore the data by generating graphs. Extra features for year, month of the year, week of the year, day of the month, and hour of the day will be generated to help with graphs. This will allow for the exploration of different granularity levels. Some of the graphs use help from [this](https://www.statology.org/seaborn-legend-outside/) for moving the legend outside of the graph, and from [this](https://stackoverflow.com/a/60679315) for plotting multiple categories (fix legend not showing)."
   ]
  },
  {
   "cell_type": "code",
   "execution_count": null,
   "id": "cd834475",
   "metadata": {},
   "outputs": [],
   "source": [
    "df['year'] = df['datetime'].map(lambda t: t.year)\n",
    "df['month'] = df['datetime'].map(lambda t: t.month)\n",
    "df['week'] = df['datetime'].map(lambda t: t.week)\n",
    "df['day'] = df['datetime'].map(lambda t: t.day)\n",
    "df['hour'] = df['datetime'].map(lambda t: t.hour)"
   ]
  },
  {
   "cell_type": "code",
   "execution_count": null,
   "id": "49eb321d",
   "metadata": {},
   "outputs": [],
   "source": [
    "ax = sns.histplot(data=df, x='datetime')\n",
    "ax.set_title('All Calls Over Time')"
   ]
  },
  {
   "cell_type": "markdown",
   "id": "915bcecd",
   "metadata": {},
   "source": [
    "This graph shows all of the call types over time. What is interesting is that there appears to be a big gap around 2018 and smaller gaps in 2019 and 2021. There is a second big gap between 2021 and 2022 but not as bad as the 2018 gap. Another interesting observation is that it appears that overall call numbers is trending down. Looking deeper:"
   ]
  },
  {
   "cell_type": "code",
   "execution_count": null,
   "id": "ba41e5ba",
   "metadata": {},
   "outputs": [],
   "source": [
    "sns.set(rc={\"figure.figsize\":(14, 6)})\n",
    "plot_data = df[(df['year'] == 2017) & (df['month']==2)]\n",
    "ax = sns.histplot(data=plot_data, x='datetime', bins=29)\n",
    "ax.set_title('All Calls Feb 2017')\n",
    "sns.set(rc={\"figure.figsize\":(7, 7)})"
   ]
  },
  {
   "cell_type": "code",
   "execution_count": null,
   "id": "e08e1707",
   "metadata": {},
   "outputs": [],
   "source": [
    "sns.set(rc={\"figure.figsize\":(14, 6)})\n",
    "plot_data = df[(df['year'] == 2017) & (df['month']==12)]\n",
    "ax = sns.histplot(data=plot_data, x='datetime', bins=31)\n",
    "ax.set_title('All Calls Dec 2017')\n",
    "sns.set(rc={\"figure.figsize\":(7, 7)})"
   ]
  },
  {
   "cell_type": "code",
   "execution_count": null,
   "metadata": {},
   "outputs": [],
   "source": [
    "sns.set(rc={\"figure.figsize\":(14, 6)})\n",
    "plot_data = df[(df['year'] == 2018) & (df['month']==1)]\n",
    "ax = sns.histplot(data=plot_data, x='datetime', bins=31)\n",
    "ax.set_title('All Calls Jan 2018')\n",
    "sns.set(rc={\"figure.figsize\":(7, 7)})"
   ]
  },
  {
   "cell_type": "code",
   "execution_count": null,
   "id": "aee0d0c8",
   "metadata": {},
   "outputs": [],
   "source": [
    "sns.set(rc={\"figure.figsize\":(14, 6)})\n",
    "plot_data = df[(df['year'] == 2021) & (df['month']==2)]\n",
    "ax = sns.histplot(data=plot_data, x='datetime', bins=30)\n",
    "ax.set_title('All Calls Feb 2021')\n",
    "sns.set(rc={\"figure.figsize\":(7, 7)})"
   ]
  },
  {
   "cell_type": "code",
   "execution_count": null,
   "id": "1ef6d81d",
   "metadata": {},
   "outputs": [],
   "source": [
    "sns.set(rc={\"figure.figsize\":(14, 6)})\n",
    "plot_data = df[df['year'] == 2021]\n",
    "plot_data = df[(df['year'] == 2021) & ((df['month']==8))]\n",
    "ax = sns.histplot(data=plot_data, x='datetime', bins=31)\n",
    "# ax = sns.histplot(data=df, x='datetime', bins=200)\n",
    "ax.set_title('All Calls Aug 2021')\n",
    "sns.set(rc={\"figure.figsize\":(7, 7)})"
   ]
  },
  {
   "cell_type": "code",
   "execution_count": null,
   "id": "0f4e7702",
   "metadata": {},
   "outputs": [],
   "source": [
    "sns.set(rc={\"figure.figsize\":(14, 6)})\n",
    "plot_data = df[df['year'] == 2021]\n",
    "plot_data = df[(df['year'] == 2021) & ((df['month']==9))]\n",
    "ax = sns.histplot(data=plot_data, x='datetime', bins=30)\n",
    "# ax = sns.histplot(data=df, x='datetime', bins=200)\n",
    "ax.set_title('All Calls Sept 2021')\n",
    "sns.set(rc={\"figure.figsize\":(7, 7)})"
   ]
  },
  {
   "cell_type": "code",
   "execution_count": null,
   "id": "095d3248",
   "metadata": {},
   "outputs": [],
   "source": [
    "sns.set(rc={\"figure.figsize\":(14, 6)})\n",
    "plot_data = df[df['year'] == 2021]\n",
    "plot_data = df[(df['year'] == 2021) & ((df['month']==10))]\n",
    "ax = sns.histplot(data=plot_data, x='datetime', bins=31)\n",
    "# ax = sns.histplot(data=df, x='datetime', bins=200)\n",
    "ax.set_title('All Calls Oct 2021')\n",
    "sns.set(rc={\"figure.figsize\":(7, 7)})"
   ]
  },
  {
   "cell_type": "markdown",
   "id": "568640dd",
   "metadata": {},
   "source": [
    "# TODO\n",
    "I emailed Nick to see if he can offer inisght here. At the moment, I'm guessing it's outage related"
   ]
  },
  {
   "cell_type": "code",
   "execution_count": null,
   "id": "cd309a67",
   "metadata": {},
   "outputs": [],
   "source": [
    "print(type(df['datetime'][0]))\n",
    "ax = sns.histplot(data=df, x='week')\n",
    "ax.set_title('All Calls Over Week of the Year')"
   ]
  },
  {
   "cell_type": "markdown",
   "id": "8accc428",
   "metadata": {},
   "source": [
    "This graph shows a comparison between the number of calls recieved per week of the year. The number of calls looks to be consistent except for week 52 each year. This is likely due to week 52 being the last week of the year. This week would usually contain or be between two holidays which may account for the lower amount of calls."
   ]
  },
  {
   "cell_type": "code",
   "execution_count": null,
   "id": "7f7af7d1",
   "metadata": {},
   "outputs": [],
   "source": []
  },
  {
   "cell_type": "code",
   "execution_count": null,
   "id": "c168ced5",
   "metadata": {},
   "outputs": [],
   "source": [
    "plt.figure(figsize=(7,7))\n",
    "ax = plt.axes()\n",
    "sns.kdeplot(x=df[df['year'] != 2022]['week'], hue=df['year'], common_norm=False, multiple=\"fill\", alpha=1, ax=ax)\n",
    "plt.title(\"Occurances of Nature Per Week of Year\")\n",
    "plt.show()"
   ]
  },
  {
   "cell_type": "markdown",
   "id": "830538b1",
   "metadata": {},
   "source": [
    "## TODO: Explain this graph"
   ]
  },
  {
   "cell_type": "markdown",
   "id": "c109a699",
   "metadata": {},
   "source": [
    "## Exploring Graphs of Weapon Crime\n",
    "A filtered dataframe must be created containing only the entries for weapon crime to do this. Extra categorical values must be removed when filtering down a categorical feature with many values (such as nature). This can be done by redefining the type as a category."
   ]
  },
  {
   "cell_type": "code",
   "execution_count": null,
   "id": "e3a59301",
   "metadata": {},
   "outputs": [],
   "source": [
    "weapon_crime_df = df[df['weapon_crime']].copy(deep=True)\n",
    "weapon_crime_df['nature'] = weapon_crime_df['nature'].astype('object').astype('category')\n",
    "weapon_crime_df['nature'].dtype"
   ]
  },
  {
   "cell_type": "code",
   "execution_count": null,
   "id": "839ce644",
   "metadata": {},
   "outputs": [],
   "source": [
    "# sns.histplot(data=weapon_crime_df, x=\"year\", hue=\"nature\", legend=True)\n",
    "# plt.title(\"Occurances of Weapon Crimes Per Year\")\n",
    "# plt.show()"
   ]
  },
  {
   "cell_type": "code",
   "execution_count": null,
   "id": "fee5b0d4",
   "metadata": {},
   "outputs": [],
   "source": [
    "sns.kdeplot(x=weapon_crime_df[\"week\"], hue=weapon_crime_df[\"nature\"], common_norm=False, multiple=\"fill\", alpha=1)\n",
    "plt.title(\"Occurances of Weapon Crimes Per Week of Year\")\n",
    "plt.show()"
   ]
  },
  {
   "cell_type": "code",
   "execution_count": null,
   "id": "4a8d9928",
   "metadata": {},
   "outputs": [],
   "source": [
    "sns.kdeplot(x=weapon_crime_df[\"day\"], hue=weapon_crime_df[\"nature\"], common_norm=False, multiple=\"fill\", alpha=1)\n",
    "plt.title(\"Occurances of Weapon Crimes Per Day of Month\")\n",
    "plt.show()"
   ]
  },
  {
   "cell_type": "code",
   "execution_count": null,
   "id": "c6545256",
   "metadata": {},
   "outputs": [],
   "source": [
    "plt.figure(figsize=(7,7))\n",
    "ax = plt.axes()\n",
    "for use in weapon_crime_df['nature'].unique():\n",
    "    sns.kdeplot(x=weapon_crime_df[\"week\"], hue=weapon_crime_df[weapon_crime_df == use][\"nature\"], \n",
    "    ax=ax, common_norm=False, multiple=\"layer\", alpha=1, label=use)\n",
    "plt.legend(bbox_to_anchor=(1.02, 1), loc='upper left', borderaxespad=0)\n",
    "plt.title(\"Occurances of Nature Per Week of Year\")\n",
    "plt.show()"
   ]
  },
  {
   "cell_type": "code",
   "execution_count": null,
   "id": "e20e768b",
   "metadata": {},
   "outputs": [],
   "source": [
    "# https://www.statology.org/seaborn-legend-outside/ for moving the legend outside\n",
    "# https://stackoverflow.com/a/60679315 for plotting multiple categories (fix legend not showing)\n",
    "uses = weapon_crime_df['nature'].unique()\n",
    "plt.figure(figsize=(7,7))\n",
    "ax = plt.axes()\n",
    "for use in uses:\n",
    "    sns.kdeplot(x=weapon_crime_df[\"day\"], hue=weapon_crime_df[weapon_crime_df['nature']==use][\"nature\"], \n",
    "    ax=ax, common_norm=False, multiple=\"layer\", alpha=1, label=use)\n",
    "plt.legend(bbox_to_anchor=(1.02, 1), loc='upper left', borderaxespad=0)\n",
    "plt.title(\"Occurances of Nature Per Day of Month\")\n",
    "plt.show()"
   ]
  },
  {
   "cell_type": "code",
   "execution_count": null,
   "id": "98f3be1f",
   "metadata": {},
   "outputs": [],
   "source": [
    "fig, ax = plt.subplots(figsize=(12, 6))\n",
    "natures = weapon_crime_df['nature'].unique()\n",
    "plot_data = []\n",
    "for ind, nature in enumerate(natures):\n",
    "    plot_data.append((nature, len(weapon_crime_df[weapon_crime_df['nature'] == nature])))\n",
    "\n",
    "list.sort(plot_data, reverse=True, key=lambda y: y[1])\n",
    "\n",
    "natures = []\n",
    "nature_totals = []\n",
    "for nature, total in plot_data:\n",
    "    natures.append(nature)\n",
    "    nature_totals.append(total)\n",
    "\n",
    "sns.barplot(x=natures, y=nature_totals).set(title='Counts of Weapon Crimes')\n",
    "ax.set_xticklabels(ax.get_xticklabels(), rotation=45, horizontalalignment='right')"
   ]
  },
  {
   "cell_type": "markdown",
   "id": "80ef75ed",
   "metadata": {},
   "source": [
    "## Comparing Shots Fired vs Shotspotter\n",
    "For hypotheses:\n",
    "- There are significantly more shots spotted than calls about shots fired.\n",
    "- Significantly more shots fired calls are unable to be located than shots spotted.\n",
    "- There will be significantly more shots spotted calls on July 4th, Dec. 31st, and Jan 1st than normal days.\n",
    "- There will be significantly less shots fired calls on holidays than normal days."
   ]
  },
  {
   "cell_type": "code",
   "execution_count": null,
   "id": "223927c4",
   "metadata": {},
   "outputs": [],
   "source": [
    "shots = df[df['nature'] == 'SHOTS FIRED']\n",
    "shotspotter_df = df[df['nature'] == 'SHOTSPOTTER']"
   ]
  },
  {
   "cell_type": "code",
   "execution_count": null,
   "metadata": {},
   "outputs": [],
   "source": [
    "# sns.boxplot(x=df_no_empty_lots_no_weird_price['street_types'], y=df_no_empty_lots_no_weird_price['price']).set(title='Street Types vs Price')\n",
    "weapon_crime_df.head()"
   ]
  },
  {
   "cell_type": "code",
   "execution_count": null,
   "id": "01c43056",
   "metadata": {},
   "outputs": [],
   "source": [
    "fig, ax = plt.subplots(figsize=(7, 7))\n",
    "natures = ['SHOTSPOTTER', 'SHOTS FIRED']\n",
    "plot_data = []\n",
    "for ind, nature in enumerate(natures):\n",
    "    plot_data.append((nature, len(weapon_crime_df[weapon_crime_df['nature'] == nature])))\n",
    "\n",
    "list.sort(plot_data, reverse=True, key=lambda y: y[1])\n",
    "\n",
    "natures = []\n",
    "nature_totals = []\n",
    "for nature, total in plot_data:\n",
    "    natures.append(nature)\n",
    "    nature_totals.append(total)\n",
    "\n",
    "sns.barplot(x=natures, y=nature_totals).set(title='')\n",
    "ax.set_xticklabels(ax.get_xticklabels(), rotation=45, horizontalalignment='right')"
   ]
  },
  {
   "cell_type": "code",
   "execution_count": null,
   "metadata": {},
   "outputs": [],
   "source": [
    "sns.set(rc={\"figure.figsize\":(12, 6)})\n",
    "years = [2016, 2017, 2018, 2019, 2020, 2021, 2022]\n",
    "natures = ['SHOTSPOTTER', 'SHOTS FIRED']\n",
    "\n",
    "plot_data = []\n",
    "for ind, nature in enumerate(natures):\n",
    "    for year in years:\n",
    "        plot_data.append((nature, len(weapon_crime_df[(weapon_crime_df['nature'] == nature) & (weapon_crime_df['year'] == year)]), year))\n",
    "\n",
    "list.sort(plot_data, reverse=False, key=lambda y: y[2]) # Sort by year, ascending, 2016-2022\n",
    "\n",
    "shotspotter_totals = []\n",
    "shots_fired_totals = []\n",
    "for nature, total, year in plot_data:\n",
    "    if(nature == 'SHOTSPOTTER'):\n",
    "        shotspotter_totals.append(total)\n",
    "    else:\n",
    "        shots_fired_totals.append(total)\n",
    "\n",
    "X_axis = np.arange(len(years))\n",
    "\n",
    "plt.bar(X_axis - 0.2, shotspotter_totals, 0.4, label = 'SHOTSPOTTER')\n",
    "plt.bar(X_axis + 0.2, shots_fired_totals, 0.4, label = 'SHOTS FIRED')\n",
    "  \n",
    "plt.xticks(X_axis, years)\n",
    "plt.xlabel(\"Year\")\n",
    "plt.ylabel(\"Number of Calls\")\n",
    "plt.title(\"Number of Shotspotter vs Shots Fired calls by Year\")\n",
    "plt.legend()\n",
    "plt.show()"
   ]
  }
 ],
 "metadata": {
  "interpreter": {
   "hash": "1617da2f0a028b9e7fd5fffe443e8129e2ebb45766933769f8e579976b127668"
  },
  "kernelspec": {
   "display_name": "Python 3.9.7 64-bit",
   "name": "python3"
  },
  "language_info": {
   "codemirror_mode": {
    "name": "ipython",
    "version": 3
   },
   "file_extension": ".py",
   "mimetype": "text/x-python",
   "name": "python",
   "nbconvert_exporter": "python",
   "pygments_lexer": "ipython3",
   "version": "3.9.7"
  }
 },
 "nbformat": 4,
 "nbformat_minor": 5
}
