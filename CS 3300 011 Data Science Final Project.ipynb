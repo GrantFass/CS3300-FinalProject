{
 "cells": [
  {
   "cell_type": "code",
   "execution_count": 9,
   "source": [
    "%matplotlib inline\r\n",
    "import pandas as pd\r\n",
    "import numpy as np\r\n",
    "import matplotlib.pyplot as plt\r\n",
    "import seaborn as sns\r\n",
    "from scipy import stats\r\n",
    "from IPython.display import Image\r\n",
    "sns.set()"
   ],
   "outputs": [],
   "metadata": {}
  },
  {
   "cell_type": "code",
   "execution_count": null,
   "source": [
    "pip install matplotlib_venn --upgrade --user"
   ],
   "outputs": [],
   "metadata": {}
  },
  {
   "cell_type": "markdown",
   "source": [
    "https://www.glerl.noaa.gov/metdata/mil/archive/ "
   ],
   "metadata": {}
  },
  {
   "cell_type": "code",
   "execution_count": 11,
   "source": [
    "pip install pandas --upgrade --user"
   ],
   "outputs": [
    {
     "output_type": "stream",
     "name": "stdout",
     "text": [
      "Requirement already satisfied: pandas in c:\\users\\fassg\\appdata\\roaming\\python\\python39\\site-packages (1.3.5)\n",
      "Requirement already satisfied: python-dateutil>=2.7.3 in c:\\users\\fassg\\appdata\\local\\programs\\python\\python39\\lib\\site-packages (from pandas) (2.8.2)\n",
      "Requirement already satisfied: pytz>=2017.3 in c:\\users\\fassg\\appdata\\local\\programs\\python\\python39\\lib\\site-packages (from pandas) (2021.3)\n",
      "Requirement already satisfied: numpy>=1.17.3 in c:\\users\\fassg\\appdata\\local\\programs\\python\\python39\\lib\\site-packages (from pandas) (1.21.2)\n",
      "Requirement already satisfied: six>=1.5 in c:\\users\\fassg\\appdata\\local\\programs\\python\\python39\\lib\\site-packages (from python-dateutil>=2.7.3->pandas) (1.16.0)\n",
      "Note: you may need to restart the kernel to use updated packages.\n"
     ]
    }
   ],
   "metadata": {}
  },
  {
   "cell_type": "code",
   "execution_count": 12,
   "source": [
    "pip install numexpr --upgrade --user"
   ],
   "outputs": [
    {
     "output_type": "stream",
     "name": "stdout",
     "text": [
      "Requirement already satisfied: numexpr in c:\\users\\fassg\\appdata\\roaming\\python\\python39\\site-packages (2.8.1)\n",
      "Requirement already satisfied: numpy>=1.13.3 in c:\\users\\fassg\\appdata\\local\\programs\\python\\python39\\lib\\site-packages (from numexpr) (1.21.2)\n",
      "Requirement already satisfied: packaging in c:\\users\\fassg\\appdata\\roaming\\python\\python39\\site-packages (from numexpr) (21.3)\n",
      "Requirement already satisfied: pyparsing!=3.0.5,>=2.0.2 in c:\\users\\fassg\\appdata\\local\\programs\\python\\python39\\lib\\site-packages (from packaging->numexpr) (3.0.4)\n",
      "Note: you may need to restart the kernel to use updated packages.\n"
     ]
    }
   ],
   "metadata": {}
  },
  {
   "cell_type": "code",
   "execution_count": 13,
   "source": [
    "pip install seaborn --upgrade --user"
   ],
   "outputs": [
    {
     "output_type": "stream",
     "name": "stdout",
     "text": [
      "Requirement already satisfied: seaborn in c:\\users\\fassg\\appdata\\roaming\\python\\python39\\site-packages (0.11.2)\n",
      "Requirement already satisfied: scipy>=1.0 in c:\\users\\fassg\\appdata\\roaming\\python\\python39\\site-packages (from seaborn) (1.7.3)\n",
      "Requirement already satisfied: matplotlib>=2.2 in c:\\users\\fassg\\appdata\\local\\programs\\python\\python39\\lib\\site-packages (from seaborn) (3.4.3)\n",
      "Requirement already satisfied: pandas>=0.23 in c:\\users\\fassg\\appdata\\roaming\\python\\python39\\site-packages (from seaborn) (1.3.5)\n",
      "Requirement already satisfied: numpy>=1.15 in c:\\users\\fassg\\appdata\\local\\programs\\python\\python39\\lib\\site-packages (from seaborn) (1.21.2)\n",
      "Requirement already satisfied: pyparsing>=2.2.1 in c:\\users\\fassg\\appdata\\local\\programs\\python\\python39\\lib\\site-packages (from matplotlib>=2.2->seaborn) (3.0.4)\n",
      "Requirement already satisfied: pillow>=6.2.0 in c:\\users\\fassg\\appdata\\local\\programs\\python\\python39\\lib\\site-packages (from matplotlib>=2.2->seaborn) (8.4.0)\n",
      "Requirement already satisfied: python-dateutil>=2.7 in c:\\users\\fassg\\appdata\\local\\programs\\python\\python39\\lib\\site-packages (from matplotlib>=2.2->seaborn) (2.8.2)\n",
      "Requirement already satisfied: cycler>=0.10 in c:\\users\\fassg\\appdata\\local\\programs\\python\\python39\\lib\\site-packages (from matplotlib>=2.2->seaborn) (0.11.0)\n",
      "Requirement already satisfied: kiwisolver>=1.0.1 in c:\\users\\fassg\\appdata\\local\\programs\\python\\python39\\lib\\site-packages (from matplotlib>=2.2->seaborn) (1.3.2)\n",
      "Requirement already satisfied: pytz>=2017.3 in c:\\users\\fassg\\appdata\\local\\programs\\python\\python39\\lib\\site-packages (from pandas>=0.23->seaborn) (2021.3)\n",
      "Requirement already satisfied: six>=1.5 in c:\\users\\fassg\\appdata\\local\\programs\\python\\python39\\lib\\site-packages (from python-dateutil>=2.7->matplotlib>=2.2->seaborn) (1.16.0)\n",
      "Note: you may need to restart the kernel to use updated packages.\n"
     ]
    }
   ],
   "metadata": {}
  },
  {
   "cell_type": "code",
   "execution_count": 14,
   "source": [
    "pip install scipy --upgrade --user"
   ],
   "outputs": [
    {
     "output_type": "stream",
     "name": "stdout",
     "text": [
      "Requirement already satisfied: scipy in c:\\users\\fassg\\appdata\\roaming\\python\\python39\\site-packages (1.7.3)\n",
      "Requirement already satisfied: numpy<1.23.0,>=1.16.5 in c:\\users\\fassg\\appdata\\local\\programs\\python\\python39\\lib\\site-packages (from scipy) (1.21.2)\n",
      "Note: you may need to restart the kernel to use updated packages.\n"
     ]
    }
   ],
   "metadata": {}
  },
  {
   "cell_type": "code",
   "execution_count": 15,
   "source": [
    "df = pd.read_csv(\"mkecallswheader.csv\")"
   ],
   "outputs": [],
   "metadata": {}
  },
  {
   "cell_type": "code",
   "execution_count": 19,
   "source": [
    "df.head(10)"
   ],
   "outputs": [
    {
     "output_type": "execute_result",
     "data": {
      "text/html": [
       "<div>\n",
       "<style scoped>\n",
       "    .dataframe tbody tr th:only-of-type {\n",
       "        vertical-align: middle;\n",
       "    }\n",
       "\n",
       "    .dataframe tbody tr th {\n",
       "        vertical-align: top;\n",
       "    }\n",
       "\n",
       "    .dataframe thead th {\n",
       "        text-align: right;\n",
       "    }\n",
       "</style>\n",
       "<table border=\"1\" class=\"dataframe\">\n",
       "  <thead>\n",
       "    <tr style=\"text-align: right;\">\n",
       "      <th></th>\n",
       "      <th>id</th>\n",
       "      <th>time</th>\n",
       "      <th>location</th>\n",
       "      <th>district</th>\n",
       "      <th>nature</th>\n",
       "      <th>status</th>\n",
       "      <th>inserted_at</th>\n",
       "      <th>updated_at</th>\n",
       "      <th>point</th>\n",
       "      <th>call_id</th>\n",
       "    </tr>\n",
       "  </thead>\n",
       "  <tbody>\n",
       "    <tr>\n",
       "      <th>0</th>\n",
       "      <td>2093116</td>\n",
       "      <td>2019-05-21 15:19:03</td>\n",
       "      <td>7420 W GOOD HOPE RD,MKE</td>\n",
       "      <td>4</td>\n",
       "      <td>ACC PI</td>\n",
       "      <td>Service in Progress</td>\n",
       "      <td>2019-05-21 20:51:09</td>\n",
       "      <td>2019-05-21 20:51:09</td>\n",
       "      <td>0101000020E6100000FC7C94111793454061D971683600...</td>\n",
       "      <td>191411633</td>\n",
       "    </tr>\n",
       "    <tr>\n",
       "      <th>1</th>\n",
       "      <td>2093127</td>\n",
       "      <td>2019-05-21 15:24:30</td>\n",
       "      <td>1421 N 27TH ST,MKE</td>\n",
       "      <td>3</td>\n",
       "      <td>TRAFFIC STOP</td>\n",
       "      <td>City Citation(s) Issued</td>\n",
       "      <td>2019-05-21 20:57:11</td>\n",
       "      <td>2019-05-21 20:57:11</td>\n",
       "      <td>0101000020E6100000D2AB014A4386454067C416CCA9FC...</td>\n",
       "      <td>191411672</td>\n",
       "    </tr>\n",
       "    <tr>\n",
       "      <th>2</th>\n",
       "      <td>2093141</td>\n",
       "      <td>2019-05-21 15:25:46</td>\n",
       "      <td>4054 N 71ST ST,MKE</td>\n",
       "      <td>7</td>\n",
       "      <td>SUBJ WANTED</td>\n",
       "      <td>Assignment Completed</td>\n",
       "      <td>2019-05-21 21:00:12</td>\n",
       "      <td>2019-05-21 21:00:12</td>\n",
       "      <td>0101000020E610000053FFC5D8AE8B45402CAE3B270700...</td>\n",
       "      <td>191411674</td>\n",
       "    </tr>\n",
       "    <tr>\n",
       "      <th>3</th>\n",
       "      <td>2093805</td>\n",
       "      <td>2019-05-21 20:46:28</td>\n",
       "      <td>245 W LINCOLN AV,MKE</td>\n",
       "      <td>2</td>\n",
       "      <td>SPECIAL ASSIGN</td>\n",
       "      <td>Service in Progress</td>\n",
       "      <td>2019-05-22 02:22:32</td>\n",
       "      <td>2019-05-22 02:22:32</td>\n",
       "      <td>0101000020E610000078ABF8D04F804540633ABE0779FA...</td>\n",
       "      <td>191412545</td>\n",
       "    </tr>\n",
       "    <tr>\n",
       "      <th>4</th>\n",
       "      <td>2093816</td>\n",
       "      <td>2019-05-21 20:50:03</td>\n",
       "      <td>1721 W CANAL ST,MKE</td>\n",
       "      <td>3</td>\n",
       "      <td>TRBL W/SUBJ</td>\n",
       "      <td>Unable to Locate Complainant</td>\n",
       "      <td>2019-05-22 02:25:33</td>\n",
       "      <td>2019-05-22 02:25:33</td>\n",
       "      <td>0101000020E6100000E8323509DE834540C3D7D7BAD4FB...</td>\n",
       "      <td>191412465</td>\n",
       "    </tr>\n",
       "    <tr>\n",
       "      <th>5</th>\n",
       "      <td>2093829</td>\n",
       "      <td>2019-05-21 21:02:37</td>\n",
       "      <td>E WRIGHT ST / N WEIL ST,MKE</td>\n",
       "      <td>5</td>\n",
       "      <td>PARK AND WALK</td>\n",
       "      <td>Service in Progress</td>\n",
       "      <td>2019-05-22 02:37:36</td>\n",
       "      <td>2019-05-22 02:37:36</td>\n",
       "      <td>0101000020E6100000DEF1DC312B88454059D878558CF9...</td>\n",
       "      <td>191412584</td>\n",
       "    </tr>\n",
       "    <tr>\n",
       "      <th>6</th>\n",
       "      <td>2093872</td>\n",
       "      <td>2019-05-21 20:50:47</td>\n",
       "      <td>9010 N 95TH ST,MKE</td>\n",
       "      <td>4</td>\n",
       "      <td>WELFARE CITIZEN</td>\n",
       "      <td>Advised</td>\n",
       "      <td>2019-05-22 02:52:43</td>\n",
       "      <td>2019-05-22 02:52:43</td>\n",
       "      <td>0101000020E6100000357D76C07597454080B4FF01D601...</td>\n",
       "      <td>191412544</td>\n",
       "    </tr>\n",
       "    <tr>\n",
       "      <th>7</th>\n",
       "      <td>2093887</td>\n",
       "      <td>2019-05-21 21:25:33</td>\n",
       "      <td>983 W ARTHUR AV,MKE</td>\n",
       "      <td>2</td>\n",
       "      <td>BATTERY DV</td>\n",
       "      <td>Service in Progress</td>\n",
       "      <td>2019-05-22 03:01:48</td>\n",
       "      <td>2019-05-22 03:01:48</td>\n",
       "      <td>0101000020E6100000BC033C69E17F454041ABDDC02EFB...</td>\n",
       "      <td>191412632</td>\n",
       "    </tr>\n",
       "    <tr>\n",
       "      <th>8</th>\n",
       "      <td>2093918</td>\n",
       "      <td>2019-05-21 21:36:05</td>\n",
       "      <td>4115 N 56TH ST,MKE</td>\n",
       "      <td>7</td>\n",
       "      <td>RETURN STATION</td>\n",
       "      <td>Assignment Completed</td>\n",
       "      <td>2019-05-22 03:16:51</td>\n",
       "      <td>2019-05-22 03:16:51</td>\n",
       "      <td>0101000020E610000014483FD0C08B45404EB747CAF1FE...</td>\n",
       "      <td>191412656</td>\n",
       "    </tr>\n",
       "    <tr>\n",
       "      <th>9</th>\n",
       "      <td>2093929</td>\n",
       "      <td>2019-05-21 21:45:53</td>\n",
       "      <td>7806 W HAMPTON AV,MKE</td>\n",
       "      <td>7</td>\n",
       "      <td>TRAFFIC STOP</td>\n",
       "      <td>Advised</td>\n",
       "      <td>2019-05-22 03:22:52</td>\n",
       "      <td>2019-05-22 03:22:52</td>\n",
       "      <td>0101000020E6100000F6F0C05B7B8D45404F34B4A69E00...</td>\n",
       "      <td>191412676</td>\n",
       "    </tr>\n",
       "  </tbody>\n",
       "</table>\n",
       "</div>"
      ],
      "text/plain": [
       "        id                 time                     location district  \\\n",
       "0  2093116  2019-05-21 15:19:03      7420 W GOOD HOPE RD,MKE        4   \n",
       "1  2093127  2019-05-21 15:24:30           1421 N 27TH ST,MKE        3   \n",
       "2  2093141  2019-05-21 15:25:46           4054 N 71ST ST,MKE        7   \n",
       "3  2093805  2019-05-21 20:46:28         245 W LINCOLN AV,MKE        2   \n",
       "4  2093816  2019-05-21 20:50:03          1721 W CANAL ST,MKE        3   \n",
       "5  2093829  2019-05-21 21:02:37  E WRIGHT ST / N WEIL ST,MKE        5   \n",
       "6  2093872  2019-05-21 20:50:47           9010 N 95TH ST,MKE        4   \n",
       "7  2093887  2019-05-21 21:25:33          983 W ARTHUR AV,MKE        2   \n",
       "8  2093918  2019-05-21 21:36:05           4115 N 56TH ST,MKE        7   \n",
       "9  2093929  2019-05-21 21:45:53        7806 W HAMPTON AV,MKE        7   \n",
       "\n",
       "            nature                        status          inserted_at  \\\n",
       "0           ACC PI           Service in Progress  2019-05-21 20:51:09   \n",
       "1     TRAFFIC STOP       City Citation(s) Issued  2019-05-21 20:57:11   \n",
       "2      SUBJ WANTED          Assignment Completed  2019-05-21 21:00:12   \n",
       "3   SPECIAL ASSIGN           Service in Progress  2019-05-22 02:22:32   \n",
       "4      TRBL W/SUBJ  Unable to Locate Complainant  2019-05-22 02:25:33   \n",
       "5    PARK AND WALK           Service in Progress  2019-05-22 02:37:36   \n",
       "6  WELFARE CITIZEN                       Advised  2019-05-22 02:52:43   \n",
       "7       BATTERY DV           Service in Progress  2019-05-22 03:01:48   \n",
       "8   RETURN STATION          Assignment Completed  2019-05-22 03:16:51   \n",
       "9     TRAFFIC STOP                       Advised  2019-05-22 03:22:52   \n",
       "\n",
       "            updated_at                                              point  \\\n",
       "0  2019-05-21 20:51:09  0101000020E6100000FC7C94111793454061D971683600...   \n",
       "1  2019-05-21 20:57:11  0101000020E6100000D2AB014A4386454067C416CCA9FC...   \n",
       "2  2019-05-21 21:00:12  0101000020E610000053FFC5D8AE8B45402CAE3B270700...   \n",
       "3  2019-05-22 02:22:32  0101000020E610000078ABF8D04F804540633ABE0779FA...   \n",
       "4  2019-05-22 02:25:33  0101000020E6100000E8323509DE834540C3D7D7BAD4FB...   \n",
       "5  2019-05-22 02:37:36  0101000020E6100000DEF1DC312B88454059D878558CF9...   \n",
       "6  2019-05-22 02:52:43  0101000020E6100000357D76C07597454080B4FF01D601...   \n",
       "7  2019-05-22 03:01:48  0101000020E6100000BC033C69E17F454041ABDDC02EFB...   \n",
       "8  2019-05-22 03:16:51  0101000020E610000014483FD0C08B45404EB747CAF1FE...   \n",
       "9  2019-05-22 03:22:52  0101000020E6100000F6F0C05B7B8D45404F34B4A69E00...   \n",
       "\n",
       "     call_id  \n",
       "0  191411633  \n",
       "1  191411672  \n",
       "2  191411674  \n",
       "3  191412545  \n",
       "4  191412465  \n",
       "5  191412584  \n",
       "6  191412544  \n",
       "7  191412632  \n",
       "8  191412656  \n",
       "9  191412676  "
      ]
     },
     "metadata": {},
     "execution_count": 19
    }
   ],
   "metadata": {}
  },
  {
   "cell_type": "code",
   "execution_count": 20,
   "source": [
    "df.info()"
   ],
   "outputs": [
    {
     "output_type": "stream",
     "name": "stdout",
     "text": [
      "<class 'pandas.core.frame.DataFrame'>\n",
      "RangeIndex: 4027695 entries, 0 to 4027694\n",
      "Data columns (total 10 columns):\n",
      " #   Column       Dtype \n",
      "---  ------       ----- \n",
      " 0   id           int64 \n",
      " 1   time         object\n",
      " 2   location     object\n",
      " 3   district     object\n",
      " 4   nature       object\n",
      " 5   status       object\n",
      " 6   inserted_at  object\n",
      " 7   updated_at   object\n",
      " 8   point        object\n",
      " 9   call_id      int64 \n",
      "dtypes: int64(2), object(8)\n",
      "memory usage: 307.3+ MB\n"
     ]
    }
   ],
   "metadata": {}
  },
  {
   "cell_type": "markdown",
   "source": [
    "https://mpd.digitalpublicworks.com/?start=2019-01-05T00:00:00-06:00&end=2019-01-05T23:59:59.999999-06:00"
   ],
   "metadata": {}
  }
 ],
 "metadata": {
  "kernelspec": {
   "name": "python3",
   "display_name": "Python 3.9.7 64-bit"
  },
  "language_info": {
   "codemirror_mode": {
    "name": "ipython",
    "version": 3
   },
   "file_extension": ".py",
   "mimetype": "text/x-python",
   "name": "python",
   "nbconvert_exporter": "python",
   "pygments_lexer": "ipython3",
   "version": "3.9.7"
  },
  "interpreter": {
   "hash": "1617da2f0a028b9e7fd5fffe443e8129e2ebb45766933769f8e579976b127668"
  }
 },
 "nbformat": 4,
 "nbformat_minor": 5
}